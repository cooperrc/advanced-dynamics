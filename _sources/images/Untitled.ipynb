{
 "cells": [
  {
   "cell_type": "code",
   "execution_count": 6,
   "id": "bbe18921-a15d-42c9-916e-416aea2116b2",
   "metadata": {},
   "outputs": [],
   "source": [
    "import sys\n",
    "sys.path.append('/home/ryan/bin/')"
   ]
  },
  {
   "cell_type": "code",
   "execution_count": 7,
   "id": "b776b36d-e74e-4b3a-bc13-5048535855c6",
   "metadata": {},
   "outputs": [],
   "source": [
    "import upload_imgur"
   ]
  },
  {
   "cell_type": "code",
   "execution_count": 8,
   "id": "396d7410-41d5-49ad-baa1-d9a5be600157",
   "metadata": {},
   "outputs": [
    {
     "name": "stdout",
     "output_type": "stream",
     "text": [
      "Uploaded with PyImgur\n",
      "https://i.imgur.com/Z7wpaQI.png\n",
      "20522\n",
      "image/png\n"
     ]
    },
    {
     "data": {
      "text/plain": [
       "<Image Z7wpaQI>"
      ]
     },
     "execution_count": 8,
     "metadata": {},
     "output_type": "execute_result"
    }
   ],
   "source": [
    "upload_imgur.upload_image('./jupyter-main.png')"
   ]
  },
  {
   "cell_type": "markdown",
   "id": "d0e2d3e3-2a36-423b-b8de-5e14b569178c",
   "metadata": {},
   "source": [
    "![jupyter-main page](https://i.imgur.com/ihJJBDs.png)"
   ]
  },
  {
   "cell_type": "markdown",
   "id": "544a4ee8-ae5d-426e-bf16-657bab9804fa",
   "metadata": {},
   "source": [
    "![new notebook](https://i.imgur.com/2Ij7NCs.png)"
   ]
  },
  {
   "cell_type": "code",
   "execution_count": 12,
   "id": "7eee156c-faf1-42cc-be1b-45629b33acfb",
   "metadata": {},
   "outputs": [
    {
     "name": "stdout",
     "output_type": "stream",
     "text": [
      "Cat Ying & Yang\n",
      "https://i.imgur.com/S1jmapR.jpg\n"
     ]
    }
   ],
   "source": [
    "import pyimgur\n",
    "CLIENT_ID = \"52e7e861d9c6b64\"\n",
    "im = pyimgur.Imgur(CLIENT_ID)\n",
    "image = im.get_image('S1jmapR')\n",
    "print(image.title) # Cat Ying & Yang\n",
    "print(image.link) # http://imgur.com/S1jmapR.jpg\n"
   ]
  },
  {
   "cell_type": "code",
   "execution_count": null,
   "id": "4c6a5b48-0ca6-4070-8999-e09d8eb2d67a",
   "metadata": {},
   "outputs": [],
   "source": []
  }
 ],
 "metadata": {
  "kernelspec": {
   "display_name": "Python 3 (ipykernel)",
   "language": "python",
   "name": "python3"
  },
  "language_info": {
   "codemirror_mode": {
    "name": "ipython",
    "version": 3
   },
   "file_extension": ".py",
   "mimetype": "text/x-python",
   "name": "python",
   "nbconvert_exporter": "python",
   "pygments_lexer": "ipython3",
   "version": "3.9.12"
  }
 },
 "nbformat": 4,
 "nbformat_minor": 5
}
