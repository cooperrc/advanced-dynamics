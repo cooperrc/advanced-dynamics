{
 "cells": [
  {
   "cell_type": "code",
   "execution_count": 4,
   "metadata": {},
   "outputs": [],
   "source": [
    "import numpy as np\n",
    "from numpy import sin,cos,pi\n",
    "from scipy.linalg import *\n",
    "from scipy.optimize import fsolve,root\n",
    "import matplotlib.pyplot as plt"
   ]
  },
  {
   "cell_type": "markdown",
   "metadata": {},
   "source": [
    "# Kinematics\n",
    "\n",
    "**Kinematics** is the study of the geometry of motion e.g. definitions of position, velocity, and acceleration\n",
    "\n",
    "In this notebook we will explore kinematically-driven systems where the system degrees of freedom, $n_{d}=0 = 3\\times n_b -n_c$, for planar problems. $n_b$ bodies moving in a plane have $3\\times n_b$ degrees of freedom and the number of constraints is $n_c$.\n",
    "\n",
    "![Coordinate system of rigid body](https://learning.oreilly.com/library/view/computational-dynamics-3rd/9780470686157/figs/0303.png)\n",
    "\n",
    "In the figure above, there are three position vectors, $\\mathbf{r}^{i}$, $\\mathbf{R}^{i}$, and $\\mathbf{u}^{i}$ and two coordinate systems, $X$-$Y$ and $X^{i}$-$Y^{i}$.\n",
    "\n",
    "The $X^{i}$-$Y^{i}$ coordinate system moves with the rigid body and the point P is always in a fixed position $\\mathbf{\\bar{u}}^{i}_{P}=\\bar{x}^{i}_{P}\\hat{i}^{i}+\\bar{y}^{i}_{P}\\hat{j}^{i}$ in this coordinate system. \n",
    "\n",
    "$\\mathbf{u}^{i}_{P} = \\left[ \\begin{array}{cc}\n",
    "\\cos \\theta^i & -\\sin \\theta^i \\\\\n",
    "\\sin \\theta^i & \\cos \\theta^i \\\\\n",
    "\\end{array} \\right]\n",
    "\\left[\\begin{array}{c} \n",
    "\\bar{x}^{i}_{P} \\\\ \n",
    "\\bar{y}^{i}_{P}\\end{array}\\right]$\n",
    "\n",
    "or\n",
    "\n",
    "$\\mathbf{u}_{P}^{i}=\\mathbf{A}^{i}\\mathbf{\\bar{u}}^{i}_{P}$"
   ]
  },
  {
   "cell_type": "markdown",
   "metadata": {},
   "source": [
    "## Problem 1\n",
    "\n",
    "Define a function of $\\theta^i$ that returns the array $\\mathbf{A}^i(\\theta^i)$."
   ]
  },
  {
   "cell_type": "code",
   "execution_count": 5,
   "metadata": {},
   "outputs": [],
   "source": [
    "def rotA(theta):\n",
    "    '''This function returns a 2x2 rotation matrix to convert the \n",
    "    rotated coordinate to the global coordinate system\n",
    "    input is angle in radians'''\n",
    "    A=np.zeros((2,2))\n",
    "    # your work here\n",
    "    \n",
    "    return A"
   ]
  },
  {
   "cell_type": "code",
   "execution_count": 6,
   "metadata": {},
   "outputs": [
    {
     "data": {
      "text/plain": [
       "array([[0., 0.],\n",
       "       [0., 0.]])"
      ]
     },
     "execution_count": 6,
     "metadata": {},
     "output_type": "execute_result"
    }
   ],
   "source": [
    "rotA(np.pi/4)\n"
   ]
  },
  {
   "cell_type": "markdown",
   "metadata": {},
   "source": [
    "![](https://learning.oreilly.com/library/view/computational-dynamics-3rd/9780470686157/figs/0335.png)\n",
    "\n",
    "![](https://learning.oreilly.com/library/view/computational-dynamics-3rd/9780470686157/figs/0336.png)\n",
    "\n",
    "Figs. 3.35-36 Slider crank mechanism and body coordinate systems."
   ]
  },
  {
   "cell_type": "markdown",
   "metadata": {},
   "source": [
    "# Computational Kinematics of Slider crank\n",
    "\n",
    "Here we will create the computational kinematics of the slider crank in Fig. 3.35-3.36 above.\n",
    "\n",
    "The first kinematic problem will be to drive the slider crank with a constant $\\dot{\\theta}^{2}$ constraint. \n",
    "\n",
    "Below we set up the function to return the constraint equations, \n",
    "\n",
    "$\\mathbf{C}(\\mathbf{q},t)$ = `C_slidercrank(q,t)`"
   ]
  },
  {
   "cell_type": "code",
   "execution_count": 7,
   "metadata": {},
   "outputs": [],
   "source": [
    "def links():\n",
    "    '''function to define lengths of links for bodies 2 and 3 \n",
    "    in Fig. 3.35-3.36'''\n",
    "    l2=0.075*2\n",
    "    l3=0.175*2\n",
    "    \n",
    "    return l2,l3\n",
    "\n",
    "def C_slidercrank(q,t):\n",
    "    '''12 constraint equations for 12 generalized coords\n",
    "       q=[R1x,R1y,a1,R2x,R2y,a2,R3x,R3y,a3,R4x,R4y,a4]\n",
    "       q=[R1,     a1,  R2,  ,a2,  R3,  ,a3,  R4,  ,a4]\n",
    "         [0,1     2    3,4   5    6,7   8    9,10  11]\n",
    "         \n",
    "          2/\\3\n",
    "          /  \\    slider-crank mechanism\n",
    "         1    4 \n",
    "        ^^^---------'''\n",
    "    #l2=1\n",
    "    #l3=1\n",
    "    l2,l3=links()\n",
    "    q=np.reshape(q,(12,-1))\n",
    "    C=np.zeros((12,1))\n",
    "    C[0:3]=q[0:3]\n",
    "    C[3:5]=q[3:5]+rotA(q[5][0])@np.array([[-l2/2],[0]])\n",
    "    C[5:7]=q[3:5]-q[6:8]+rotA(q[5][0])@np.array([[l2/2],[0]])-rotA(q[8][0])@np.array([[-l3/2],[0]])\n",
    "    C[7:9]=q[6:8]-q[9:11]+rotA(q[8][0])@np.array([[l3/2],[0]])-rotA(q[11][0])@np.array([[0],[0]])\n",
    "    C[9]=q[10]\n",
    "    C[10]=q[11]\n",
    "    C[11]=q[5]-pi/6-150*t\n",
    "    return C.reshape(12)\n"
   ]
  },
  {
   "cell_type": "markdown",
   "metadata": {},
   "source": [
    "Next, we set up the $12\\times 12$ Jacobian of \n",
    "\n",
    "1. each pin $\\mathbf{C_{q,~pin}}=\\frac{\\partial\\mathbf{C_{pin}}}{\\partial\\mathbf{q}}$=`Cq_pin`\n",
    "\n",
    "2. the total system: $\\mathbf{C_{q}}=\\frac{\\partial\\mathbf{C}}{\\partial\\mathbf{q}}$=`Cq_slidercrank`"
   ]
  },
  {
   "cell_type": "code",
   "execution_count": 8,
   "metadata": {},
   "outputs": [],
   "source": [
    "def A_theta(theta):\n",
    "    dAda=np.array([[-np.sin(theta), -np.cos(theta)],[np.cos(theta),-np.sin(theta)]])\n",
    "    return dAda\n",
    "\n",
    "def Cq_pin(u1,a1,u2,a2):\n",
    "    '''Jacobian of a pinned constraint for planar motion\n",
    "    inputs are positions of each body center, u1 and u2,\n",
    "    and each body angle, a1 and a2\n",
    "    In the generalized coordinates for body 1 and 2 they are inputs:\n",
    "    u1=R1=[x^1,y^1]\n",
    "    a1=theta^1\n",
    "    u2=R2=[x^2,y^2]\n",
    "    a2=theta^2'''\n",
    "    u1=np.reshape(u1,(2,-1))\n",
    "    u2=np.reshape(u2,(2,-1))\n",
    "    Cq_1=np.append(np.identity(2),A_theta(a1)@u1[0:2],axis=1)\n",
    "    Cq_2=np.append(-np.identity(2),-A_theta(a2)@u2[0:2],axis=1)\n",
    "    Cq_pin=np.append(Cq_1,Cq_2,axis=1)\n",
    "    return Cq_pin\n",
    "\n",
    "def Cq_slidercrank(q,t):\n",
    "    '''return Jacobian of C_slidercrank(q,t) = dC/dq_i\n",
    "       |dC1/dR1x dC1/dR1y ... dC12/da4 |\n",
    "       |dC2/dR1x dC2/dR1y ... dC12/da4 |\n",
    "       |... ..     .           ...     |\n",
    "       |            .                  |\n",
    "       |             .                 |\n",
    "       |dC12/dR1x ...         dC12/da4 |'''\n",
    "    #l2=1\n",
    "    #l3=1\n",
    "    l2,l3=links()\n",
    "    q=np.reshape(q,(12,-1))\n",
    "    Cq=np.zeros((12,12))\n",
    "    Cq[0:3,0:3]=np.identity(3)\n",
    "    Cq[3:5,0:6]=-Cq_pin(np.array([[0],[0]]),q[2][0],np.array([[-l2/2], [0]]),q[5][0])\n",
    "    Cq[5:7,3:9]=Cq_pin(np.array([[l2/2],[0]]),q[5][0],np.array([[-l3/2], [0]]),q[8][0])\n",
    "    Cq[7:9,6:12]=Cq_pin(np.array([[l3/2],[0]]),q[8][0],np.array([[0], [0]]),q[11][0])\n",
    "    Cq[9:11,10:12]=np.identity(2)\n",
    "    Cq[11,5]=1\n",
    "    return Cq"
   ]
  },
  {
   "cell_type": "markdown",
   "metadata": {},
   "source": [
    "Now, we solve for 1 full rotation of the driven crank. \n",
    "\n",
    "t= 0-360$^o$ = 0-2$\\pi$/150\n",
    "\n",
    "The solution requires an initial guess for the generalized coordinates, $\\mathbf{q}$, set as `q0`. It is updated at each timestep to find the next solution. "
   ]
  },
  {
   "cell_type": "code",
   "execution_count": 9,
   "metadata": {},
   "outputs": [
    {
     "name": "stderr",
     "output_type": "stream",
     "text": [
      "/opt/miniconda3/lib/python3.7/site-packages/scipy/optimize/minpack.py:162: RuntimeWarning: The iteration is not making good progress, as measured by the \n",
      "  improvement from the last ten iterations.\n",
      "  warnings.warn(msg, RuntimeWarning)\n"
     ]
    }
   ],
   "source": [
    "t=np.linspace(0,2*pi/150)\n",
    "q0=np.array([0,0,0, 0,0.5,pi/2, 0,0.5,-pi/3, 0,0,0])\n",
    "q=np.zeros((len(q0),len(t)))\n",
    "q[:,0]=q0\n",
    "for i,tt in enumerate(t):\n",
    "    q[:,i]=fsolve(lambda q: C_slidercrank(q,tt),q0,\\\n",
    "                    fprime= lambda q: Cq_slidercrank(q,tt))\n",
    "    q0=q[:,i]\n"
   ]
  },
  {
   "cell_type": "markdown",
   "metadata": {},
   "source": [
    "Now, we can create the same figures as Shabana ch 3\n",
    "\n",
    "![](https://learning.oreilly.com/library/view/computational-dynamics-3rd/9780470686157/figs/0337a.png)\n",
    "\n",
    "Fig. 3.37. Orientation of the connecting rod\n",
    "\n",
    "![](https://learning.oreilly.com/library/view/computational-dynamics-3rd/9780470686157/figs/0338a.png)\n",
    "\n",
    "Fig. 3.38. Displacement of the slider block"
   ]
  },
  {
   "cell_type": "code",
   "execution_count": null,
   "metadata": {},
   "outputs": [],
   "source": [
    "plt.plot(q[5,:],q[8,:])\n",
    "#plt.plot(t,q[5,:]/pi*180)"
   ]
  },
  {
   "cell_type": "markdown",
   "metadata": {},
   "source": [
    "# Problem 2\n",
    "\n",
    "Recreate the displacement of the slider block graph in Fig. 3.38 from our solution."
   ]
  },
  {
   "cell_type": "code",
   "execution_count": 8,
   "metadata": {},
   "outputs": [],
   "source": [
    "from __future__ import print_function\n",
    "from ipywidgets import interact, interactive, fixed, interact_manual\n",
    "import ipywidgets as widgets"
   ]
  },
  {
   "cell_type": "code",
   "execution_count": 9,
   "metadata": {},
   "outputs": [],
   "source": [
    "def plot_shape(shape,dims,q):\n",
    "    if shape=='link':\n",
    "        Px=q[0]+np.array([dims[0]/2*np.cos(q[-1]),-dims[0]/2*np.cos(q[-1])])\n",
    "        Py=q[1]+np.array([dims[0]/2*np.sin(q[-1]),-dims[0]/2*np.sin(q[-1])])\n",
    "        l,= plt.plot(Px,Py,'o-')\n",
    "        return l\n",
    "    elif shape=='base':\n",
    "        Px=q[0]\n",
    "        Py=q[1]\n",
    "        l,=plt.plot(Px,Py,'s',markersize=20)\n",
    "        return l\n",
    "    else:\n",
    "        print('choose a \\'link\\' or \\'base\\' please')\n",
    "        return 0\n",
    "\n",
    "def plot_qs(q,shapes,dims,i):\n",
    "    qi=q[:,i]\n",
    "    f=plt.figure()\n",
    "    if len(qi)/3 !=len(shapes):\n",
    "        print('len(q) is %i. It needs %i more shapes '%(len(qi),len(qi)/3-len(shapes)))\n",
    "    elif len(qi)/3==len(shapes):\n",
    "        for i,s in enumerate(shapes):\n",
    "            plot_shape(s,dims[i],qi[3*i:3*i+3])\n",
    "            plt.plot(q[3*i,:],q[3*i+1,:])\n",
    "        a=f.gca()\n",
    "        l2,l3=links()\n",
    "        plt.title('Angle 2 = %1.1f deg'%(qi[5]*180/pi))\n",
    "        plt.xlabel('X (m)')\n",
    "        plt.ylabel('Y (m)')\n",
    "        a.axis([-l2*1.1, (l2+l3)*1.1, -l2*1.5, l2*1.5])\n",
    "    #return f\n",
    "    \n",
    "    "
   ]
  },
  {
   "cell_type": "code",
   "execution_count": 10,
   "metadata": {},
   "outputs": [
    {
     "data": {
      "image/png": "[encoded data removed]",
      "text/plain": [
       "<Figure size 432x288 with 1 Axes>"
      ]
     },
     "metadata": {
      "needs_background": "light"
     },
     "output_type": "display_data"
    }
   ],
   "source": [
    "l2,l3=links()\n",
    "f=plot_qs(q,['base','link','link','base'],[[ ],[l2],[l3],[ ]],0)"
   ]
  },
  {
   "cell_type": "code",
   "execution_count": 11,
   "metadata": {},
   "outputs": [
    {
     "data": {
      "application/vnd.jupyter.widget-view+json": {
       "model_id": "61a2914044fc4789b947a5ddc95840de",
       "version_major": 2,
       "version_minor": 0
      },
      "text/plain": [
       "interactive(children=(IntSlider(value=24, description='i', max=49), Output()), _dom_classes=('widget-interact'…"
      ]
     },
     "metadata": {},
     "output_type": "display_data"
    },
    {
     "data": {
      "text/plain": [
       "<function __main__.<lambda>(i)>"
      ]
     },
     "execution_count": 11,
     "metadata": {},
     "output_type": "execute_result"
    }
   ],
   "source": [
    "interact(lambda i: plot_qs(q,['base','link','link','base'],[[ ],[l2],[l3],[ ]],i), i=(0,49))\n"
   ]
  },
  {
   "cell_type": "markdown",
   "metadata": {},
   "source": [
    "## Velocity and Acceleration\n",
    "\n",
    "Differentiating the constraint equations, $\\mathbf{Cq}=\\mathbf{0}$, \n",
    "\n",
    "$\\mathbf{C_q \\dot{q}}+\\mathbf{C}_t=\\mathbf{0}$ (3.119)\n",
    "\n",
    "where \n",
    "\n",
    "$\\mathbf{C}_t = \\left[\\frac{\\partial C_1}{\\partial t} \\frac{\\partial C_2}{\\partial t}\n",
    "... \\frac{\\partial C_n}{\\partial t}\\right]^T$ (3.120)\n",
    "\n",
    "Therefore, the velocity of each $\\mathbf{\\dot{q}_i}$ is solveed with\n",
    "\n",
    "$\\mathbf{C_q \\dot{q}}=-\\mathbf{C}_t$ (3.121)"
   ]
  },
  {
   "cell_type": "markdown",
   "metadata": {},
   "source": [
    "Differentiating $\\mathbf{Cq}=\\mathbf{0}$ twice leads to the acceleration equation\n",
    "\n",
    "$\\mathbf{C_q \\ddot{q}}+\n",
    "\\left(\\mathbf{C_q \\dot{q}}\\right)_{\\mathbf{q}}\\mathbf{\\dot{q}}+\n",
    "2\\mathbf{C}_{\\mathbf{q}t}\\mathbf{\\dot{q}}+\n",
    "\\mathbf{C}_{tt}=\\mathbf{0}$ (3.123)\n",
    "\n",
    "where the accelerations, $\\mathbf{\\ddot{q}_i}$ are solve with\n",
    "\n",
    "$\\mathbf{C_q \\ddot{q}}=\\mathbf{Q}_d$\n",
    "\n",
    "where \n",
    "\n",
    "$\\mathbf{Q}_d=-\\left(\\mathbf{C_q \\dot{q}}\\right)_{\\mathbf{q}}\\mathbf{\\dot{q}}-\n",
    "2\\mathbf{C}_{\\mathbf{q}t}\\mathbf{\\dot{q}}-\n",
    "\\mathbf{C}_{tt}$"
   ]
  },
  {
   "cell_type": "markdown",
   "metadata": {},
   "source": [
    "Here, we set up `vel_acc(q,t)` to return velocity and acceleration of $\\mathbf{q_{i}}$ components as $\\frac{d\\mathbf{q}}{dt}$ and $\\frac{d^2\\mathbf{q}}{dt^2}$ (`dq` and `ddq`, respectively)"
   ]
  },
  {
   "cell_type": "code",
   "execution_count": 194,
   "metadata": {},
   "outputs": [],
   "source": [
    "def vel_acc(q,t):\n",
    "    l2,l3=links()\n",
    "    Ct=np.zeros(q.shape)\n",
    "    Ct[-1]=150\n",
    "    dq=np.linalg.solve(Cq_slidercrank(q,t),Ct)\n",
    "    Qd=np.zeros(q.shape)\n",
    "    Qd[3:5]=np.reshape(dq[5]**2*rotA(q[5])@np.array([[-l2/2],[0]]),2)\n",
    "    Qd[5:7]=np.reshape(dq[5]**2*rotA(q[5])@np.array([[l2/2],[0]])-\\\n",
    "        dq[8]**2*rotA(q[8])@np.array([[-l3/2],[0]]),2)\n",
    "    Qd[7:9]=np.reshape(dq[8]**2*rotA(q[8])@np.array([[l3/2],[0]])-\\\n",
    "        dq[11]**2*rotA(q[11])@np.array([[0],[0]]),2)\n",
    "    ddq=np.linalg.solve(Cq_slidercrank(q,t),Qd)\n",
    "    return dq,ddq\n",
    "    "
   ]
  },
  {
   "cell_type": "code",
   "execution_count": 195,
   "metadata": {},
   "outputs": [],
   "source": [
    "qv=np.zeros(q.shape)\n",
    "qa=np.zeros(q.shape)\n",
    "for i in range(0,len(t)):\n",
    "    v,a=vel_acc(q[:,i],t[i])\n",
    "    qv[:,i]=v\n",
    "    qa[:,i]=a\n",
    "    "
   ]
  },
  {
   "cell_type": "code",
   "execution_count": 196,
   "metadata": {},
   "outputs": [
    {
     "data": {
      "text/plain": [
       "[<matplotlib.lines.Line2D at 0x7f3e8edca9e8>]"
      ]
     },
     "execution_count": 196,
     "metadata": {},
     "output_type": "execute_result"
    },
    {
     "data": {
      "image/png": "[encoded data removed]",
      "text/plain": [
       "<Figure size 432x288 with 1 Axes>"
      ]
     },
     "metadata": {
      "needs_background": "light"
     },
     "output_type": "display_data"
    }
   ],
   "source": [
    "#plt.plot(q[5,:],qv[8,:])\n",
    "plt.plot(q[5,:],qv[9,:])"
   ]
  },
  {
   "cell_type": "code",
   "execution_count": 197,
   "metadata": {},
   "outputs": [
    {
     "data": {
      "text/plain": [
       "[<matplotlib.lines.Line2D at 0x7f3e8e8c0860>]"
      ]
     },
     "execution_count": 197,
     "metadata": {},
     "output_type": "execute_result"
    },
    {
     "data": {
      "image/png": "[encoded data removed]",
      "text/plain": [
       "<Figure size 432x288 with 1 Axes>"
      ]
     },
     "metadata": {
      "needs_background": "light"
     },
     "output_type": "display_data"
    }
   ],
   "source": [
    "\n",
    "plt.plot(q[5,:],qa[9,:])"
   ]
  },
  {
   "cell_type": "markdown",
   "metadata": {},
   "source": [
    "# Problem 3\n",
    "\n",
    "Change the constraints for the slidercrank such that \n",
    "\n",
    "$R^4_x-f(t)=0$\n",
    "\n",
    "where\n",
    "\n",
    "$f(t)=0.35-0.8l^2\\sin150t$\n",
    "\n",
    "Recreate Figs. 3.43-3.48 for the slidercrank.\n",
    "\n",
    "![](https://learning.oreilly.com/library/view/computational-dynamics-3rd/9780470686157/figs/0340a.png)\n",
    "![](https://learning.oreilly.com/library/view/computational-dynamics-3rd/9780470686157/figs/0340b.png)\n",
    "\n",
    "![](https://learning.oreilly.com/library/view/computational-dynamics-3rd/9780470686157/figs/0341a.png)\n",
    "![](https://learning.oreilly.com/library/view/computational-dynamics-3rd/9780470686157/figs/0341b.png)\n",
    "\n",
    "![](https://learning.oreilly.com/library/view/computational-dynamics-3rd/9780470686157/figs/0342a.png)\n",
    "![](https://learning.oreilly.com/library/view/computational-dynamics-3rd/9780470686157/figs/0342b.png)"
   ]
  },
  {
   "cell_type": "code",
   "execution_count": null,
   "metadata": {},
   "outputs": [],
   "source": []
  }
 ],
 "metadata": {
  "kernelspec": {
   "display_name": "Python 3",
   "language": "python",
   "name": "python3"
  },
  "language_info": {
   "codemirror_mode": {
    "name": "ipython",
    "version": 3
   },
   "file_extension": ".py",
   "mimetype": "text/x-python",
   "name": "python",
   "nbconvert_exporter": "python",
   "pygments_lexer": "ipython3",
   "version": "3.7.4"
  }
 },
 "nbformat": 4,
 "nbformat_minor": 4
}
