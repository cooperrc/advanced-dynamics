{
 "cells": [
  {
   "cell_type": "markdown",
   "metadata": {},
   "source": [
    "# Homework #8\n",
    "\n",
    "## Problem 1\n",
    "\n",
    "![two bodies: sliding block and compound pendulum](../images/spring_compound-2_bodies.svg)"
   ]
  },
  {
   "cell_type": "markdown",
   "metadata": {},
   "source": [
    "For the system shown above, block one slides along the x-axis and is attached via a pin to a link, body 2. The system has the following characteristics, \n",
    "\n",
    "- $m^1 = 0.1~kg$\n",
    "- $k = 40~N/m$\n",
    "- $F_{spring} = -k(R_x^1-0.2)$\n",
    "- $l^2 = 1~m$\n",
    "- $m^2 = 1~kg$\n",
    "\n"
   ]
  },
  {
   "cell_type": "markdown",
   "metadata": {},
   "source": [
    "Use the __embedding technique__ to solve for the dynamic response for the system. Separate the generalized coordinates are separated into _dependent_ and _independent_ coordinates as such \n",
    "\n",
    "$\\mathbf{q} = [\\mathbf{q}_d,~\\mathbf{q}_i]$.\n",
    "\n",
    "- $\\mathbf{q}_d = [R_y^1,~\\theta^1,~R_x^2,~R_y^2]$\n",
    "- $\\mathbf{q}_i = [R_x^1,~\\theta^2]$\n",
    "\n",
    "This distinction creates two second order differential equations, where $n=3\\times(\\#~bodies)$ and $n_c=number~of~constraints$. The equations of motion are as such\n",
    "\n",
    "$\\mathbf{B^TMB +B^TM\\gamma-B^TQ_e = 0}$\n",
    "\n",
    "where, \n",
    "- $\\mathbf{B}=\\left[\\begin{array}{c}-\\mathbf{C_{q_d}^{-1}C_{q_i}} \\\\\\bar{I}\\end{array}\\right]$\n",
    "- $\\gamma = \\left[\\begin{array}{c}\n",
    "~\\mathbf{-C_{q_d}^{-1}[(C_q\\dot{q})_q\\dot{q}+2C_{qt}\\dot{q}+C_{tt}}] \\\\\n",
    "\\mathbf{0}\\end{array}\\right] = \\left[\\begin{array}{c}\n",
    "~\\mathbf{C_{q_d}^{-1}[Q_d]} \\\\\n",
    "\\mathbf{0}\\end{array}\\right]$\n",
    "- $\\mathbf{C_{q_d}}~and~\\mathbf{C_{q_i}}$ are the Jacobian of constraints for _dependent_ and _independent_ coordinates, respectively\n",
    "\n",
    "You will define the following functions:\n",
    "- `C_sys` the 4 constraint equations for the system\n",
    "- `Cq_sys` the Jacobian of the system `d C_sys/dq`\n",
    "- `Bi_link` the array $\\mathbf{B}$ that transforms $\\delta \\mathbf{q_i}$ to $\\delta \\mathbf{q}$\n",
    "- `eom_sys` the final equation of motion using the embedding technique"
   ]
  },
  {
   "cell_type": "markdown",
   "metadata": {},
   "source": [
    "### Define $\\mathbf{A}$ and $\\mathbf{A}_\\theta$\n",
    "\n",
    "Here, you create two functions to rotate from the body coordinate system at angle $\\theta$ to the global coordinate system. The derivate, $\\mathbf{A}_\\theta$ will be used in the Jacobian and equations of motion. "
   ]
  },
  {
   "cell_type": "code",
   "execution_count": 3,
   "metadata": {},
   "outputs": [],
   "source": [
    "def rotA(theta):\n",
    "    '''This function returns a 2x2 rotation matrix to convert the \n",
    "    rotated coordinate to the global coordinate system\n",
    "    input is angle in radians\n",
    "        \n",
    "    Parameters\n",
    "    ----------\n",
    "    theta : angle in radians\n",
    "    \n",
    "    Returns\n",
    "    -------\n",
    "    A : 2x2 array to rotate a coordinate system at angle theta to global x-y\n",
    "    '''\n",
    "    A=np.zeros((2,2))\n",
    "    A=np.array([[np.cos(theta), -np.sin(theta)],\n",
    "               [np.sin(theta), np.cos(theta)]])\n",
    "    \n",
    "    return A"
   ]
  },
  {
   "cell_type": "code",
   "execution_count": 4,
   "metadata": {},
   "outputs": [],
   "source": [
    "def A_theta(theta):\n",
    "    '''This function returns a 2x2 rotation matrix derivative \n",
    "    input is angle in radians\n",
    "        \n",
    "    Parameters\n",
    "    ----------\n",
    "    theta : angle in radians\n",
    "    \n",
    "    Returns\n",
    "    -------\n",
    "    dAda : 2x2 array derivative of `rotA`\n",
    "    '''\n",
    "    dAda=np.array([[-np.sin(theta), -np.cos(theta)],\n",
    "                   [np.cos(theta), -np.sin(theta)]])\n",
    "    return dAda"
   ]
  },
  {
   "cell_type": "markdown",
   "metadata": {},
   "source": [
    "Define Jacobian of pin constraint as `Cq_pin`."
   ]
  },
  {
   "cell_type": "code",
   "execution_count": 6,
   "metadata": {},
   "outputs": [],
   "source": [
    "def Cq_pin(qi, qj, ui, uj):\n",
    "    '''Jacobian of a pinned constraint for planar motion\n",
    "\n",
    "    Parameters\n",
    "    ----------\n",
    "    qi : generalized coordinates of the first body, i [Rxi, Ryi, thetai]\n",
    "    qj : generalized coordinates of the 2nd body, i [Rxj, Ryj, thetaj]\n",
    "    ui : position of the pin the body-i coordinate system\n",
    "    uj : position of the pin the body-j coordinate system\n",
    "        \n",
    "    Returns\n",
    "    -------\n",
    "    Cq_pin : 2 rows x 6 columns Jacobian of pin constraint Cpin\n",
    "    '''\n",
    "    \n",
    "    Cq_1=np.block([np.eye(2), A_theta(qi[2])@ui[:,np.newaxis] ])\n",
    "    Cq_2=np.block([-np.eye(2), -A_theta(qj[2])@uj[:,np.newaxis] ])\n",
    "    Cq_pin=np.block([Cq_1, Cq_2])\n",
    "    return Cq_pin"
   ]
  },
  {
   "cell_type": "markdown",
   "metadata": {},
   "source": [
    "![](https://learning.oreilly.com/library/view/computational-dynamics-3rd/9780470686157/figs/P605.png)\n",
    "\n",
    "## Problem 2\n",
    "\n",
    "Create the system of equations using the __augmented technique__. Solve these equations numerically using `solve_ivp` and plot the position and orientation of the links for one revolution of the crankshaft. Assume that $M^2$ = 10N-m, $F^4$ = 15N, $\\theta^2$ = 45$^o$, and $\\dot{\\theta}^2$=150 rad/s."
   ]
  },
  {
   "cell_type": "markdown",
   "metadata": {},
   "source": [
    "The __augmented technique__ is a generalized method to solve for the dynamic response in a system of moving parts. The system of _differential algebraic equations_ (DAE) are solve for all generalized coordinates and constraint forces in a system of equations, \n",
    "\n",
    "$\\left[\\begin{array}\n",
    "~\\mathbf{M} & \\mathbf{C_q}^T \\\\\n",
    "\\mathbf{C_q} & \\mathbf{0} \\end{array}\\right]\n",
    "\\left[\\begin{array}\n",
    "~\\mathbf{\\ddot{q}} \\\\\n",
    "\\mathbf{\\lambda}\\end{array}\\right]\n",
    "=\n",
    "\\left[\\begin{array}\n",
    "~\\mathbf{Q_e}  \\\\\n",
    "\\mathbf{Q_d}\\end{array}\\right]$\n",
    "\n",
    "\n",
    "- Plot the angles of the two connecting links and the position of the sliding block at point B. \n",
    "- Plot the reaction forces at O, A, and B. "
   ]
  },
  {
   "cell_type": "code",
   "execution_count": null,
   "metadata": {},
   "outputs": [],
   "source": []
  }
 ],
 "metadata": {
  "kernelspec": {
   "display_name": "Python 3",
   "language": "python",
   "name": "python3"
  },
  "language_info": {
   "codemirror_mode": {
    "name": "ipython",
    "version": 3
   },
   "file_extension": ".py",
   "mimetype": "text/x-python",
   "name": "python",
   "nbconvert_exporter": "python",
   "pygments_lexer": "ipython3",
   "version": "3.9.2"
  }
 },
 "nbformat": 4,
 "nbformat_minor": 4
}
