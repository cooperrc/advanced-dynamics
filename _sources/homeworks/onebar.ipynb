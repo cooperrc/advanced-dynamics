{
 "cells": [
  {
   "cell_type": "markdown",
   "metadata": {},
   "source": [
    "![pendulum](https://learning.oreilly.com/library/view/computational-dynamics-3rd/9780470686157/figs/0608.png)"
   ]
  },
  {
   "cell_type": "markdown",
   "metadata": {},
   "source": [
    "Import the libraries to solve the dynamics equations of motion"
   ]
  },
  {
   "cell_type": "code",
   "execution_count": 98,
   "metadata": {},
   "outputs": [],
   "source": [
    "import numpy as np\n",
    "from numpy import sin,cos,pi\n",
    "from scipy.linalg import *\n",
    "from scipy.optimize import fsolve,root\n",
    "from scipy.integrate import solve_ivp\n",
    "import matplotlib.pyplot as plt"
   ]
  },
  {
   "cell_type": "code",
   "execution_count": 99,
   "metadata": {},
   "outputs": [],
   "source": [
    "def setdefaults():\n",
    "  plt.rcParams.update({'font.size': 22})\n",
    "  plt.rcParams['lines.linewidth'] = 3"
   ]
  },
  {
   "cell_type": "code",
   "execution_count": 125,
   "metadata": {},
   "outputs": [],
   "source": [
    "setdefaults()"
   ]
  },
  {
   "cell_type": "markdown",
   "metadata": {},
   "source": [
    "Define some definitions for $A$, $A_\\theta$ and g"
   ]
  },
  {
   "cell_type": "code",
   "execution_count": 126,
   "metadata": {},
   "outputs": [],
   "source": [
    "def rotA(theta):\n",
    "    '''This function returns a 2x2 rotation matrix to convert the \n",
    "    rotated coordinate to the global coordinate system\n",
    "    input is angle in radians'''\n",
    "    A=np.zeros((2,2))\n",
    "    A=np.array([[np.cos(theta), -np.sin(theta)],\\\n",
    "                [np.sin(theta),np.cos(theta)]])\n",
    "    \n",
    "    return A\n",
    "\n",
    "def A_theta(theta):\n",
    "    dAda=np.array([[-np.sin(theta), -np.cos(theta)],[np.cos(theta),-np.sin(theta)]])\n",
    "    return dAda\n",
    "\n",
    "def g(system='ms'):\n",
    "    '''define gravity for m-s, ft-s,mm-s'''\n",
    "    if system=='ms':\n",
    "        return 9.81\n",
    "    elif system=='fts':\n",
    "        return 32.2\n",
    "    elif system=='mms':\n",
    "        return 9.81e3\n",
    "    else:\n",
    "        print('warning: system not defined yet, giving you 9.81 m/s/s')\n",
    "        return 9.81\n",
    "  "
   ]
  },
  {
   "cell_type": "markdown",
   "metadata": {},
   "source": [
    "Define constraint formed by a pin constraint"
   ]
  },
  {
   "cell_type": "code",
   "execution_count": 102,
   "metadata": {},
   "outputs": [],
   "source": [
    "def C_pin(q1,u1,q2,u2):\n",
    "    '''q1 is generalized coordinate of body 1 [R1x,R1y,theta1]\n",
    "       q2 is generalized coordinate of body 2 [R2x,R2y,theta2]'''\n",
    "    q1=q1.reshape(3,1)\n",
    "    q2=q2.reshape(3,1)\n",
    "    #print(rotA(q1[2,0])@u1)\n",
    "    #print(q1[0:2])\n",
    "    #print(q1[0:2]+rotA(q1[2,0])@u1)\n",
    "    Cpin=q1[0:2]+rotA(q1[2,0])@u1-q2[0:2]-rotA(q2[2,0])@u2\n",
    "    return Cpin"
   ]
  },
  {
   "cell_type": "code",
   "execution_count": 127,
   "metadata": {},
   "outputs": [
    {
     "data": {
      "text/plain": [
       "array([[-3.061617e-17],\n",
       "       [ 5.000000e-01]])"
      ]
     },
     "execution_count": 127,
     "metadata": {},
     "output_type": "execute_result"
    }
   ],
   "source": [
    "q0=np.array([0,1,np.pi/2])\n",
    "C_pin(q0[0:3],np.array([[-0.5],[0]]),np.array([[0],[0],[0]]),np.array([[0],[0]]))"
   ]
  },
  {
   "cell_type": "markdown",
   "metadata": {},
   "source": [
    "Define Jacobian of pin constraint"
   ]
  },
  {
   "cell_type": "code",
   "execution_count": 129,
   "metadata": {},
   "outputs": [],
   "source": [
    "def Cq_pin(u1,a1,u2,a2):\n",
    "    '''dR/dR = identity\n",
    "       dA/dtheta = Atheta'''\n",
    "    u1=np.reshape(u1,(2,-1))\n",
    "    u2=np.reshape(u2,(2,-1))\n",
    "    Cq_1=np.append(np.identity(2),A_theta(a1)@u1[0:2],axis=1)\n",
    "    Cq_2=np.append(-np.identity(2),-A_theta(a2)@u2[0:2],axis=1)\n",
    "    Cq_pin=np.append(Cq_1,Cq_2,axis=1)\n",
    "    return Cq_pin"
   ]
  },
  {
   "cell_type": "code",
   "execution_count": 105,
   "metadata": {},
   "outputs": [],
   "source": [
    "def C_bar(q,t,li):\n",
    "    C=np.zeros((2,1))\n",
    "    #print(C)\n",
    "    C=C_pin(q[0:3],np.array([[-li/2],[0]]),np.array([[0],[0],[0]]),np.array([[0],[0]]))\n",
    "    return C"
   ]
  },
  {
   "cell_type": "markdown",
   "metadata": {},
   "source": [
    "The bar uses the first three columns of the pin-constraint Jacobian \n",
    "\n",
    "(unless you add q1 for the ground link)"
   ]
  },
  {
   "cell_type": "code",
   "execution_count": 130,
   "metadata": {},
   "outputs": [],
   "source": [
    "def Cq_bar(q,t,li):\n",
    "    q=q.reshape(3,1)\n",
    "    Cq=Cq_pin(np.array([[-li/2],[0]]),q[2][0],np.array([[0],[0]]),0)\n",
    "    return Cq[0:2,0:3]"
   ]
  },
  {
   "cell_type": "markdown",
   "metadata": {},
   "source": [
    "$\\mathbf{B_i}=[-\\mathbf{C_{q_d}^{-1}C_{q_i}},~\\bar{I}]^T$"
   ]
  },
  {
   "cell_type": "code",
   "execution_count": 108,
   "metadata": {},
   "outputs": [],
   "source": [
    "def Bi_bar(q,t,li):\n",
    "    '''B.T*M*B-B.T*Qe = 0 '''\n",
    "    Cq = Cq_bar(q,t,li)\n",
    "    Cqd=Cq[0:2,0:2]\n",
    "    Cqi=Cq[0:2,2].reshape(2,1)\n",
    "    #print(-np.linalg.inv(Cqd)@Cqi)\n",
    "    Bi=np.vstack((-np.linalg.inv(Cqd)@Cqi,np.eye(1)))\n",
    "    return Bi"
   ]
  },
  {
   "cell_type": "markdown",
   "metadata": {},
   "source": [
    "Define equation of motion to return $\\dot{y}=[\\dot{\\theta}^2,~\\ddot{\\theta}^2]^T$ and $\\mathbf{q}$"
   ]
  },
  {
   "cell_type": "code",
   "execution_count": 110,
   "metadata": {},
   "outputs": [],
   "source": [
    "li=1\n",
    "q0=np.array([[li/2],[0],[0]])\n",
    "def eom_bar(t,y,li,mi):\n",
    "    global q0\n",
    "    q0[2]=y[0]\n",
    "    q=fsolve(lambda q: np.append(C_bar(q,t,li),q0[2]-y[0]).reshape(3,),q0, \\\n",
    "                  fprime= lambda q: np.vstack((Cq_bar(q,t,li),np.array([0,0,1]))))\n",
    "    q0=q\n",
    "    Bi=Bi_bar(q,t,li)\n",
    "    M=np.diag([mi,mi,mi*li**2/12])\n",
    "    Qe=np.array([[0],[-mi*g()],[0]])\n",
    "    dy=np.zeros(y.shape)\n",
    "    dy[0]=y[1]\n",
    "    dy[1]=solve(Bi.T@M@Bi,Bi.T@Qe)\n",
    "    return dy,q"
   ]
  },
  {
   "cell_type": "markdown",
   "metadata": {},
   "source": [
    "The `solve_ivp` only solves odes of the form `dy=f(t,y)` so we create an ode function that fits this form.\n",
    "\n",
    "Then, we can integrate and post-process."
   ]
  },
  {
   "cell_type": "code",
   "execution_count": 111,
   "metadata": {},
   "outputs": [],
   "source": [
    "li=1\n",
    "mi=1\n",
    "t=np.linspace(0,3)\n",
    "def ode_bar(t,y):\n",
    "    global li,mi\n",
    "    dy,q=eom_bar(t,y,li,mi)\n",
    "    return dy\n",
    "sol=solve_ivp(lambda t,y:ode_bar(t,y),t_span=[0,3],y0=[0,0],t_eval=t)"
   ]
  },
  {
   "cell_type": "code",
   "execution_count": 112,
   "metadata": {},
   "outputs": [
    {
     "data": {
      "text/plain": [
       "Text(0.5, 1.0, 'independent general coord theta')"
      ]
     },
     "execution_count": 112,
     "metadata": {},
     "output_type": "execute_result"
    },
    {
     "data": {
      "image/png": "[encoded data removed]",
      "text/plain": [
       "<Figure size 432x288 with 1 Axes>"
      ]
     },
     "metadata": {
      "needs_background": "light"
     },
     "output_type": "display_data"
    }
   ],
   "source": [
    "plt.plot(sol.t,sol.y[0]*180/np.pi)\n",
    "plt.xlabel('time (s)')\n",
    "plt.ylabel('angle (deg)')\n",
    "plt.title('independent general coord theta')"
   ]
  },
  {
   "cell_type": "markdown",
   "metadata": {},
   "source": [
    "We can plug in our solution `sol.y` for $\\mathbf{q}$ as a function of time to get the other generalized coordinates.\n",
    "\n"
   ]
  },
  {
   "cell_type": "code",
   "execution_count": 131,
   "metadata": {},
   "outputs": [],
   "source": [
    "q=np.zeros((3,len(t)))\n",
    "for i,tt in enumerate(t):\n",
    "    dy,qi=eom_bar(t,sol.y[:,i],li,mi)\n",
    "    q[:,i]=qi"
   ]
  },
  {
   "cell_type": "code",
   "execution_count": 132,
   "metadata": {},
   "outputs": [
    {
     "data": {
      "text/plain": [
       "Text(0.5, 1.0, 'path of link COM')"
      ]
     },
     "execution_count": 132,
     "metadata": {},
     "output_type": "execute_result"
    },
    {
     "data": {
      "image/png": "[encoded data removed]",
      "text/plain": [
       "<Figure size 432x288 with 1 Axes>"
      ]
     },
     "metadata": {
      "needs_background": "light"
     },
     "output_type": "display_data"
    }
   ],
   "source": [
    "plt.plot(q[0,:],q[1,:])\n",
    "plt.xlabel('x-position (m)')\n",
    "plt.ylabel('y-position (m)')\n",
    "plt.title('path of link COM')"
   ]
  },
  {
   "cell_type": "markdown",
   "metadata": {},
   "source": [
    "and even animate our results "
   ]
  },
  {
   "cell_type": "code",
   "execution_count": 133,
   "metadata": {},
   "outputs": [],
   "source": [
    "from __future__ import print_function\n",
    "from ipywidgets import interact, interactive, fixed, interact_manual\n",
    "import ipywidgets as widgets"
   ]
  },
  {
   "cell_type": "code",
   "execution_count": 134,
   "metadata": {},
   "outputs": [],
   "source": [
    "def plot_shape(shape,dims,q):\n",
    "    if shape=='link':\n",
    "        Px=q[0]+np.array([dims[0]/2*np.cos(q[-1]),-dims[0]/2*np.cos(q[-1])])\n",
    "        Py=q[1]+np.array([dims[0]/2*np.sin(q[-1]),-dims[0]/2*np.sin(q[-1])])\n",
    "        l,= plt.plot(Px,Py,'o-')\n",
    "        return l\n",
    "    elif shape=='base':\n",
    "        Px=q[0]\n",
    "        Py=q[1]\n",
    "        l,=plt.plot(Px,Py,'s',markersize=20)\n",
    "        return l\n",
    "    else:\n",
    "        print('choose a \\'link\\' or \\'base\\' please')\n",
    "        return 0\n",
    "\n",
    "def plot_qs(q,shapes,dims,i):\n",
    "    qi=q[:,i]\n",
    "    f=plt.figure()\n",
    "    if len(qi)/3 !=len(shapes):\n",
    "        print('len(q) is %i. It needs %i more shapes '%(len(qi),len(qi)/3-len(shapes)))\n",
    "    elif len(qi)/3==len(shapes):\n",
    "        for i,s in enumerate(shapes):\n",
    "            plot_shape(s,dims[i],qi[3*i:3*i+3])\n",
    "            plt.plot(q[3*i,:],q[3*i+1,:])\n",
    "        a=f.gca()\n",
    "        plt.title('Angle 2 = %1.1f deg'%(qi[2]*180/pi))\n",
    "        plt.xlabel('X (m)')\n",
    "        plt.ylabel('Y (m)')\n",
    "        a.axis([-1,1,-1,1])"
   ]
  },
  {
   "cell_type": "code",
   "execution_count": 135,
   "metadata": {},
   "outputs": [
    {
     "data": {
      "application/vnd.jupyter.widget-view+json": {
       "model_id": "fb6a242a94b3430b934afc831e4e3709",
       "version_major": 2,
       "version_minor": 0
      },
      "text/plain": [
       "interactive(children=(IntSlider(value=24, description='i', max=49), Output()), _dom_classes=('widget-interact'…"
      ]
     },
     "metadata": {},
     "output_type": "display_data"
    },
    {
     "data": {
      "text/plain": [
       "<function __main__.<lambda>(i)>"
      ]
     },
     "execution_count": 135,
     "metadata": {},
     "output_type": "execute_result"
    }
   ],
   "source": [
    "interact(lambda i: plot_qs(q,['link'],[[li]],i), i=(0,len(t)-1))"
   ]
  },
  {
   "cell_type": "code",
   "execution_count": null,
   "metadata": {},
   "outputs": [],
   "source": []
  }
 ],
 "metadata": {
  "kernelspec": {
   "display_name": "Python 3",
   "language": "python",
   "name": "python3"
  },
  "language_info": {
   "codemirror_mode": {
    "name": "ipython",
    "version": 3
   },
   "file_extension": ".py",
   "mimetype": "text/x-python",
   "name": "python",
   "nbconvert_exporter": "python",
   "pygments_lexer": "ipython3",
   "version": "3.7.4"
  }
 },
 "nbformat": 4,
 "nbformat_minor": 4
}
