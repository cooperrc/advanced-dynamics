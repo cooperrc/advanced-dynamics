{
 "cells": [
  {
   "cell_type": "code",
   "execution_count": 35,
   "metadata": {},
   "outputs": [],
   "source": [
    "import numpy as np\n",
    "from numpy import sin,cos,pi\n",
    "from scipy.linalg import *\n",
    "from scipy.optimize import fsolve,root\n",
    "import matplotlib.pyplot as plt"
   ]
  },
  {
   "cell_type": "markdown",
   "metadata": {},
   "source": [
    "![four bar](http://daerospace.com/wp-content/uploads/sites/4/2015/12/FBLDescFig1-1024x566.png)"
   ]
  },
  {
   "cell_type": "code",
   "execution_count": 36,
   "metadata": {},
   "outputs": [],
   "source": [
    "def rotA(theta):\n",
    "    '''This function returns a 2x2 rotation matrix to convert the \n",
    "    rotated coordinate to the global coordinate system\n",
    "    input is angle in radians'''\n",
    "    A=np.zeros((2,2))\n",
    "    A=np.array([[np.cos(theta), -np.sin(theta)],\\\n",
    "                [np.sin(theta),np.cos(theta)]])\n",
    "    \n",
    "    return A\n",
    "\n",
    "def A_theta(theta):\n",
    "    dAda=np.array([[-np.sin(theta), -np.cos(theta)],[np.cos(theta),-np.sin(theta)]])\n",
    "    return dAda"
   ]
  },
  {
   "cell_type": "code",
   "execution_count": 41,
   "metadata": {},
   "outputs": [
    {
     "data": {
      "text/plain": [
       "\u001b[0;31mSignature:\u001b[0m \u001b[0mrotA\u001b[0m\u001b[0;34m(\u001b[0m\u001b[0mtheta\u001b[0m\u001b[0;34m)\u001b[0m\u001b[0;34m\u001b[0m\u001b[0;34m\u001b[0m\u001b[0m\n",
       "\u001b[0;31mDocstring:\u001b[0m\n",
       "This function returns a 2x2 rotation matrix to convert the \n",
       "rotated coordinate to the global coordinate system\n",
       "input is angle in radians\n",
       "\u001b[0;31mFile:\u001b[0m      ~/Documents/UConn/ME5180/me5180_F2019/Computational_Dynamics/<ipython-input-36-f0394c24669e>\n",
       "\u001b[0;31mType:\u001b[0m      function\n"
      ]
     },
     "metadata": {},
     "output_type": "display_data"
    }
   ],
   "source": [
    "?rotA"
   ]
  },
  {
   "cell_type": "code",
   "execution_count": 204,
   "metadata": {},
   "outputs": [],
   "source": [
    "def C4B(q,t,l1,l2,l3,l4):\n",
    "    '''q=[r2x,r2y,a2,\n",
    "          r3x,r3y,a3,\n",
    "          r4x,r4y,a4]'''\n",
    "    q=np.reshape(q,(9,-1))\n",
    "    #print(rotA(q[8][0])@np.array([[1],[0]]))\n",
    "    C=np.zeros((9,1))\n",
    "    #C[0:2]=q[0:2]+rotA(q[2][0])@np.array([[-l2/2],[0]])\n",
    "    C[0:2]=C_pin(q[0:3],np.array([[-l2/2],[0]]),np.array([0,0,0]),np.array([[0],[0]]))\n",
    "    C[2:4]=q[0:2]+rotA(q[2][0])@np.array([[l2/2],[0]])\\\n",
    "    -q[3:5]-rotA(q[5][0])@np.array([[-l3/2],[0]])\n",
    "    C[4:6]=q[3:5]+rotA(q[5][0])@np.array([[l3/2],[0]])\\\n",
    "    -q[6:8]-rotA(q[8][0])@np.array([[l4/2],[0]])\n",
    "    C[6:8]=q[6:8]+rotA(q[8][0])@np.array([[-l4/2],[0]])\\\n",
    "    -np.array([[l1],[0]])\n",
    "    C[8]=q[2]-np.pi/2-np.arcsin(0.6)-1*t\n",
    "    return C.reshape(9)"
   ]
  },
  {
   "cell_type": "code",
   "execution_count": 235,
   "metadata": {},
   "outputs": [],
   "source": [
    "def C_pin(q1,u1,q2,u2):\n",
    "    '''q1 is generalized coordinate of body 1 [R1x,R1y,theta1]\n",
    "       q2 is generalized coordinate of body 2 [R2x,R2y,theta2]'''\n",
    "    q1=q1.reshape(3,1)\n",
    "    q2=q2.reshape(3,1)\n",
    "    print(rotA(q1[2,0])@u1)\n",
    "    print(q1[0:2,0])\n",
    "    print(q1[0:2,0].T+rotA(q1[2,0])@u1)\n",
    "    Cpin=q1[0:2,0]+rotA(q1[2,0])@u1-q2[0:2]-rotA(q2[2,0])@u2\n",
    "    return Cpin"
   ]
  },
  {
   "cell_type": "code",
   "execution_count": 237,
   "metadata": {},
   "outputs": [
    {
     "name": "stdout",
     "output_type": "stream",
     "text": [
      "[[ 0.3]\n",
      " [-0.4]]\n",
      "(2,)\n",
      "[[-29.7  40.3]\n",
      " [-30.4  39.6]]\n"
     ]
    },
    {
     "ename": "IndexError",
     "evalue": "too many indices for array",
     "output_type": "error",
     "traceback": [
      "\u001b[0;31m---------------------------------------------------------------------------\u001b[0m",
      "\u001b[0;31mIndexError\u001b[0m                                Traceback (most recent call last)",
      "\u001b[0;32m<ipython-input-237-fccb0270a17d>\u001b[0m in \u001b[0;36m<module>\u001b[0;34m\u001b[0m\n\u001b[0;32m----> 1\u001b[0;31m \u001b[0mC_pin\u001b[0m\u001b[0;34m(\u001b[0m\u001b[0mq0\u001b[0m\u001b[0;34m[\u001b[0m\u001b[0;36m0\u001b[0m\u001b[0;34m:\u001b[0m\u001b[0;36m3\u001b[0m\u001b[0;34m]\u001b[0m\u001b[0;34m,\u001b[0m\u001b[0mnp\u001b[0m\u001b[0;34m.\u001b[0m\u001b[0marray\u001b[0m\u001b[0;34m(\u001b[0m\u001b[0;34m[\u001b[0m\u001b[0;34m[\u001b[0m\u001b[0;34m-\u001b[0m\u001b[0;36m0.5\u001b[0m\u001b[0;34m]\u001b[0m\u001b[0;34m,\u001b[0m\u001b[0;34m[\u001b[0m\u001b[0;36m0\u001b[0m\u001b[0;34m]\u001b[0m\u001b[0;34m]\u001b[0m\u001b[0;34m)\u001b[0m\u001b[0;34m,\u001b[0m\u001b[0mnp\u001b[0m\u001b[0;34m.\u001b[0m\u001b[0marray\u001b[0m\u001b[0;34m(\u001b[0m\u001b[0;34m[\u001b[0m\u001b[0;34m[\u001b[0m\u001b[0;36m0\u001b[0m\u001b[0;34m]\u001b[0m\u001b[0;34m,\u001b[0m\u001b[0;34m[\u001b[0m\u001b[0;36m0\u001b[0m\u001b[0;34m]\u001b[0m\u001b[0;34m,\u001b[0m\u001b[0;34m[\u001b[0m\u001b[0;36m0\u001b[0m\u001b[0;34m]\u001b[0m\u001b[0;34m]\u001b[0m\u001b[0;34m)\u001b[0m\u001b[0;34m,\u001b[0m\u001b[0mnp\u001b[0m\u001b[0;34m.\u001b[0m\u001b[0marray\u001b[0m\u001b[0;34m(\u001b[0m\u001b[0;34m[\u001b[0m\u001b[0;34m[\u001b[0m\u001b[0;36m0\u001b[0m\u001b[0;34m]\u001b[0m\u001b[0;34m,\u001b[0m\u001b[0;34m[\u001b[0m\u001b[0;36m0\u001b[0m\u001b[0;34m]\u001b[0m\u001b[0;34m]\u001b[0m\u001b[0;34m)\u001b[0m\u001b[0;34m)\u001b[0m\u001b[0;34m\u001b[0m\u001b[0;34m\u001b[0m\u001b[0m\n\u001b[0m",
      "\u001b[0;32m<ipython-input-235-1f32cb539b21>\u001b[0m in \u001b[0;36mC_pin\u001b[0;34m(q1, u1, q2, u2)\u001b[0m\n\u001b[1;32m      7\u001b[0m     \u001b[0mprint\u001b[0m\u001b[0;34m(\u001b[0m\u001b[0mq1\u001b[0m\u001b[0;34m[\u001b[0m\u001b[0;36m0\u001b[0m\u001b[0;34m:\u001b[0m\u001b[0;36m2\u001b[0m\u001b[0;34m]\u001b[0m\u001b[0;34m.\u001b[0m\u001b[0mshape\u001b[0m\u001b[0;34m)\u001b[0m\u001b[0;34m\u001b[0m\u001b[0;34m\u001b[0m\u001b[0m\n\u001b[1;32m      8\u001b[0m     \u001b[0mprint\u001b[0m\u001b[0;34m(\u001b[0m\u001b[0mq1\u001b[0m\u001b[0;34m[\u001b[0m\u001b[0;36m0\u001b[0m\u001b[0;34m:\u001b[0m\u001b[0;36m2\u001b[0m\u001b[0;34m]\u001b[0m\u001b[0;34m+\u001b[0m\u001b[0mrotA\u001b[0m\u001b[0;34m(\u001b[0m\u001b[0mq1\u001b[0m\u001b[0;34m[\u001b[0m\u001b[0;36m2\u001b[0m\u001b[0;34m]\u001b[0m\u001b[0;34m)\u001b[0m\u001b[0;34m@\u001b[0m\u001b[0mu1\u001b[0m\u001b[0;34m)\u001b[0m\u001b[0;34m\u001b[0m\u001b[0;34m\u001b[0m\u001b[0m\n\u001b[0;32m----> 9\u001b[0;31m     \u001b[0mCpin\u001b[0m\u001b[0;34m=\u001b[0m\u001b[0mq1\u001b[0m\u001b[0;34m[\u001b[0m\u001b[0;36m0\u001b[0m\u001b[0;34m:\u001b[0m\u001b[0;36m2\u001b[0m\u001b[0;34m]\u001b[0m\u001b[0;34m+\u001b[0m\u001b[0mrotA\u001b[0m\u001b[0;34m(\u001b[0m\u001b[0mq1\u001b[0m\u001b[0;34m[\u001b[0m\u001b[0;36m2\u001b[0m\u001b[0;34m,\u001b[0m\u001b[0;36m0\u001b[0m\u001b[0;34m]\u001b[0m\u001b[0;34m)\u001b[0m\u001b[0;34m@\u001b[0m\u001b[0mu1\u001b[0m\u001b[0;34m-\u001b[0m\u001b[0mq2\u001b[0m\u001b[0;34m[\u001b[0m\u001b[0;36m0\u001b[0m\u001b[0;34m:\u001b[0m\u001b[0;36m2\u001b[0m\u001b[0;34m]\u001b[0m\u001b[0;34m-\u001b[0m\u001b[0mrotA\u001b[0m\u001b[0;34m(\u001b[0m\u001b[0mq2\u001b[0m\u001b[0;34m[\u001b[0m\u001b[0;36m2\u001b[0m\u001b[0;34m,\u001b[0m\u001b[0;36m0\u001b[0m\u001b[0;34m]\u001b[0m\u001b[0;34m)\u001b[0m\u001b[0;34m@\u001b[0m\u001b[0mu2\u001b[0m\u001b[0;34m\u001b[0m\u001b[0;34m\u001b[0m\u001b[0m\n\u001b[0m\u001b[1;32m     10\u001b[0m     \u001b[0;32mreturn\u001b[0m \u001b[0mCpin\u001b[0m\u001b[0;34m\u001b[0m\u001b[0;34m\u001b[0m\u001b[0m\n",
      "\u001b[0;31mIndexError\u001b[0m: too many indices for array"
     ]
    }
   ],
   "source": [
    "C_pin(q0[0:3],np.array([[-0.5],[0]]),np.array([[0],[0],[0]]),np.array([[0],[0]]))"
   ]
  },
  {
   "cell_type": "code",
   "execution_count": 224,
   "metadata": {},
   "outputs": [
    {
     "data": {
      "text/plain": [
       "array([[1., 2., 3., 4., 5.]])"
      ]
     },
     "execution_count": 224,
     "metadata": {},
     "output_type": "execute_result"
    }
   ],
   "source": [
    "f=np.zeros((1,5))\n",
    "f[0,0:6]=np.array([1,2,3,4,5])\n",
    "f"
   ]
  },
  {
   "cell_type": "code",
   "execution_count": 223,
   "metadata": {},
   "outputs": [
    {
     "data": {
      "text/plain": [
       "(1, 5)"
      ]
     },
     "execution_count": 223,
     "metadata": {},
     "output_type": "execute_result"
    }
   ],
   "source": [
    "f.shape"
   ]
  },
  {
   "cell_type": "code",
   "execution_count": 210,
   "metadata": {},
   "outputs": [
    {
     "data": {
      "text/plain": [
       "array([[-29.7],\n",
       "       [ 39.6]])"
      ]
     },
     "execution_count": 210,
     "metadata": {},
     "output_type": "execute_result"
    }
   ],
   "source": []
  },
  {
   "cell_type": "code",
   "execution_count": 211,
   "metadata": {},
   "outputs": [],
   "source": [
    "def Cq_pin(u1,a1,u2,a2):\n",
    "    '''dR/dR = identity\n",
    "       dA/dtheta = Atheta'''\n",
    "    u1=np.reshape(u1,(2,-1))\n",
    "    u2=np.reshape(u2,(2,-1))\n",
    "    Cq_1=np.append(np.identity(2),A_theta(a1)@u1[0:2],axis=1)\n",
    "    Cq_2=np.append(-np.identity(2),-A_theta(a2)@u2[0:2],axis=1)\n",
    "    Cq_pin=np.append(Cq_1,Cq_2,axis=1)\n",
    "    return Cq_pin\n",
    "\n",
    "def C4Bq(q,t,l1,l2,l3,l4):\n",
    "    '''q=[r1x,r1y,a1,\n",
    "      r2x,r2y,a2,\n",
    "      r3x,r3y,a3]'''\n",
    "    Cq=np.zeros((9,9))\n",
    "    q=np.reshape(q,(9,-1))\n",
    "    C20=-Cq_pin(np.array([[0],[0]]),0,np.array([[-l2/2], [0]]),q[2][0])\n",
    "    Cq[0:2,0:3]=C20[:,3:6]\n",
    "    Cq[2:4,0:6]=Cq_pin(np.array([[l2/2],[0]]),q[2][0],np.array([[-l3/2], [0]]),q[5][0])\n",
    "    Cq[4:6,3:9]=Cq_pin(np.array([[l3/2],[0]]),q[5][0],np.array([[l4/2], [0]]),q[8][0])\n",
    "    C4C=Cq_pin(np.array([[-l4/2],[0]]),q[8][0],np.array([[l1], [0]]),0)\n",
    "    Cq[6:8,6:9]=C4C[:,0:3]\n",
    "    Cq[8,2]=1\n",
    "    return Cq"
   ]
  },
  {
   "cell_type": "code",
   "execution_count": 212,
   "metadata": {},
   "outputs": [
    {
     "name": "stdout",
     "output_type": "stream",
     "text": [
      "[-7.10542736e-15 -7.10542736e-15 -7.38461538e+01 -3.07692308e+01\n",
      " -7.38461538e+01  9.23076923e+00  2.55000000e+02  4.00000000e+01\n",
      " -1.11022302e-16]\n"
     ]
    }
   ],
   "source": [
    "t=np.linspace(0,4*np.pi,1000)\n",
    "l1=-75\n",
    "l2=100\n",
    "l3=100\n",
    "l4=100\n",
    "#l1=l2=l3=l4=100\n",
    "q0=np.array([-30,40,np.pi/2+np.arcsin(0.6),60,130,np.arcsin(10/26),180,90,pi/2])\n",
    "print(C4B(q0,0,l1,l2,l3,l4))\n",
    "q=np.zeros((len(q0),len(t)))\n",
    "for i,tt in enumerate(t):\n",
    "    q[:,i]=fsolve(lambda q: C4B(q,tt,l1,l2,l3,l4),q0, \\\n",
    "                  fprime= lambda q: C4Bq(q,tt,l1,l2,l3,l4))\n",
    "    \n",
    "    q0=q[:,i]\n",
    "#C4B(q,0,1,1,1,1)"
   ]
  },
  {
   "cell_type": "code",
   "execution_count": 213,
   "metadata": {},
   "outputs": [
    {
     "data": {
      "text/plain": [
       "Text(0.5, 1.0, 'paths of link centers')"
      ]
     },
     "execution_count": 213,
     "metadata": {},
     "output_type": "execute_result"
    },
    {
     "data": {
      "image/png": "[encoded data removed]",
      "text/plain": [
       "<Figure size 432x288 with 1 Axes>"
      ]
     },
     "metadata": {
      "needs_background": "light"
     },
     "output_type": "display_data"
    }
   ],
   "source": [
    "plt.plot(q[0,:],q[1,:])\n",
    "plt.plot(q[3,:],q[4,:])\n",
    "plt.plot(q[6,:],q[7,:])\n",
    "plt.title('paths of link centers')"
   ]
  },
  {
   "cell_type": "code",
   "execution_count": 121,
   "metadata": {},
   "outputs": [
    {
     "data": {
      "text/plain": [
       "array([-3.55271368e-15,  0.00000000e+00, -2.30450325e-10,  1.39422696e-10,\n",
       "        2.47140974e-10,  1.93377758e-10,  4.77598405e-10,  5.39550626e-11,\n",
       "       -1.11022302e-16])"
      ]
     },
     "execution_count": 121,
     "metadata": {},
     "output_type": "execute_result"
    }
   ],
   "source": [
    "C4B(q[:,0],0,l1,l2,l3,l4)"
   ]
  },
  {
   "cell_type": "code",
   "execution_count": null,
   "metadata": {},
   "outputs": [],
   "source": []
  },
  {
   "cell_type": "code",
   "execution_count": 122,
   "metadata": {},
   "outputs": [],
   "source": [
    "from __future__ import print_function\n",
    "from ipywidgets import interact, interactive, fixed, interact_manual\n",
    "import ipywidgets as widgets"
   ]
  },
  {
   "cell_type": "code",
   "execution_count": 127,
   "metadata": {},
   "outputs": [],
   "source": [
    "def plot_shape(shape,dims,q):\n",
    "    if shape=='link':\n",
    "        Px=q[0]+np.array([dims[0]/2*np.cos(q[-1]),-dims[0]/2*np.cos(q[-1])])\n",
    "        Py=q[1]+np.array([dims[0]/2*np.sin(q[-1]),-dims[0]/2*np.sin(q[-1])])\n",
    "        l,= plt.plot(Px,Py,'o-')\n",
    "        return l\n",
    "    elif shape=='base':\n",
    "        Px=q[0]\n",
    "        Py=q[1]\n",
    "        l,=plt.plot(Px,Py,'s',markersize=20)\n",
    "        return l\n",
    "    else:\n",
    "        print('choose a \\'link\\' or \\'base\\' please')\n",
    "        return 0\n",
    "\n",
    "def plot_qs(q,shapes,dims,i):\n",
    "    qi=q[:,i]\n",
    "    f=plt.figure()\n",
    "    if len(qi)/3 !=len(shapes):\n",
    "        print('len(q) is %i. It needs %i more shapes '%(len(qi),len(qi)/3-len(shapes)))\n",
    "    elif len(qi)/3==len(shapes):\n",
    "        for i,s in enumerate(shapes):\n",
    "            p=plot_shape(s,dims[i],qi[3*i:3*i+3])\n",
    "            plt.plot(q[3*i,:],q[3*i+1,:]) # q[0], q[1] and q[3], q[4]  and q[6],q[7]\n",
    "        a=f.gca()\n",
    "        #l2,l3=links()\n",
    "        plt.title('Angle 2 = %1.1f deg'%(qi[5]*180/pi))\n",
    "        plt.xlabel('X (m)')\n",
    "        plt.ylabel('Y (m)')\n",
    "        #a.axis([2*np.min(q[:,0::3]),1.1*np.max(q[:,0::3]),\\\n",
    "        #        2*np.min(q[:,1::3]),1.1*np.max(q[:,1::3])])\n",
    "        a.axis([-150,150,-100,100])\n",
    "    #return p\n",
    "    \n",
    "    "
   ]
  },
  {
   "cell_type": "code",
   "execution_count": 128,
   "metadata": {},
   "outputs": [
    {
     "data": {
      "application/vnd.jupyter.widget-view+json": {
       "model_id": "1e94568033804c6f9ec13bb12511a4a6",
       "version_major": 2,
       "version_minor": 0
      },
      "text/plain": [
       "interactive(children=(IntSlider(value=499, description='i', max=999), Output()), _dom_classes=('widget-interac…"
      ]
     },
     "metadata": {},
     "output_type": "display_data"
    }
   ],
   "source": [
    "j=interact(lambda i: plot_qs(q,['link','link','link'],[[l2],[l3],[l4]],i),i=(0,1000-1))"
   ]
  },
  {
   "cell_type": "code",
   "execution_count": 27,
   "metadata": {},
   "outputs": [
    {
     "data": {
      "text/plain": [
       "array([126.86989765,  22.61986495,  90.        ])"
      ]
     },
     "execution_count": 27,
     "metadata": {},
     "output_type": "execute_result"
    }
   ],
   "source": [
    "q[2::3,0]*180/np.pi"
   ]
  },
  {
   "cell_type": "code",
   "execution_count": 28,
   "metadata": {},
   "outputs": [
    {
     "data": {
      "text/plain": [
       "array([-6.00000000e-01,  9.23076923e-01,  6.12323400e-17])"
      ]
     },
     "execution_count": 28,
     "metadata": {},
     "output_type": "execute_result"
    }
   ],
   "source": [
    "np.cos(q[2::3,0])"
   ]
  },
  {
   "cell_type": "code",
   "execution_count": 29,
   "metadata": {},
   "outputs": [
    {
     "data": {
      "text/plain": [
       "array([0.8       , 0.38461538, 1.        ])"
      ]
     },
     "execution_count": 29,
     "metadata": {},
     "output_type": "execute_result"
    }
   ],
   "source": [
    "np.sin(q[2::3,0])"
   ]
  },
  {
   "cell_type": "code",
   "execution_count": null,
   "metadata": {},
   "outputs": [],
   "source": []
  }
 ],
 "metadata": {
  "kernelspec": {
   "display_name": "Python 3",
   "language": "python",
   "name": "python3"
  },
  "language_info": {
   "codemirror_mode": {
    "name": "ipython",
    "version": 3
   },
   "file_extension": ".py",
   "mimetype": "text/x-python",
   "name": "python",
   "nbconvert_exporter": "python",
   "pygments_lexer": "ipython3",
   "version": "3.7.4"
  }
 },
 "nbformat": 4,
 "nbformat_minor": 4
}
