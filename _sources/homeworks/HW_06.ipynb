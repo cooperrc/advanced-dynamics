{
 "cells": [
  {
   "cell_type": "code",
   "execution_count": 1,
   "metadata": {},
   "outputs": [],
   "source": [
    "import numpy as np\n",
    "from scipy.linalg import *"
   ]
  },
  {
   "cell_type": "markdown",
   "metadata": {},
   "source": [
    "# Homework #6 - _work in progress_\n",
    "## Linear Algebra for Dynamics\n",
    "\n",
    "Equations of motion in Newtonian ($F=ma$) or Lagrangian ($\\frac{d}{dt}\\left(\\frac{\\partial L}{\\partial \\dot{x}_{i}}\\right)-\\frac{\\partial L}{\\partial x_i} = F_i$) are solved with Linear Algebra equations\n",
    "\n",
    "$\\mathbf{Ax}=\\mathbf{b}$ or $\\mathbf{Ax}=\\lambda \\mathbf{x}$\n",
    "\n",
    "Take the following matrix, saved as array `A`:"
   ]
  },
  {
   "cell_type": "code",
   "execution_count": 2,
   "metadata": {},
   "outputs": [
    {
     "data": {
      "text/plain": [
       "array([[ 1,  2,  3],\n",
       "       [ 4,  5,  6],\n",
       "       [ 7,  8,  9],\n",
       "       [10, 11, 12]])"
      ]
     },
     "execution_count": 2,
     "metadata": {},
     "output_type": "execute_result"
    }
   ],
   "source": [
    "A=np.array([[1,2,3],[4,5,6],[7,8,9],[10,11,12]])\n",
    "A"
   ]
  },
  {
   "cell_type": "markdown",
   "metadata": {},
   "source": [
    "A is an $m \\times n$ matrix where m=4 rows and n=3 columns"
   ]
  },
  {
   "cell_type": "code",
   "execution_count": 3,
   "metadata": {},
   "outputs": [
    {
     "data": {
      "text/plain": [
       "(4, 3)"
      ]
     },
     "execution_count": 3,
     "metadata": {},
     "output_type": "execute_result"
    }
   ],
   "source": [
    "np.shape(A)"
   ]
  },
  {
   "cell_type": "markdown",
   "metadata": {},
   "source": [
    "The tranpose of A is $3\\times 4$"
   ]
  },
  {
   "cell_type": "code",
   "execution_count": 4,
   "metadata": {},
   "outputs": [
    {
     "data": {
      "text/plain": [
       "array([[ 1,  4,  7, 10],\n",
       "       [ 2,  5,  8, 11],\n",
       "       [ 3,  6,  9, 12]])"
      ]
     },
     "execution_count": 4,
     "metadata": {},
     "output_type": "execute_result"
    }
   ],
   "source": [
    "A.T # <array>.T is the numpy method to transpose an array, for our purposes array == matrix"
   ]
  },
  {
   "cell_type": "markdown",
   "metadata": {},
   "source": [
    "## Problem 1\n",
    "\n",
    "Try making an array that is 2 rows $\\times$ 3 columns. Then take its transpose so it is 3 rows $\\times$ 2 columns"
   ]
  },
  {
   "cell_type": "code",
   "execution_count": null,
   "metadata": {},
   "outputs": [],
   "source": []
  },
  {
   "cell_type": "markdown",
   "metadata": {
    "slideshow": {
     "slide_type": "fragment"
    }
   },
   "source": [
    "## Matrices and vectors are sets of linear equations\n",
    "\n",
    "Representation of linear equations:\n",
    "\n",
    "1. $5x_{1}+3x_{2} =1$\n",
    "\n",
    "2. $x_{1}+2x_{2}+3x_{3} =2$\n",
    "\n",
    "3. $x_{1}+x_{2}+x_{3} =3$\n",
    "\n",
    "in matrix form:\n",
    "\n",
    "$\\left[ \\begin{array}{ccc}\n",
    "5 & 3 & 0 \\\\\n",
    "1 & 2 & 3 \\\\\n",
    "1 & 1 & 1 \\end{array} \\right]\n",
    "\\left[\\begin{array}{c} \n",
    "x_{1} \\\\ \n",
    "x_{2} \\\\\n",
    "x_{3}\\end{array}\\right]=\\left[\\begin{array}{c} \n",
    "1 \\\\\n",
    "2 \\\\\n",
    "3\\end{array}\\right]$\n",
    "\n",
    "$Ax=b$"
   ]
  },
  {
   "cell_type": "markdown",
   "metadata": {
    "slideshow": {
     "slide_type": "slide"
    }
   },
   "source": [
    "### Vectors "
   ]
  },
  {
   "cell_type": "markdown",
   "metadata": {
    "slideshow": {
     "slide_type": "subslide"
    }
   },
   "source": [
    "column vector x (length of 3):\n",
    "\n",
    "$\\left[\\begin{array}{c} \n",
    "x_{1} \\\\ \n",
    "x_{2} \\\\\n",
    "x_{3}\\end{array}\\right]$\n",
    "\n",
    "row vector y (length of 3):\n",
    "\n",
    "$\\left[ y_{1} y_{2} y_{3} \\right]$\n",
    "\n",
    "vector of length N:\n",
    "\n",
    "$\\left[\\begin{array}{c} \n",
    "x_{1} \\\\ \n",
    "x_{2} \\\\\n",
    "\\vdots  \\\\\n",
    "x_{N}\\end{array}\\right]$\n",
    "\n",
    "The $i^{th}$ element of x is $x_{i}$"
   ]
  },
  {
   "cell_type": "markdown",
   "metadata": {
    "slideshow": {
     "slide_type": "slide"
    }
   },
   "source": [
    "### Matrices"
   ]
  },
  {
   "cell_type": "markdown",
   "metadata": {
    "slideshow": {
     "slide_type": "fragment"
    }
   },
   "source": [
    "elements in the matrix are denoted $B_{row~column}$\n",
    "\n",
    "In general, matrix, B, can be any size, $M \\times N$ (M-rows and N-columns):\n",
    "\n",
    "$B=\\left[ \\begin{array}{cccc}\n",
    "B_{11} & B_{12} &...& B_{1N} \\\\\n",
    "B_{21} & B_{22} &...& B_{2N} \\\\\n",
    "\\vdots & \\vdots &\\ddots& \\vdots \\\\\n",
    "B_{M1} & B_{M2} &...& B_{MN}\\end{array} \\right]$"
   ]
  },
  {
   "cell_type": "markdown",
   "metadata": {
    "slideshow": {
     "slide_type": "slide"
    }
   },
   "source": [
    "## Multiplication"
   ]
  },
  {
   "cell_type": "markdown",
   "metadata": {
    "slideshow": {
     "slide_type": "fragment"
    }
   },
   "source": [
    "A column vector is a $1\\times N$ matrix and a row vector is a $M\\times 1$ matrix\n",
    "\n",
    "**Multiplying matrices is not commutative**\n",
    "\n",
    "$A B \\neq B A$\n",
    "\n",
    "Inner dimensions must agree, output is outer dimensions. \n",
    "\n",
    "A is $M1 \\times N1$ and B is $M2 \\times N2$\n",
    "\n",
    "C=AB\n",
    "\n",
    "Therefore N1=M2 and C is $M1 \\times N2$\n",
    "\n",
    "If $C'=BA$, then N2=M1 and C is $M2 \\times N1$"
   ]
  },
  {
   "cell_type": "markdown",
   "metadata": {
    "slideshow": {
     "slide_type": "subslide"
    }
   },
   "source": [
    "e.g. \n",
    "$A=\\left[ \\begin{array}{cc}\n",
    "5 & 3 & 0 \\\\\n",
    "1 & 2 & 3  \\end{array} \\right]$\n",
    "\n",
    "$B=\\left[ \\begin{array}{cccc}\n",
    "1 & 2 & 3 & 4 \\\\\n",
    "5 & 6 & 7 & 8 \\\\\n",
    "9 & 10 & 11 & 12 \\end{array} \\right]$\n",
    "\n",
    "C=AB\n",
    "\n",
    "$[2\\times 4] = [2 \\times 3][3 \\times 4]$"
   ]
  },
  {
   "cell_type": "markdown",
   "metadata": {
    "slideshow": {
     "slide_type": "subslide"
    }
   },
   "source": [
    "The rule for multiplying matrices, A and B, is\n",
    "\n",
    "$C_{ij} = \\sum_{k=1}^{n}A_{ik}B_{kj}$\n",
    "\n",
    "In the previous example, \n",
    "\n",
    "$C_{11} = A_{11}B_{11}+A_{12}B_{21}+A_{13}B_{31} = 5*1+3*5+0*9=20$\n",
    "\n",
    "\n",
    "Multiplication is associative:\n",
    "\n",
    "$(AB)C = A(BC)$\n",
    "\n",
    "and distributive:\n",
    "\n",
    "$A(B+C)=AB+AC$\n",
    "\n",
    "*Note: You can multiply matrices in Python with `@`*"
   ]
  },
  {
   "cell_type": "code",
   "execution_count": 6,
   "metadata": {},
   "outputs": [
    {
     "data": {
      "text/plain": [
       "array([[20, 28, 36, 44],\n",
       "       [38, 44, 50, 56]])"
      ]
     },
     "execution_count": 6,
     "metadata": {},
     "output_type": "execute_result"
    }
   ],
   "source": [
    "A=np.array([[5,3,0],[1,2,3]]) \n",
    "B=np.array([[1,2,3,4],[5,6,7,8],[9,10,11,12]])\n",
    "C=A@B # multiply AB\n",
    "C"
   ]
  },
  {
   "cell_type": "code",
   "execution_count": 8,
   "metadata": {},
   "outputs": [
    {
     "ename": "ValueError",
     "evalue": "shapes (3,4) and (2,3) not aligned: 4 (dim 1) != 2 (dim 0)",
     "output_type": "error",
     "traceback": [
      "\u001b[0;31m---------------------------------------------------------------------------\u001b[0m",
      "\u001b[0;31mValueError\u001b[0m                                Traceback (most recent call last)",
      "\u001b[0;32m<ipython-input-8-2b961c7386ac>\u001b[0m in \u001b[0;36m<module>\u001b[0;34m\u001b[0m\n\u001b[0;32m----> 1\u001b[0;31m \u001b[0mB\u001b[0m\u001b[0;34m@\u001b[0m\u001b[0mA\u001b[0m\u001b[0;34m\u001b[0m\u001b[0;34m\u001b[0m\u001b[0m\n\u001b[0m",
      "\u001b[0;31mValueError\u001b[0m: shapes (3,4) and (2,3) not aligned: 4 (dim 1) != 2 (dim 0)"
     ]
    }
   ],
   "source": [
    "B@A"
   ]
  },
  {
   "cell_type": "markdown",
   "metadata": {},
   "source": [
    "## Problem 2\n",
    "\n",
    "Given:\n",
    "\n",
    "$A=\\left[ \\begin{array}{cc}\n",
    "5 & 3 \\\\\n",
    "1 & 2 \\end{array} \\right]$\n",
    "\n",
    "$B=\\left[ \\begin{array}{cc}\n",
    "1 & 2 \\\\\n",
    "5 & 6 \\end{array} \\right]$\n",
    "\n",
    "$C=\\left[ \\begin{array}{cc}\n",
    "11 & 5 \\\\\n",
    "5 & 4 \\end{array} \\right]$\n",
    "\n",
    "Calculate $D1=A(B+C)$ and $D2=AB+AC$. Are they equal?"
   ]
  },
  {
   "cell_type": "code",
   "execution_count": 9,
   "metadata": {},
   "outputs": [],
   "source": [
    "A=np.array([[5,3],[1,2]])\n",
    "B=np.array([[1,2],[5,6]])\n",
    "C=np.array([[11,5],[5,4]])\n",
    "D1=A # replace with your algebra\n",
    "D2=B # replace with your algebra\n",
    "\n"
   ]
  },
  {
   "cell_type": "markdown",
   "metadata": {},
   "source": [
    "## Differentiation\n",
    "\n",
    "In many applications in mechanics, scalar and vector functions that depend on one or more variables are encountered. An example of a scalar function that depends on the system velocities and possibly on the system coordinates is the kinetic energy. Examples of vector functions are the coordinates, velocities, and accelerations that depend on time. Let us first consider a scalar function f that depends on several variables q1, q2, ... , and qn and the parameter t, such that\n",
    "\n",
    "![](https://learning.oreilly.com/library/view/computational-dynamics-3rd/9780470686157/figs/UEQ260.png)\n",
    "\n",
    "The total derivative $df/dt$ becomes\n",
    "\n",
    "![](https://learning.oreilly.com/library/view/computational-dynamics-3rd/9780470686157/figs/UEQ261.png)\n",
    "\n",
    "![](https://learning.oreilly.com/library/view/computational-dynamics-3rd/9780470686157/figs/UEQ263.png)\n",
    "\n",
    "Where $\\frac{\\partial f}{\\partial \\mathbf{q}}$ can be rewritten as\n",
    "\n",
    "![](https://learning.oreilly.com/library/view/computational-dynamics-3rd/9780470686157/figs/UEQ264.png)"
   ]
  },
  {
   "cell_type": "code",
   "execution_count": 10,
   "metadata": {},
   "outputs": [
    {
     "name": "stdout",
     "output_type": "stream",
     "text": [
      "upper triangular matrix, U:\n",
      "[[1 2 3]\n",
      " [0 4 5]\n",
      " [0 0 6]]\n",
      "lower triangular matrix, L:\n",
      "[[1 0 0]\n",
      " [2 3 0]\n",
      " [4 5 6]]\n",
      "diagonal matrix, D:\n",
      "[[1 0 0]\n",
      " [0 2 0]\n",
      " [0 0 3]]\n"
     ]
    }
   ],
   "source": [
    "U=np.array([[1,2,3],[0,4,5],[0,0,6]])\n",
    "L=np.array([[1,0,0],[2,3,0],[4,5,6]])\n",
    "D=np.diag([1,2,3])\n",
    "print('upper triangular matrix, U:')\n",
    "print(U)\n",
    "print('lower triangular matrix, L:')\n",
    "print(L)\n",
    "print('diagonal matrix, D:')\n",
    "print(D)"
   ]
  },
  {
   "cell_type": "markdown",
   "metadata": {},
   "source": [
    "## Problem 3\n",
    "Make a function that returns the partial derivative of $f(q_1,q_2,q_3,t)$ with respect to $\\mathbf{q}$\n",
    "\n",
    "$\\frac{\\partial f}{\\partial \\mathbf{q}}$\n",
    "\n",
    "![](https://learning.oreilly.com/library/view/computational-dynamics-3rd/9780470686157/figs/U02180.png)"
   ]
  },
  {
   "cell_type": "code",
   "execution_count": null,
   "metadata": {},
   "outputs": [],
   "source": [
    "def dfdq(q1,q2,q3,t):\n",
    "    # your work\n",
    "    return df"
   ]
  },
  {
   "cell_type": "markdown",
   "metadata": {},
   "source": [
    "Use your function `dfdq` to create a function that returns the total derivative of $f(q_1,q_2,q_3,t)$ with respect to $t$\n",
    "\n",
    "if $q_1(t) = 2t$, $q_2(t) = 5t$, and $q_3(t) = t^2$"
   ]
  },
  {
   "cell_type": "code",
   "execution_count": null,
   "metadata": {},
   "outputs": [],
   "source": [
    "def dfdt(q1,q2,q3,t):\n",
    "    df=dfdq(q1,q2,q3,t)\n",
    "    dfdt = # your work"
   ]
  },
  {
   "cell_type": "markdown",
   "metadata": {},
   "source": [
    "For a number of functions, $f_1$...$f_n$\n",
    "\n",
    "![](https://learning.oreilly.com/library/view/computational-dynamics-3rd/9780470686157/figs/UEQ265.png)\n",
    "\n",
    "The total derivative is a similar form\n",
    "\n",
    "![](https://learning.oreilly.com/library/view/computational-dynamics-3rd/9780470686157/figs/UEQ268.png)\n",
    "\n",
    "or\n",
    "\n",
    "![](https://learning.oreilly.com/library/view/computational-dynamics-3rd/9780470686157/figs/UEQ270.png)"
   ]
  },
  {
   "cell_type": "markdown",
   "metadata": {},
   "source": [
    "## Problem 4\n",
    "\n",
    "Create a function that returns $\\frac{\\partial \\mathbf{f}}{\\partial\\mathbf{q}}$ where $\\mathbf{f}$ is defined as\n",
    "\n",
    "![](https://learning.oreilly.com/library/view/computational-dynamics-3rd/9780470686157/figs/U02182.png)"
   ]
  },
  {
   "cell_type": "code",
   "execution_count": 17,
   "metadata": {},
   "outputs": [],
   "source": [
    "def dfdq2(q,t):\n",
    "    '''Here q=[q1,q2,q3] and t = time'''\n",
    "    # your work here\n",
    "    return df"
   ]
  },
  {
   "cell_type": "markdown",
   "metadata": {},
   "source": [
    "Use your `dfdq2` to calculate $\\frac{\\partial \\mathbf{f}}{\\partial\\mathbf{q}}$ when \n",
    "\n",
    "q=[1,3,5], and t=3"
   ]
  },
  {
   "cell_type": "code",
   "execution_count": null,
   "metadata": {},
   "outputs": [],
   "source": [
    "q=np.array([1,3,5])\n",
    "t=3\n",
    "dfdq2(q,t)"
   ]
  },
  {
   "cell_type": "markdown",
   "metadata": {
    "slideshow": {
     "slide_type": "slide"
    }
   },
   "source": [
    "## Inverse of matrices\n",
    "\n",
    "The inverse of a square matrix, $A^{-1}$ is defined such that\n",
    "\n",
    "$A^{-1}A=I=AA^{-1}$\n",
    "\n",
    "Not all square matrices have an inverse, they can be *singular* or *non-invertible*\n",
    "\n",
    "The inverse has the following properties:\n",
    "\n",
    "1. $(A^{-1})^{-1}=A$\n",
    "\n",
    "2. $(AB)^{-1}=B^{-1}A^{-1}$\n",
    "\n",
    "3. $(A^{-1})^{T}=(A^{T})^{-1}$"
   ]
  },
  {
   "cell_type": "code",
   "execution_count": 23,
   "metadata": {
    "collapsed": false,
    "slideshow": {
     "slide_type": "slide"
    }
   },
   "outputs": [
    {
     "data": {
      "text/plain": [
       "array([[ 0.83903637,  0.95519158,  0.87838041],\n",
       "       [ 0.21225564,  0.52418928,  0.40616784],\n",
       "       [ 0.41515938,  0.60496483,  0.33538345]])"
      ]
     },
     "execution_count": 23,
     "metadata": {},
     "output_type": "execute_result"
    }
   ],
   "source": [
    "A=np.random.rand(3,3)\n",
    "A"
   ]
  },
  {
   "cell_type": "code",
   "execution_count": 24,
   "metadata": {
    "collapsed": false,
    "slideshow": {
     "slide_type": "fragment"
    }
   },
   "outputs": [
    {
     "data": {
      "text/plain": [
       "array([[ 0.83903637,  0.95519158,  0.87838041],\n",
       "       [ 0.21225564,  0.52418928,  0.40616784],\n",
       "       [ 0.41515938,  0.60496483,  0.33538345]])"
      ]
     },
     "execution_count": 24,
     "metadata": {},
     "output_type": "execute_result"
    }
   ],
   "source": [
    "Ainv=inv(A)\n",
    "inv(Ainv)"
   ]
  },
  {
   "cell_type": "code",
   "execution_count": 25,
   "metadata": {
    "collapsed": false,
    "slideshow": {
     "slide_type": "subslide"
    }
   },
   "outputs": [],
   "source": [
    "B=np.random.rand(3,3)"
   ]
  },
  {
   "cell_type": "code",
   "execution_count": 28,
   "metadata": {
    "collapsed": false,
    "slideshow": {
     "slide_type": "subslide"
    }
   },
   "outputs": [
    {
     "name": "stdout",
     "output_type": "stream",
     "text": [
      "[[  0.87541541  13.78363834 -12.51006185]\n",
      " [ -6.11152277   0.58933049  11.584662  ]\n",
      " [  3.98292025 -21.36975167  10.25888862]]\n",
      "==\n",
      "[[  0.87541541  13.78363834 -12.51006185]\n",
      " [ -6.11152277   0.58933049  11.584662  ]\n",
      " [  3.98292025 -21.36975167  10.25888862]]\n"
     ]
    },
    {
     "data": {
      "text/plain": [
       "array([[ 1.59063851, -2.21686873,  2.02979345],\n",
       "       [-4.8013847 ,  1.89451293,  2.52614192],\n",
       "       [ 1.64880637,  3.51169338, -5.39373194]])"
      ]
     },
     "execution_count": 28,
     "metadata": {},
     "output_type": "execute_result"
    }
   ],
   "source": [
    "print(inv(np.dot(A,B)))\n",
    "print('==')\n",
    "print(np.dot(inv(B),inv(A)))\n",
    "\n",
    "inv(A.T)\n",
    "\n",
    "inv(A).T"
   ]
  },
  {
   "cell_type": "markdown",
   "metadata": {
    "slideshow": {
     "slide_type": "slide"
    }
   },
   "source": [
    "### Orthogonal Matrices\n",
    "\n",
    "Vectors are *orthogonal* if $x^{T}$ y=0, and a vector is *normalized* if $||x||_{2}=1$. A\n",
    "square matrix is *orthogonal* if all its column vectors are orthogonal to each other and\n",
    "normalized. The column vectors are then called *orthonormal* and the following results\n",
    "\n",
    "$U^{T}U=I=UU^{T}$\n",
    "\n",
    "and \n",
    "\n",
    "$||Ux||_{2}=||x||_{2}$"
   ]
  },
  {
   "cell_type": "markdown",
   "metadata": {
    "slideshow": {
     "slide_type": "slide"
    }
   },
   "source": [
    "### Determinant\n",
    "\n",
    "The **determinant** of a matrix has 3 properties\n",
    "\n",
    "1\\. The determinant of the identity matrix is one, $|I|=1$\n",
    "\n",
    "2\\. If you multiply a single row by scalar $t$ then the determinant is $t|A|$:\n",
    "\n",
    "$t|A|=\\left[ \\begin{array}{cccc}\n",
    "tA_{11} & tA_{12} &...& tA_{1N} \\\\\n",
    "A_{21} & A_{22} &...& A_{2N} \\\\\n",
    "\\vdots & \\vdots &\\ddots& \\vdots \\\\\n",
    "A_{M1} & A_{M2} &...& A_{MN}\\end{array} \\right]$"
   ]
  },
  {
   "cell_type": "markdown",
   "metadata": {
    "slideshow": {
     "slide_type": "subslide"
    }
   },
   "source": [
    "## Determinant (con'd)\n",
    "3\\. If you switch 2 rows, the determinant changes sign:\n",
    "$-|A|=\\left[ \\begin{array}{cccc}\n",
    "A_{21} & A_{22} &...& A_{2N} \\\\\n",
    "A_{11} & A_{12} &...& A_{1N} \\\\\n",
    "\\vdots & \\vdots &\\ddots& \\vdots \\\\\n",
    "A_{M1} & A_{M2} &...& A_{MN}\\end{array} \\right]$"
   ]
  },
  {
   "cell_type": "markdown",
   "metadata": {
    "slideshow": {
     "slide_type": "subslide"
    }
   },
   "source": [
    "## Determinant (con'd)\n",
    "4\\. inverse of the determinant is the determinant of the inverse:\n",
    "\n",
    "$|A^{-1}|=\\frac{1}{|A|}=|A|^{-1}$"
   ]
  },
  {
   "cell_type": "markdown",
   "metadata": {
    "slideshow": {
     "slide_type": "subslide"
    }
   },
   "source": [
    "## Calculating the Determinant\n",
    "For a $2\\times2$ matrix, \n",
    "\n",
    "$|A|=\\left|\\left[ \\begin{array}{cc}\n",
    "A_{11} & A_{12} \\\\\n",
    "A_{21} & A_{22} \\\\\n",
    "\\end{array} \\right]\\right| = A_{11}A_{22}-A_{21}A_{12}$\n",
    "\n",
    "For a $3\\times3$ matrix,\n",
    "\n",
    "$|A|=\\left|\\left[ \\begin{array}{ccc}\n",
    "A_{11} & A_{12} & A_{13} \\\\\n",
    "A_{21} & A_{22} & A_{23} \\\\\n",
    "A_{31} & A_{32} & A_{33}\\end{array} \\right]\\right|=$\n",
    "\n",
    "$A_{11}A_{22}A_{33}+A_{12}A_{23}A_{31}+A_{13}A_{21}A_{32}\n",
    "-A_{31}A_{22}A_{13}-A_{32}A_{23}A_{11}-A_{33}A_{21}A_{12}$"
   ]
  },
  {
   "cell_type": "markdown",
   "metadata": {
    "slideshow": {
     "slide_type": "fragment"
    }
   },
   "source": [
    "For larger matrices, the determinant is more involved"
   ]
  },
  {
   "cell_type": "markdown",
   "metadata": {
    "slideshow": {
     "slide_type": "slide"
    }
   },
   "source": [
    "### Special Case for determinants\n",
    "\n",
    "The determinant of a diagonal matrix $|D|=D_{11}D_{22}D_{33}...D_{NN}$. \n",
    "\n",
    "Similarly, if a matrix is upper triangular (so all values of $A_{ij}=0$ when $j<i$), the\n",
    "determinant is \n",
    "\n",
    "$|A|=\\left|\\left[ \\begin{array}{cccc}\n",
    "A_{11} & A_{12} &...& A_{1N} \\\\\n",
    "0 & A_{22} &...& A_{2N} \\\\\n",
    "0 & 0 &\\ddots & \\vdots \\\\\n",
    "0 & 0 &...& A_{NN}\\end{array} \\right]\\right|=A_{11}A_{22}A_{33}...A_{NN}$"
   ]
  },
  {
   "cell_type": "markdown",
   "metadata": {},
   "source": [
    "![eqn](https://learning.oreilly.com/library/view/computational-dynamics-3rd/9780470686157/figs/UEQ212.png)"
   ]
  },
  {
   "cell_type": "markdown",
   "metadata": {},
   "source": [
    "## Problem 5\n",
    "\n",
    "Find the sum $A+B$, the determinants, $|A|$ and $|B|$,  trace\\($A$\\), and trace\\($B$\\)\n",
    "\n",
    "![](https://learning.oreilly.com/library/view/computational-dynamics-3rd/9780470686157/figs/U02173.png)"
   ]
  },
  {
   "cell_type": "code",
   "execution_count": 14,
   "metadata": {},
   "outputs": [],
   "source": [
    "# your work here"
   ]
  }
 ],
 "metadata": {
  "kernelspec": {
   "display_name": "Python 3",
   "language": "python",
   "name": "python3"
  },
  "language_info": {
   "codemirror_mode": {
    "name": "ipython",
    "version": 3
   },
   "file_extension": ".py",
   "mimetype": "text/x-python",
   "name": "python",
   "nbconvert_exporter": "python",
   "pygments_lexer": "ipython3",
   "version": "3.7.3"
  }
 },
 "nbformat": 4,
 "nbformat_minor": 2
}
