{
 "cells": [
  {
   "cell_type": "markdown",
   "metadata": {
    "nbgrader": {}
   },
   "source": [
    "# Homework_00 - Jupyter and Python\n",
    "We will be making heavy use of the Python library called NumPy. It is not included by default, so we first need to import it. Go ahead and run the following cell:"
   ]
  },
  {
   "cell_type": "code",
   "execution_count": 1,
   "metadata": {
    "collapsed": false,
    "jupyter": {
     "outputs_hidden": false
    },
    "nbgrader": {}
   },
   "outputs": [],
   "source": [
    "import numpy as np"
   ]
  },
  {
   "cell_type": "markdown",
   "metadata": {
    "nbgrader": {}
   },
   "source": [
    "Now, we have access to all NumPy functions via the variable `np` (this is the convention in the Scientific Python community for referring to NumPy). We can take a look at what this variable actually is, and see that it is in fact the `numpy` module (remember that you will need to have run the cell above before `np` will be defined!):"
   ]
  },
  {
   "cell_type": "code",
   "execution_count": 2,
   "metadata": {
    "collapsed": false,
    "jupyter": {
     "outputs_hidden": false
    },
    "nbgrader": {}
   },
   "outputs": [
    {
     "data": {
      "text/plain": [
       "<module 'numpy' from '/home/ryan/.conda/envs/work/lib/python3.9/site-packages/numpy/__init__.py'>"
      ]
     },
     "execution_count": 2,
     "metadata": {},
     "output_type": "execute_result"
    }
   ],
   "source": [
    "np"
   ]
  },
  {
   "cell_type": "markdown",
   "metadata": {
    "nbgrader": {}
   },
   "source": [
    "NumPy is incredibly powerful and has many features, but this can be a bit intimidating when you're first starting to use it. If you are familiar with other scientific computing languages, the following guides may be of use:\n",
    "* NumPy for Matlab Users: https://numpy.org/devdocs/user/numpy-for-matlab-users.html\n",
    "* NumPy for R (and S-Plus) Users: http://mathesaurus.sourceforge.net/r-numpy.html\n",
    "\n",
    "If not, don't worry! Here we'll go over the most common NumPy features."
   ]
  },
  {
   "cell_type": "markdown",
   "metadata": {
    "nbgrader": {}
   },
   "source": [
    "## Arrays and lists"
   ]
  },
  {
   "cell_type": "markdown",
   "metadata": {
    "nbgrader": {}
   },
   "source": [
    "The core component of NumPy is the `ndarray`, which is pronounced like \"N-D array\" (i.e., 1-D, 2-D, ..., N-D). We'll use both the terms `ndarray` and \"array\" interchangeably. For now, we're going to stick to just 1-D arrays -- we'll get to multidimensional arrays later."
   ]
  },
  {
   "cell_type": "markdown",
   "metadata": {
    "nbgrader": {}
   },
   "source": [
    "Arrays are very similar to `lists`. Let's first review how lists work. Remember that we can create them using square brackets:"
   ]
  },
  {
   "cell_type": "code",
   "execution_count": 3,
   "metadata": {
    "collapsed": false,
    "jupyter": {
     "outputs_hidden": false
    },
    "nbgrader": {}
   },
   "outputs": [
    {
     "data": {
      "text/plain": [
       "[3, 6, 1, 0, 10, 3]"
      ]
     },
     "execution_count": 3,
     "metadata": {},
     "output_type": "execute_result"
    }
   ],
   "source": [
    "mylist = [3, 6, 1, 0, 10, 3]\n",
    "mylist"
   ]
  },
  {
   "cell_type": "markdown",
   "metadata": {
    "nbgrader": {}
   },
   "source": [
    "And we can access an element via its *index*. To get the first element, we use an index of 0:"
   ]
  },
  {
   "cell_type": "code",
   "execution_count": 4,
   "metadata": {
    "collapsed": false,
    "jupyter": {
     "outputs_hidden": false
    },
    "nbgrader": {}
   },
   "outputs": [
    {
     "name": "stdout",
     "output_type": "stream",
     "text": [
      "The first element of 'mylist' is: 3\n"
     ]
    }
   ],
   "source": [
    "print(\"The first element of 'mylist' is: \" + str(mylist[0]))"
   ]
  },
  {
   "cell_type": "markdown",
   "metadata": {
    "nbgrader": {}
   },
   "source": [
    "To get the second element, we use an index of 1:"
   ]
  },
  {
   "cell_type": "code",
   "execution_count": 5,
   "metadata": {
    "collapsed": false,
    "jupyter": {
     "outputs_hidden": false
    },
    "nbgrader": {}
   },
   "outputs": [
    {
     "name": "stdout",
     "output_type": "stream",
     "text": [
      "The second element of 'mylist' is: 6\n"
     ]
    }
   ],
   "source": [
    "print(\"The second element of 'mylist' is: \" + str(mylist[1]))"
   ]
  },
  {
   "cell_type": "markdown",
   "metadata": {
    "nbgrader": {}
   },
   "source": [
    "And so on."
   ]
  },
  {
   "cell_type": "markdown",
   "metadata": {
    "nbgrader": {}
   },
   "source": [
    "Arrays work very similarly. The first way to create an array is from an already existing list:"
   ]
  },
  {
   "cell_type": "code",
   "execution_count": 6,
   "metadata": {
    "collapsed": false,
    "jupyter": {
     "outputs_hidden": false
    },
    "nbgrader": {}
   },
   "outputs": [
    {
     "data": {
      "text/plain": [
       "array([ 3,  6,  1,  0, 10,  3])"
      ]
     },
     "execution_count": 6,
     "metadata": {},
     "output_type": "execute_result"
    }
   ],
   "source": [
    "myarray = np.array(mylist) # equivalent to np.array([3, 6, 1, 0, 10, 3])\n",
    "myarray"
   ]
  },
  {
   "cell_type": "markdown",
   "metadata": {
    "nbgrader": {}
   },
   "source": [
    "<div class=\"alert alert-info\">\n",
    "Notice that <code>myarray</code> looks different than <code>mylist</code> -- it actually tells you that it's an array. If we take a look at the <i>types</i> of <code>mylist</code> and <code>myarray</code>, we will also see that one is a list and one is an array. Using <code>type</code> can be a very useful way to verify that your variables contain what you want them to contain:\n",
    "</div>"
   ]
  },
  {
   "cell_type": "code",
   "execution_count": 7,
   "metadata": {
    "collapsed": false,
    "jupyter": {
     "outputs_hidden": false
    },
    "nbgrader": {}
   },
   "outputs": [
    {
     "data": {
      "text/plain": [
       "list"
      ]
     },
     "execution_count": 7,
     "metadata": {},
     "output_type": "execute_result"
    }
   ],
   "source": [
    "# look at what type mylist is\n",
    "type(mylist)"
   ]
  },
  {
   "cell_type": "code",
   "execution_count": 8,
   "metadata": {
    "collapsed": false,
    "jupyter": {
     "outputs_hidden": false
    },
    "nbgrader": {}
   },
   "outputs": [
    {
     "data": {
      "text/plain": [
       "numpy.ndarray"
      ]
     },
     "execution_count": 8,
     "metadata": {},
     "output_type": "execute_result"
    }
   ],
   "source": [
    "# look at what type myarray is\n",
    "type(myarray)"
   ]
  },
  {
   "cell_type": "markdown",
   "metadata": {
    "nbgrader": {}
   },
   "source": [
    "We can get elements from a NumPy array in exactly the same way as we get elements from a list:"
   ]
  },
  {
   "cell_type": "code",
   "execution_count": 9,
   "metadata": {
    "collapsed": false,
    "jupyter": {
     "outputs_hidden": false
    },
    "nbgrader": {}
   },
   "outputs": [
    {
     "name": "stdout",
     "output_type": "stream",
     "text": [
      "The first element of 'myarray' is: 3\n",
      "The second element of 'myarray' is: 6\n"
     ]
    }
   ],
   "source": [
    "print(\"The first element of 'myarray' is: \" + str(myarray[0]))\n",
    "print(\"The second element of 'myarray' is: \" + str(myarray[1]))"
   ]
  },
  {
   "cell_type": "markdown",
   "metadata": {
    "nbgrader": {}
   },
   "source": [
    "## Array slicing"
   ]
  },
  {
   "cell_type": "markdown",
   "metadata": {
    "nbgrader": {}
   },
   "source": [
    "<div class=\"alert alert-info\">Also like lists, we can use \"slicing\" to get different parts of the array. Slices look like\n",
    "<code>myarray[a:b:c]</code>, where <code>a</code>, <code>b</code>, and <code>c</code> are all optional (though you have to specify at least one). <code>a</code> is the index of the beginning of the slice, <code>b</code> is the index of the end of the slice (exclusive), and <code>c</code> is the step size.\n",
    "</div>\n",
    "\n",
    "Note that the exclusive slice indexing described above is different than some other languages you may be familiar with, like Matlab and R. `myarray[1:2]` returns only the second elment in myarray in Python, instead of the first and second element. "
   ]
  },
  {
   "cell_type": "markdown",
   "metadata": {
    "nbgrader": {}
   },
   "source": [
    "First, let's quickly look at what is in our array and list (defined above), for reference:"
   ]
  },
  {
   "cell_type": "code",
   "execution_count": 10,
   "metadata": {
    "collapsed": false,
    "jupyter": {
     "outputs_hidden": false
    },
    "nbgrader": {}
   },
   "outputs": [
    {
     "name": "stdout",
     "output_type": "stream",
     "text": [
      "mylist: [3, 6, 1, 0, 10, 3]\n",
      "myarray: [ 3  6  1  0 10  3]\n"
     ]
    }
   ],
   "source": [
    "print(\"mylist:\", mylist)\n",
    "print(\"myarray:\", myarray)"
   ]
  },
  {
   "cell_type": "markdown",
   "metadata": {
    "nbgrader": {}
   },
   "source": [
    "Now, to get all elements except the first:"
   ]
  },
  {
   "cell_type": "code",
   "execution_count": 11,
   "metadata": {
    "collapsed": false,
    "jupyter": {
     "outputs_hidden": false
    },
    "nbgrader": {}
   },
   "outputs": [
    {
     "data": {
      "text/plain": [
       "array([ 6,  1,  0, 10,  3])"
      ]
     },
     "execution_count": 11,
     "metadata": {},
     "output_type": "execute_result"
    }
   ],
   "source": [
    "myarray[1:]"
   ]
  },
  {
   "cell_type": "markdown",
   "metadata": {
    "nbgrader": {}
   },
   "source": [
    "To get all elements except the last:"
   ]
  },
  {
   "cell_type": "code",
   "execution_count": 12,
   "metadata": {
    "collapsed": false,
    "jupyter": {
     "outputs_hidden": false
    },
    "nbgrader": {}
   },
   "outputs": [
    {
     "data": {
      "text/plain": [
       "array([ 3,  6,  1,  0, 10])"
      ]
     },
     "execution_count": 12,
     "metadata": {},
     "output_type": "execute_result"
    }
   ],
   "source": [
    "myarray[:-1]"
   ]
  },
  {
   "cell_type": "markdown",
   "metadata": {
    "nbgrader": {}
   },
   "source": [
    "To get all elements except the first and the last:"
   ]
  },
  {
   "cell_type": "code",
   "execution_count": 13,
   "metadata": {
    "collapsed": false,
    "jupyter": {
     "outputs_hidden": false
    },
    "nbgrader": {}
   },
   "outputs": [
    {
     "data": {
      "text/plain": [
       "array([ 6,  1,  0, 10])"
      ]
     },
     "execution_count": 13,
     "metadata": {},
     "output_type": "execute_result"
    }
   ],
   "source": [
    "myarray[1:-1]"
   ]
  },
  {
   "cell_type": "markdown",
   "metadata": {
    "nbgrader": {}
   },
   "source": [
    "To get every other element of the array (beginning from the *first* element):"
   ]
  },
  {
   "cell_type": "code",
   "execution_count": 14,
   "metadata": {
    "collapsed": false,
    "jupyter": {
     "outputs_hidden": false
    },
    "nbgrader": {}
   },
   "outputs": [
    {
     "data": {
      "text/plain": [
       "array([ 3,  1, 10])"
      ]
     },
     "execution_count": 14,
     "metadata": {},
     "output_type": "execute_result"
    }
   ],
   "source": [
    "myarray[::2]"
   ]
  },
  {
   "cell_type": "markdown",
   "metadata": {
    "nbgrader": {}
   },
   "source": [
    "To get every element of the array (beginning from the *second* element):"
   ]
  },
  {
   "cell_type": "code",
   "execution_count": 15,
   "metadata": {
    "collapsed": false,
    "jupyter": {
     "outputs_hidden": false
    },
    "nbgrader": {}
   },
   "outputs": [
    {
     "data": {
      "text/plain": [
       "array([6, 0, 3])"
      ]
     },
     "execution_count": 15,
     "metadata": {},
     "output_type": "execute_result"
    }
   ],
   "source": [
    "myarray[1::2]"
   ]
  },
  {
   "cell_type": "markdown",
   "metadata": {
    "nbgrader": {}
   },
   "source": [
    "And to reverse the array:"
   ]
  },
  {
   "cell_type": "code",
   "execution_count": 16,
   "metadata": {
    "collapsed": false,
    "jupyter": {
     "outputs_hidden": false
    },
    "nbgrader": {}
   },
   "outputs": [
    {
     "data": {
      "text/plain": [
       "array([ 3, 10,  0,  1,  6,  3])"
      ]
     },
     "execution_count": 16,
     "metadata": {},
     "output_type": "execute_result"
    }
   ],
   "source": [
    "myarray[::-1]"
   ]
  },
  {
   "cell_type": "markdown",
   "metadata": {
    "nbgrader": {}
   },
   "source": [
    "## Array computations"
   ]
  },
  {
   "cell_type": "markdown",
   "metadata": {
    "nbgrader": {}
   },
   "source": [
    "So far, NumPy arrays seem basically the same as regular lists. What's the big deal about them?"
   ]
  },
  {
   "cell_type": "markdown",
   "metadata": {
    "nbgrader": {}
   },
   "source": [
    "### Working with single arrays"
   ]
  },
  {
   "cell_type": "markdown",
   "metadata": {
    "nbgrader": {}
   },
   "source": [
    "One advantage of using NumPy arrays over lists is the ability to do a computation over the entire array. For example, if you were using lists and wanted to add one to every element of the list, here's how you would do it:"
   ]
  },
  {
   "cell_type": "code",
   "execution_count": 17,
   "metadata": {
    "collapsed": false,
    "jupyter": {
     "outputs_hidden": false
    },
    "nbgrader": {}
   },
   "outputs": [
    {
     "data": {
      "text/plain": [
       "[4, 7, 2, 1, 11, 23]"
      ]
     },
     "execution_count": 17,
     "metadata": {},
     "output_type": "execute_result"
    }
   ],
   "source": [
    "mylist = [3, 6, 1, 0, 10, 22]\n",
    "mylist_plus1 = []\n",
    "for x in mylist:\n",
    "    mylist_plus1.append(x + 1)\n",
    "mylist_plus1"
   ]
  },
  {
   "cell_type": "markdown",
   "metadata": {
    "nbgrader": {}
   },
   "source": [
    "Or, you could use a list comprehension:"
   ]
  },
  {
   "cell_type": "code",
   "execution_count": 18,
   "metadata": {
    "collapsed": false,
    "jupyter": {
     "outputs_hidden": false
    },
    "nbgrader": {}
   },
   "outputs": [
    {
     "data": {
      "text/plain": [
       "[4, 7, 2, 1, 11, 23]"
      ]
     },
     "execution_count": 18,
     "metadata": {},
     "output_type": "execute_result"
    }
   ],
   "source": [
    "mylist = [3, 6, 1, 0, 10, 22]\n",
    "mylist_plus1 = [x + 1 for x in mylist]\n",
    "mylist_plus1"
   ]
  },
  {
   "cell_type": "markdown",
   "metadata": {
    "nbgrader": {}
   },
   "source": [
    "<div class=\"alert alert-danger\">\n",
    "If you haven't seen list comprehensions before, we <b>strongly</b> recommend that you go through the <a href=\"http://www.codecademy.com/tracks/python\">\"Advanced Topics\" section on Codecademy</a> before proceeding!:\n",
    "</div>"
   ]
  },
  {
   "cell_type": "markdown",
   "metadata": {
    "nbgrader": {}
   },
   "source": [
    "In contrast, adding one to every element of a NumPy array is far simpler:"
   ]
  },
  {
   "cell_type": "code",
   "execution_count": 19,
   "metadata": {
    "collapsed": false,
    "jupyter": {
     "outputs_hidden": false
    },
    "nbgrader": {}
   },
   "outputs": [
    {
     "data": {
      "text/plain": [
       "array([ 4,  7,  2,  1, 11, 23])"
      ]
     },
     "execution_count": 19,
     "metadata": {},
     "output_type": "execute_result"
    }
   ],
   "source": [
    "myarray = np.array([3, 6, 1, 0, 10, 22])\n",
    "myarray_plus1 = myarray + 1\n",
    "myarray_plus1"
   ]
  },
  {
   "cell_type": "markdown",
   "metadata": {
    "nbgrader": {}
   },
   "source": [
    "This won't work with normal lists. For example, if you ran `mylist + 1`, you'd get an error like this:\n",
    "\n",
    "```\n",
    "---------------------------------------------------------------------------\n",
    "TypeError                                 Traceback (most recent call last)\n",
    "<ipython-input-19-5b3951a16990> in <module>()\n",
    "----> 1 mylist + 1\n",
    "\n",
    "TypeError: can only concatenate list (not \"int\") to list\n",
    "```"
   ]
  },
  {
   "cell_type": "markdown",
   "metadata": {
    "nbgrader": {}
   },
   "source": [
    "We can do the same thing for subtraction, multiplication, etc.:"
   ]
  },
  {
   "cell_type": "code",
   "execution_count": 20,
   "metadata": {
    "collapsed": false,
    "jupyter": {
     "outputs_hidden": false
    },
    "nbgrader": {}
   },
   "outputs": [
    {
     "name": "stdout",
     "output_type": "stream",
     "text": [
      "Subtraction: \t[ 1  4 -1 -2  8 20]\n",
      "Multiplication:\t[ 30  60  10   0 100 220]\n",
      "Squared: \t[  9  36   1   0 100 484]\n",
      "Square root: \t[1.73205081 2.44948974 1.         0.         3.16227766 4.69041576]\n",
      "Exponential: \t[2.00855369e+01 4.03428793e+02 2.71828183e+00 1.00000000e+00\n",
      " 2.20264658e+04 3.58491285e+09]\n"
     ]
    }
   ],
   "source": [
    "print(\"Subtraction: \\t\" + str(myarray - 2))\n",
    "print(\"Multiplication:\\t\" + str(myarray * 10))\n",
    "print(\"Squared: \\t\" + str(myarray ** 2))\n",
    "print(\"Square root: \\t\" + str(np.sqrt(myarray)))\n",
    "print(\"Exponential: \\t\" + str(np.exp(myarray)))"
   ]
  },
  {
   "cell_type": "markdown",
   "metadata": {
    "nbgrader": {}
   },
   "source": [
    "### Working with multiple arrays"
   ]
  },
  {
   "cell_type": "markdown",
   "metadata": {
    "nbgrader": {}
   },
   "source": [
    "We can also easily do these operations for multiple arrays. For example, let's say we want to add the corresponding elements of two lists together. Here's how we'd do it with regular lists:"
   ]
  },
  {
   "cell_type": "code",
   "execution_count": 21,
   "metadata": {
    "collapsed": false,
    "jupyter": {
     "outputs_hidden": false
    },
    "nbgrader": {}
   },
   "outputs": [
    {
     "data": {
      "text/plain": [
       "[7, 9, 11, 13, 15]"
      ]
     },
     "execution_count": 21,
     "metadata": {},
     "output_type": "execute_result"
    }
   ],
   "source": [
    "list_a = [1, 2, 3, 4, 5]\n",
    "list_b = [6, 7, 8, 9, 10]\n",
    "list_c = [list_a[i] + list_b[i] for i in range(len(list_a))]\n",
    "list_c"
   ]
  },
  {
   "cell_type": "markdown",
   "metadata": {
    "nbgrader": {}
   },
   "source": [
    "With NumPy arrays, we just have to add the arrays together:"
   ]
  },
  {
   "cell_type": "code",
   "execution_count": 22,
   "metadata": {
    "collapsed": false,
    "jupyter": {
     "outputs_hidden": false
    },
    "nbgrader": {}
   },
   "outputs": [
    {
     "data": {
      "text/plain": [
       "array([ 7,  9, 11, 13, 15])"
      ]
     },
     "execution_count": 22,
     "metadata": {},
     "output_type": "execute_result"
    }
   ],
   "source": [
    "array_a = np.array(list_a) # equivalent to np.array([1, 2, 3, 4, 5])\n",
    "array_b = np.array(list_b) # equivalent to np.array([6, 7, 8, 9, 10])\n",
    "array_c = array_a + array_b\n",
    "array_c"
   ]
  },
  {
   "cell_type": "markdown",
   "metadata": {
    "nbgrader": {}
   },
   "source": [
    "<div class=\"alert alert-warning\">\n",
    "Note: make sure when adding arrays that you are actually working with arrays, because if you try to add two lists, you will *not* get an error. Instead, the lists will be concatenated:\n",
    "</div>"
   ]
  },
  {
   "cell_type": "code",
   "execution_count": 23,
   "metadata": {
    "collapsed": false,
    "jupyter": {
     "outputs_hidden": false
    },
    "nbgrader": {}
   },
   "outputs": [
    {
     "data": {
      "text/plain": [
       "[1, 2, 3, 4, 5, 6, 7, 8, 9, 10]"
      ]
     },
     "execution_count": 23,
     "metadata": {},
     "output_type": "execute_result"
    }
   ],
   "source": [
    "list_a + list_b"
   ]
  },
  {
   "cell_type": "markdown",
   "metadata": {
    "nbgrader": {}
   },
   "source": [
    "Just as when we are working with a single array, we can add, subtract, divide, multiply, etc. several arrays together:"
   ]
  },
  {
   "cell_type": "code",
   "execution_count": 24,
   "metadata": {
    "collapsed": false,
    "jupyter": {
     "outputs_hidden": false
    },
    "nbgrader": {}
   },
   "outputs": [
    {
     "name": "stdout",
     "output_type": "stream",
     "text": [
      "Subtraction: \t[-5 -5 -5 -5 -5]\n",
      "Multiplication:\t[ 6 14 24 36 50]\n",
      "Exponent: \t[      1     128    6561  262144 9765625]\n",
      "Division: \t[0.16666667 0.28571429 0.375      0.44444444 0.5       ]\n"
     ]
    }
   ],
   "source": [
    "print(\"Subtraction: \\t\" + str(array_a - array_b))\n",
    "print(\"Multiplication:\\t\" + str(array_a * array_b))\n",
    "print(\"Exponent: \\t\" + str(array_a ** array_b))\n",
    "print(\"Division: \\t\" + str(array_a / array_b))"
   ]
  },
  {
   "cell_type": "markdown",
   "metadata": {
    "nbgrader": {}
   },
   "source": [
    "## Creating and modifying arrays"
   ]
  },
  {
   "cell_type": "markdown",
   "metadata": {
    "nbgrader": {}
   },
   "source": [
    "One thing that you can do with lists that you *cannot* do with NumPy arrays is adding and removing elements. For example, I can create a list and then add elements to it with `append`:"
   ]
  },
  {
   "cell_type": "code",
   "execution_count": 25,
   "metadata": {
    "collapsed": false,
    "jupyter": {
     "outputs_hidden": false
    },
    "nbgrader": {}
   },
   "outputs": [
    {
     "data": {
      "text/plain": [
       "[7, 2]"
      ]
     },
     "execution_count": 25,
     "metadata": {},
     "output_type": "execute_result"
    }
   ],
   "source": [
    "mylist = []\n",
    "mylist.append(7)\n",
    "mylist.append(2)\n",
    "mylist"
   ]
  },
  {
   "cell_type": "markdown",
   "metadata": {
    "nbgrader": {}
   },
   "source": [
    "However, you *cannot* do this with NumPy arrays. If you tried to run the following code, for example:\n",
    "\n",
    "```python\n",
    "myarray = np.array([])\n",
    "myarray.append(7)\n",
    "```\n",
    "\n",
    "You'd get an error like this:\n",
    "\n",
    "```\n",
    "---------------------------------------------------------------------------\n",
    "AttributeError                            Traceback (most recent call last)\n",
    "<ipython-input-25-0017a7f2667c> in <module>()\n",
    "      1 myarray = np.array([])\n",
    "----> 2 myarray.append(7)\n",
    "\n",
    "AttributeError: 'numpy.ndarray' object has no attribute 'append'\n",
    "```"
   ]
  },
  {
   "cell_type": "markdown",
   "metadata": {
    "nbgrader": {}
   },
   "source": [
    "<div class=\"alert alert-info\">To create a NumPy array, you must create an array with the correct shape <i>from the beginning</i>. However, the array doesn't have to have all the correct values from the very beginning: these you can fill in later.</div>"
   ]
  },
  {
   "cell_type": "markdown",
   "metadata": {
    "nbgrader": {}
   },
   "source": [
    "There are a few ways to create a new array with a particular size:\n",
    "\n",
    "* `np.empty(size)` -- creates an empty array of size `size`\n",
    "* `np.zeros(size)` -- creates an array of size `size` and sets all the elements to zero\n",
    "* `np.ones(size)` -- creates an array of size `size` and sets all the elements to one\n",
    "\n",
    "So the way that we would create an array like the list above is:"
   ]
  },
  {
   "cell_type": "code",
   "execution_count": 26,
   "metadata": {
    "collapsed": false,
    "jupyter": {
     "outputs_hidden": false
    },
    "nbgrader": {}
   },
   "outputs": [
    {
     "data": {
      "text/plain": [
       "array([7., 2.])"
      ]
     },
     "execution_count": 26,
     "metadata": {},
     "output_type": "execute_result"
    }
   ],
   "source": [
    "myarray = np.empty(2) # create an array of size 2\n",
    "myarray[0] = 7\n",
    "myarray[1] = 2\n",
    "myarray"
   ]
  },
  {
   "cell_type": "markdown",
   "metadata": {
    "nbgrader": {}
   },
   "source": [
    "<div class=\"alert alert-info\">\n",
    "Another very useful function for creating arrays is <code>np.arange</code>, which will create an array containing a sequence of numbers (it is very similar to the built-in <code>range</code> or <code>xrange</code> functions in Python).\n",
    "</div>"
   ]
  },
  {
   "cell_type": "markdown",
   "metadata": {
    "nbgrader": {}
   },
   "source": [
    "Here are a few examples of using `np.arange`. Try playing around with them and make sure you understand how it works:"
   ]
  },
  {
   "cell_type": "code",
   "execution_count": 27,
   "metadata": {
    "collapsed": false,
    "jupyter": {
     "outputs_hidden": false
    },
    "nbgrader": {}
   },
   "outputs": [
    {
     "data": {
      "text/plain": [
       "array([0, 1, 2])"
      ]
     },
     "execution_count": 27,
     "metadata": {},
     "output_type": "execute_result"
    }
   ],
   "source": [
    "# create an array of numbers from 0 to 3\n",
    "np.arange(3)"
   ]
  },
  {
   "cell_type": "code",
   "execution_count": 28,
   "metadata": {
    "collapsed": false,
    "jupyter": {
     "outputs_hidden": false
    },
    "nbgrader": {}
   },
   "outputs": [
    {
     "data": {
      "text/plain": [
       "array([1, 2, 3, 4])"
      ]
     },
     "execution_count": 28,
     "metadata": {},
     "output_type": "execute_result"
    }
   ],
   "source": [
    "# create an array of numbers from 1 to 5\n",
    "np.arange(1, 5)"
   ]
  },
  {
   "cell_type": "code",
   "execution_count": 29,
   "metadata": {
    "collapsed": false,
    "jupyter": {
     "outputs_hidden": false
    },
    "nbgrader": {}
   },
   "outputs": [
    {
     "data": {
      "text/plain": [
       "array([2, 5, 8])"
      ]
     },
     "execution_count": 29,
     "metadata": {},
     "output_type": "execute_result"
    }
   ],
   "source": [
    "# create an array of every third number between 2 and 10\n",
    "np.arange(2, 10, 3)"
   ]
  },
  {
   "cell_type": "code",
   "execution_count": 30,
   "metadata": {
    "collapsed": false,
    "jupyter": {
     "outputs_hidden": false
    },
    "nbgrader": {}
   },
   "outputs": [
    {
     "data": {
      "text/plain": [
       "array([0.1, 0.2, 0.3, 0.4, 0.5, 0.6, 0.7, 0.8, 0.9, 1. ])"
      ]
     },
     "execution_count": 30,
     "metadata": {},
     "output_type": "execute_result"
    }
   ],
   "source": [
    "# create an array of numbers between 0.1 and 1.1 spaced by 0.1\n",
    "np.arange(0.1, 1.1, 0.1)"
   ]
  },
  {
   "cell_type": "markdown",
   "metadata": {
    "nbgrader": {}
   },
   "source": [
    "## \"Vectorized\" computations"
   ]
  },
  {
   "cell_type": "markdown",
   "metadata": {
    "nbgrader": {}
   },
   "source": [
    "Another very useful thing about NumPy is that it comes with many so-called \"vectorized\" operations. A vectorized operation (or computation) works across the entire array. For example, let's say we want to add together all the numbers in a list. In regular Python, we might do it like this:"
   ]
  },
  {
   "cell_type": "code",
   "execution_count": 31,
   "metadata": {
    "collapsed": false,
    "jupyter": {
     "outputs_hidden": false
    },
    "nbgrader": {}
   },
   "outputs": [
    {
     "data": {
      "text/plain": [
       "42"
      ]
     },
     "execution_count": 31,
     "metadata": {},
     "output_type": "execute_result"
    }
   ],
   "source": [
    "mylist = [3, 6, 1, 10, 22]\n",
    "total = 0\n",
    "for number in mylist:\n",
    "    total += number\n",
    "total"
   ]
  },
  {
   "cell_type": "markdown",
   "metadata": {
    "nbgrader": {}
   },
   "source": [
    "Using NumPy arrays, we can just use the `np.sum` function:"
   ]
  },
  {
   "cell_type": "code",
   "execution_count": 32,
   "metadata": {
    "collapsed": false,
    "jupyter": {
     "outputs_hidden": false
    },
    "nbgrader": {}
   },
   "outputs": [
    {
     "data": {
      "text/plain": [
       "42"
      ]
     },
     "execution_count": 32,
     "metadata": {},
     "output_type": "execute_result"
    }
   ],
   "source": [
    "# you can also just do np.sum(mylist) -- it converts it to an\n",
    "# array for you!\n",
    "myarray = np.array(mylist)\n",
    "np.sum(myarray)"
   ]
  },
  {
   "cell_type": "markdown",
   "metadata": {
    "nbgrader": {}
   },
   "source": [
    "<div class=\"alert alert-info\">\n",
    "There are many other vectorized computations that you can do on NumPy arrays, including multiplication (<code>np.prod</code>), mean (<code>np.mean</code>), and variance (<code>np.var</code>). They all act essentially the same way as <code>np.sum</code> -- give the function an array, and it computes the relevant function across all the elements in the array.\n",
    "</div>"
   ]
  },
  {
   "cell_type": "markdown",
   "metadata": {
    "nbgrader": {}
   },
   "source": [
    "### Exercise: Euclidean distance (2 points)"
   ]
  },
  {
   "cell_type": "markdown",
   "metadata": {
    "nbgrader": {}
   },
   "source": [
    "Recall that the Euclidean distance $d$ is given by the following equation:\n",
    "\n",
    "$$\n",
    "d(a, b) = \\sqrt{\\sum_{i=1}^N (a_i - b_i) ^ 2}\n",
    "$$\n",
    "\n",
    "In NumPy, this is a fairly simple computation because we can rely on array computations and the `np.sum` function to do all the heavy lifting for us."
   ]
  },
  {
   "cell_type": "markdown",
   "metadata": {
    "nbgrader": {}
   },
   "source": [
    "<div class=\"alert alert-success\">\n",
    "Complete the function <code>euclidean_distance</code> below to compute $d(a,b)$, as given by the equation above. Note that you can compute the square root using <code>np.sqrt</code>.\n",
    "</div>"
   ]
  },
  {
   "cell_type": "code",
   "execution_count": 33,
   "metadata": {
    "collapsed": false,
    "deletable": false,
    "jupyter": {
     "outputs_hidden": false
    },
    "nbgrader": {
     "checksum": "2a3d7a8cdc2eb03a2cf8fe96d5151f69",
     "grade_id": "euclidean_distance",
     "solution": true
    }
   },
   "outputs": [],
   "source": [
    "def euclidean_distance(a, b):\n",
    "    \"\"\"Computes the Euclidean distance between a and b.\n",
    "    \n",
    "    Hint: your solution can be done in a single line of code!\n",
    "    \n",
    "    Parameters\n",
    "    ----------\n",
    "    a, b : numpy arrays or scalars with the same size\n",
    "    \n",
    "    Returns\n",
    "    -------\n",
    "    the Euclidean distance between a and b\n",
    "    \n",
    "    \"\"\"\n",
    "    # YOUR CODE HERE\n",
    "    raise NotImplementedError()"
   ]
  },
  {
   "cell_type": "markdown",
   "metadata": {
    "nbgrader": {}
   },
   "source": [
    "<div class=\"alert alert-warning\">Remember that you need to execute the cell above (with your definition of <code>euclidean_distance</code>), and then run the cell below to check your answer. If you make changes to the cell with your answer, you will need to <i>first</i> re-run that cell, and <i>then</i> re-run the test cell to check your answer again.</div>\n",
    "\n",
    "## Problem 1\n",
    "\n",
    "Show that for a=[0 3 0] and b=[4 0 0], the euclidean distance is 5. "
   ]
  },
  {
   "cell_type": "code",
   "execution_count": 34,
   "metadata": {
    "collapsed": false,
    "deletable": false,
    "jupyter": {
     "outputs_hidden": false
    },
    "nbgrader": {
     "checksum": "9871b9105436729a0515c59ee0198be5",
     "grade": true,
     "grade_id": "test_euclidean_distance",
     "points": "2"
    }
   },
   "outputs": [],
   "source": [
    "# Show work"
   ]
  },
  {
   "cell_type": "markdown",
   "metadata": {
    "nbgrader": {}
   },
   "source": [
    "## Creating multidimensional arrays"
   ]
  },
  {
   "cell_type": "markdown",
   "metadata": {
    "nbgrader": {}
   },
   "source": [
    "Previously, we saw that functions like `np.zeros` or `np.ones` could be used to create a 1-D array. We can also use them to create N-D arrays. Rather than passing an integer as the first argument, we pass a list or tuple with the *shape* of the array that we want. For example, to create a $3\\times 4$ array of zeros:"
   ]
  },
  {
   "cell_type": "code",
   "execution_count": 35,
   "metadata": {
    "collapsed": false,
    "jupyter": {
     "outputs_hidden": false
    },
    "nbgrader": {}
   },
   "outputs": [
    {
     "data": {
      "text/plain": [
       "array([[0., 0., 0., 0.],\n",
       "       [0., 0., 0., 0.],\n",
       "       [0., 0., 0., 0.]])"
      ]
     },
     "execution_count": 35,
     "metadata": {},
     "output_type": "execute_result"
    }
   ],
   "source": [
    "arr = np.zeros((3, 4))\n",
    "arr"
   ]
  },
  {
   "cell_type": "markdown",
   "metadata": {
    "nbgrader": {}
   },
   "source": [
    "<div class=\"alert alert-info\">\n",
    "The *shape* of the array is a very important concept. You can always get the shape of an array by accessing its <code>shape</code> attribute:\n",
    "</div>"
   ]
  },
  {
   "cell_type": "code",
   "execution_count": 36,
   "metadata": {
    "collapsed": false,
    "jupyter": {
     "outputs_hidden": false
    },
    "nbgrader": {}
   },
   "outputs": [
    {
     "data": {
      "text/plain": [
       "(3, 4)"
      ]
     },
     "execution_count": 36,
     "metadata": {},
     "output_type": "execute_result"
    }
   ],
   "source": [
    "arr.shape"
   ]
  },
  {
   "cell_type": "markdown",
   "metadata": {
    "nbgrader": {}
   },
   "source": [
    "Note that for 1-D arrays, the shape returned by the `shape` attribute is still a tuple, even though it only has a length of one:"
   ]
  },
  {
   "cell_type": "code",
   "execution_count": 37,
   "metadata": {
    "collapsed": false,
    "jupyter": {
     "outputs_hidden": false
    },
    "nbgrader": {}
   },
   "outputs": [
    {
     "data": {
      "text/plain": [
       "(3,)"
      ]
     },
     "execution_count": 37,
     "metadata": {},
     "output_type": "execute_result"
    }
   ],
   "source": [
    "np.zeros(3).shape"
   ]
  },
  {
   "cell_type": "markdown",
   "metadata": {
    "nbgrader": {}
   },
   "source": [
    "This also means that we can *create* 1-D arrays by passing a length one tuple. Thus, the following two arrays are identical:"
   ]
  },
  {
   "cell_type": "code",
   "execution_count": 38,
   "metadata": {
    "collapsed": false,
    "jupyter": {
     "outputs_hidden": false
    },
    "nbgrader": {}
   },
   "outputs": [
    {
     "data": {
      "text/plain": [
       "array([0., 0., 0.])"
      ]
     },
     "execution_count": 38,
     "metadata": {},
     "output_type": "execute_result"
    }
   ],
   "source": [
    "np.zeros((3,))"
   ]
  },
  {
   "cell_type": "code",
   "execution_count": 39,
   "metadata": {
    "collapsed": false,
    "jupyter": {
     "outputs_hidden": false
    },
    "nbgrader": {}
   },
   "outputs": [
    {
     "data": {
      "text/plain": [
       "array([0., 0., 0.])"
      ]
     },
     "execution_count": 39,
     "metadata": {},
     "output_type": "execute_result"
    }
   ],
   "source": [
    "np.zeros(3)"
   ]
  },
  {
   "cell_type": "markdown",
   "metadata": {
    "nbgrader": {}
   },
   "source": [
    "<div class=\"alert alert-danger\">There is a warning that goes with this, however: be careful to always use tuples to specify the shape when you are creating multidimensional arrays. For example, to create an array of zeros with shape <code>(3, 4)</code>, we <b>must</b> use <code>np.zeros((3, 4))</code>. The following <b>will not work</b>:</div>\n",
    "\n",
    "```python\n",
    "np.zeros(3, 4)\n",
    "```\n",
    "\n",
    "It will give an error like this:\n",
    "\n",
    "```\n",
    "---------------------------------------------------------------------------\n",
    "TypeError                                 Traceback (most recent call last)\n",
    "<ipython-input-39-06beb765944a> in <module>()\n",
    "----> 1 np.zeros(3, 4)\n",
    "\n",
    "TypeError: data type not understood\n",
    "```\n",
    "\n",
    "This is because the second argument to `np.zeros` is the data type, so numpy thinks you are trying to create an array of zeros with shape `(3,)` and datatype `4`. It (understandably) doesn't know what you mean by a datatype of `4`, and so throws an error."
   ]
  },
  {
   "cell_type": "markdown",
   "metadata": {
    "nbgrader": {}
   },
   "source": [
    "<div class=\"alert alert-info\">\n",
    "Another important concept is the <i>size</i> of the array -- in other words, how many elements are in it. This is equivalent to the length of the array, for 1-D arrays, but not for multidimensional arrays. You can also see the total size of the array with the <code>size</code> attribute:\n",
    "</div>"
   ]
  },
  {
   "cell_type": "code",
   "execution_count": 40,
   "metadata": {
    "collapsed": false,
    "jupyter": {
     "outputs_hidden": false
    },
    "nbgrader": {}
   },
   "outputs": [
    {
     "data": {
      "text/plain": [
       "12"
      ]
     },
     "execution_count": 40,
     "metadata": {},
     "output_type": "execute_result"
    }
   ],
   "source": [
    "arr = np.zeros((3, 4))\n",
    "arr.size"
   ]
  },
  {
   "cell_type": "markdown",
   "metadata": {
    "nbgrader": {}
   },
   "source": [
    "We can also create arrays and then reshape them into any shape, provided the new array has the same size as the old array:"
   ]
  },
  {
   "cell_type": "code",
   "execution_count": 41,
   "metadata": {
    "collapsed": false,
    "jupyter": {
     "outputs_hidden": false
    },
    "nbgrader": {}
   },
   "outputs": [
    {
     "data": {
      "text/plain": [
       "array([[ 0,  1,  2,  3],\n",
       "       [ 4,  5,  6,  7],\n",
       "       [ 8,  9, 10, 11],\n",
       "       [12, 13, 14, 15],\n",
       "       [16, 17, 18, 19],\n",
       "       [20, 21, 22, 23],\n",
       "       [24, 25, 26, 27],\n",
       "       [28, 29, 30, 31]])"
      ]
     },
     "execution_count": 41,
     "metadata": {},
     "output_type": "execute_result"
    }
   ],
   "source": [
    "arr = np.arange(32).reshape((8, 4))\n",
    "arr"
   ]
  },
  {
   "cell_type": "markdown",
   "metadata": {
    "nbgrader": {}
   },
   "source": [
    "## Accessing and modifying multidimensional array elements"
   ]
  },
  {
   "cell_type": "markdown",
   "metadata": {
    "nbgrader": {}
   },
   "source": [
    "To access or set individual elements of the array, we can index with a sequence of numbers:"
   ]
  },
  {
   "cell_type": "code",
   "execution_count": 42,
   "metadata": {
    "collapsed": false,
    "jupyter": {
     "outputs_hidden": false
    },
    "nbgrader": {}
   },
   "outputs": [
    {
     "data": {
      "text/plain": [
       "array([[ 0,  1,  0,  3],\n",
       "       [ 4,  5,  6,  7],\n",
       "       [ 8,  9, 10, 11],\n",
       "       [12, 13, 14, 15],\n",
       "       [16, 17, 18, 19],\n",
       "       [20, 21, 22, 23],\n",
       "       [24, 25, 26, 27],\n",
       "       [28, 29, 30, 31]])"
      ]
     },
     "execution_count": 42,
     "metadata": {},
     "output_type": "execute_result"
    }
   ],
   "source": [
    "# set the 3rd element in the 1st row to 0\n",
    "arr[0, 2] = 0\n",
    "arr"
   ]
  },
  {
   "cell_type": "markdown",
   "metadata": {
    "nbgrader": {}
   },
   "source": [
    "We can also access the element on it's own, without having the equals sign and the stuff to the right of it:"
   ]
  },
  {
   "cell_type": "code",
   "execution_count": 43,
   "metadata": {
    "collapsed": false,
    "jupyter": {
     "outputs_hidden": false
    },
    "nbgrader": {}
   },
   "outputs": [
    {
     "data": {
      "text/plain": [
       "0"
      ]
     },
     "execution_count": 43,
     "metadata": {},
     "output_type": "execute_result"
    }
   ],
   "source": [
    "arr[0, 2]"
   ]
  },
  {
   "cell_type": "markdown",
   "metadata": {
    "nbgrader": {}
   },
   "source": [
    "We frequently will want to access ranges of elements. In NumPy, the first dimension (or *axis*) corresponds to the rows of the array, and the second axis corresponds to the columns. For example, to look at the first row of the array:"
   ]
  },
  {
   "cell_type": "code",
   "execution_count": 44,
   "metadata": {
    "collapsed": false,
    "jupyter": {
     "outputs_hidden": false
    },
    "nbgrader": {}
   },
   "outputs": [
    {
     "data": {
      "text/plain": [
       "array([0, 1, 0, 3])"
      ]
     },
     "execution_count": 44,
     "metadata": {},
     "output_type": "execute_result"
    }
   ],
   "source": [
    "# the first row\n",
    "arr[0]"
   ]
  },
  {
   "cell_type": "markdown",
   "metadata": {
    "nbgrader": {}
   },
   "source": [
    "To look at columns, we use the following syntax:"
   ]
  },
  {
   "cell_type": "code",
   "execution_count": 45,
   "metadata": {
    "collapsed": false,
    "jupyter": {
     "outputs_hidden": false
    },
    "nbgrader": {}
   },
   "outputs": [
    {
     "data": {
      "text/plain": [
       "array([ 1,  5,  9, 13, 17, 21, 25, 29])"
      ]
     },
     "execution_count": 45,
     "metadata": {},
     "output_type": "execute_result"
    }
   ],
   "source": [
    "# the second column\n",
    "arr[:, 1]"
   ]
  },
  {
   "cell_type": "markdown",
   "metadata": {
    "nbgrader": {}
   },
   "source": [
    "The colon in the first position essentially means \"select from every row\". So, we can interpret `arr[:, 1]` as meaning \"take the second element of every row\", or simply \"take the second column\".\n",
    "\n",
    "Using this syntax, we can select whole regions of an array. For example:"
   ]
  },
  {
   "cell_type": "code",
   "execution_count": 46,
   "metadata": {
    "collapsed": false,
    "jupyter": {
     "outputs_hidden": false
    },
    "nbgrader": {}
   },
   "outputs": [
    {
     "data": {
      "text/plain": [
       "array([[ 9, 10],\n",
       "       [13, 14],\n",
       "       [17, 18]])"
      ]
     },
     "execution_count": 46,
     "metadata": {},
     "output_type": "execute_result"
    }
   ],
   "source": [
    "# select a rectangular region from the array\n",
    "arr[2:5, 1:3]"
   ]
  },
  {
   "cell_type": "markdown",
   "metadata": {
    "nbgrader": {}
   },
   "source": [
    "<div class=\"alert alert-warning\">Note: be careful about setting modifying an array if what you really want is a <i>copy</i> of an array. Remember that in Python, variables are really just pointers to objects.</div>"
   ]
  },
  {
   "cell_type": "markdown",
   "metadata": {
    "nbgrader": {}
   },
   "source": [
    "For example, if I want to create a second array that mutliples every other value in `arr` by two, the following code will work but will have unexpected consequences:"
   ]
  },
  {
   "cell_type": "code",
   "execution_count": 47,
   "metadata": {
    "collapsed": false,
    "jupyter": {
     "outputs_hidden": false
    },
    "nbgrader": {}
   },
   "outputs": [
    {
     "name": "stdout",
     "output_type": "stream",
     "text": [
      "arr:  [ 0  1  4  3  8  5 12  7 16  9]\n",
      "arr2: [ 0  1  4  3  8  5 12  7 16  9]\n"
     ]
    }
   ],
   "source": [
    "arr = np.arange(10)\n",
    "arr2 = arr\n",
    "arr2[::2] = arr2[::2] * 2\n",
    "print(\"arr:  \" + str(arr))\n",
    "print(\"arr2: \" + str(arr2))"
   ]
  },
  {
   "cell_type": "markdown",
   "metadata": {
    "nbgrader": {}
   },
   "source": [
    "Note that `arr` and `arr2` both have the same values! This is because the line `arr2 = arr` doesn't actually copy the array: it just makes another pointer to the same object. To truly copy the array, we need to use the `.copy()` method:"
   ]
  },
  {
   "cell_type": "code",
   "execution_count": 48,
   "metadata": {
    "collapsed": false,
    "jupyter": {
     "outputs_hidden": false
    },
    "nbgrader": {}
   },
   "outputs": [
    {
     "name": "stdout",
     "output_type": "stream",
     "text": [
      "arr:  [0 1 2 3 4 5 6 7 8 9]\n",
      "arr2: [ 0  1  4  3  8  5 12  7 16  9]\n"
     ]
    }
   ],
   "source": [
    "arr = np.arange(10)\n",
    "arr2 = arr.copy()\n",
    "arr2[::2] = arr2[::2] * 2\n",
    "print(\"arr:  \" + str(arr))\n",
    "print(\"arr2: \" + str(arr2))"
   ]
  },
  {
   "cell_type": "markdown",
   "metadata": {
    "nbgrader": {}
   },
   "source": [
    "## Problem 2: Border\n",
    "\n",
    "\n",
    "Write a function to create a 2D array of arbitrary shape. This array should have all zero values, except for the elements around the border (i.e., the first and last rows, and the first and last columns), which should have a value of one."
   ]
  },
  {
   "cell_type": "code",
   "execution_count": 49,
   "metadata": {
    "deletable": false,
    "nbgrader": {
     "checksum": "962d91ecb5d9812898959fa2564e1be9",
     "grade_id": "border",
     "solution": true
    }
   },
   "outputs": [],
   "source": [
    "def border(n, m):\n",
    "    \"\"\"Creates an array with shape (n, m) that is all zeros\n",
    "    except for the border (i.e., the first and last rows and\n",
    "    columns), which should be filled with ones.\n",
    "\n",
    "    Hint: you should be able to do this in three lines\n",
    "    (including the return statement)\n",
    "\n",
    "    Parameters\n",
    "    ----------\n",
    "    n, m: int\n",
    "        Number of rows and number of columns\n",
    "\n",
    "    Returns\n",
    "    -------\n",
    "    numpy array with shape (n, m)\n",
    "\n",
    "    \"\"\"\n",
    "    # YOUR CODE HERE"
   ]
  },
  {
   "cell_type": "code",
   "execution_count": 50,
   "metadata": {
    "collapsed": false,
    "deletable": false,
    "jupyter": {
     "outputs_hidden": false
    },
    "nbgrader": {
     "checksum": "c8b6a11c5dd3aaed6aaa4bc0c2803017",
     "grade": true,
     "grade_id": "test_border",
     "points": "2",
     "solution": false
    }
   },
   "outputs": [],
   "source": [
    "# Show work"
   ]
  },
  {
   "cell_type": "markdown",
   "metadata": {},
   "source": [
    "## Problem 3\n",
    "\n",
    "Below a 2D array, `A88` is created that reshapes the integers 1 through 64 into\n",
    "an $8\\times8$ array. Create a new 1-D array that only contains the last\n",
    "column of `a8` e.g. `[8, 16, 24, 32, 40, 48, 56, 64]`. "
   ]
  },
  {
   "cell_type": "code",
   "execution_count": 51,
   "metadata": {},
   "outputs": [],
   "source": [
    "A88 = np.arange(1,65).reshape(8,8)\n",
    "# a8 = your work"
   ]
  },
  {
   "cell_type": "markdown",
   "metadata": {},
   "source": [
    "## Vector algebra with Arrays\n",
    "\n",
    "You can represent physics vectors with 1D arrays. If you have a chosen basis set, you can save the components of the vector. Consider the following example, a force, $\\mathbf{F}$, is applied to a an object and it moves one meter along the x-axis. The force has three components, $\\mathbf{F} = 2\\hat{i}+3\\hat{j}+0\\hat{k}~N$. \n",
    "\n",
    "You can determine the work done by the force using [`np.dot`](https://numpy.org/doc/stable/reference/generated/numpy.dot.html) as such"
   ]
  },
  {
   "cell_type": "code",
   "execution_count": 52,
   "metadata": {},
   "outputs": [
    {
     "name": "stdout",
     "output_type": "stream",
     "text": [
      "work done by F is 2 N-m\n"
     ]
    }
   ],
   "source": [
    "F = np.array([2, 3, 0])\n",
    "dx = np.array([1, 0, 0])\n",
    "\n",
    "W = np.dot(F,dx)\n",
    "\n",
    "print('work done by F is {} N-m'.format(W))"
   ]
  },
  {
   "cell_type": "markdown",
   "metadata": {},
   "source": [
    "You can also animate the motion of the object with the applied force. Here, the motion is assumed to travel at a constant speed from $x = 0 - 1~m$. "
   ]
  },
  {
   "cell_type": "code",
   "execution_count": 68,
   "metadata": {},
   "outputs": [
    {
     "data": {
      "text/html": [
       "<video width=\"432\" height=\"288\" controls autoplay loop>\n",
       "  <source type=\"video/mp4\" src=\"data:video/mp4;base64,AAAAIGZ0eXBNNFYgAAACAE00ViBpc29taXNvMmF2YzEAAAAIZnJlZQAAN2BtZGF0AAACrgYF//+q\n",
       "3EXpvebZSLeWLNgg2SPu73gyNjQgLSBjb3JlIDE2MyByMzA2MCA1ZGI2YWE2IC0gSC4yNjQvTVBF\n",
       "Ry00IEFWQyBjb2RlYyAtIENvcHlsZWZ0IDIwMDMtMjAyMSAtIGh0dHA6Ly93d3cudmlkZW9sYW4u\n",
       "b3JnL3gyNjQuaHRtbCAtIG9wdGlvbnM6IGNhYmFjPTEgcmVmPTMgZGVibG9jaz0xOjA6MCBhbmFs\n",
       "eXNlPTB4MzoweDExMyBtZT1oZXggc3VibWU9NyBwc3k9MSBwc3lfcmQ9MS4wMDowLjAwIG1peGVk\n",
       "X3JlZj0xIG1lX3JhbmdlPTE2IGNocm9tYV9tZT0xIHRyZWxsaXM9MSA4eDhkY3Q9MSBjcW09MCBk\n",
       "ZWFkem9uZT0yMSwxMSBmYXN0X3Bza2lwPTEgY2hyb21hX3FwX29mZnNldD0tMiB0aHJlYWRzPTkg\n",
       "bG9va2FoZWFkX3RocmVhZHM9MSBzbGljZWRfdGhyZWFkcz0wIG5yPTAgZGVjaW1hdGU9MSBpbnRl\n",
       "cmxhY2VkPTAgYmx1cmF5X2NvbXBhdD0wIGNvbnN0cmFpbmVkX2ludHJhPTAgYmZyYW1lcz0zIGJf\n",
       "cHlyYW1pZD0yIGJfYWRhcHQ9MSBiX2JpYXM9MCBkaXJlY3Q9MSB3ZWlnaHRiPTEgb3Blbl9nb3A9\n",
       "MCB3ZWlnaHRwPTIga2V5aW50PTI1MCBrZXlpbnRfbWluPTI1IHNjZW5lY3V0PTQwIGludHJhX3Jl\n",
       "ZnJlc2g9MCByY19sb29rYWhlYWQ9NDAgcmM9Y3JmIG1idHJlZT0xIGNyZj0yMy4wIHFjb21wPTAu\n",
       "NjAgcXBtaW49MCBxcG1heD02OSBxcHN0ZXA9NCBpcF9yYXRpbz0xLjQwIGFxPTE6MS4wMACAAAAL\n",
       "qmWIhAAv//72rvzLK0cLlS4dWXuzUfLoSXL9iDB9aAAAAwAA1WshfBJn/UBkOcfp0Fh0+i0NUUTc\n",
       "jraH01QXje1CwY1y/EV+65SvymQAAAuUKq1tHpQ9DwBa/6b//4kaY5xFbkPx4LRkpRH3Ny9u/1Vu\n",
       "5evuC6QM2hGspvRBBrKI1QR+r4XmrArbPqdVBCyrPvHh3M5OYpoVY/XB60zEr3P+75rawroUJLDQ\n",
       "mAIv/zg/wzbe/dbKdRYHypq54UCTCdPdZhg53jixMqAErK5lU6FnG66yifaxToFc2QY67ELJYiYu\n",
       "b6JFUmeC8CRUKkCsfDDYFdt5FBd9ZWTWBHRTtFwls8k5+EBuWp/4I/cCRDg+rWNNpsAE+eYiBbjQ\n",
       "NnIBzeohcjKr1JJc6oGrXqUCh8dS4+3Y1+ai3wv0WknT7f0TL5UadO0SlAi8ePxP8IpEcG2K59p0\n",
       "Sawm+FQtnVkCDSR2+rEFfUDmi46nfGGipxBDEz8vLgkZhy//8/1YYnzyZjDuv3H5MmiRnG3Uz+bf\n",
       "Gt7tvWExm4b5GyMdn1J71QV2q5Hi0ALhEmK4SuEUQ16LDX51OWGvRlHU0hygXBthCRZ9ynFz9Hyl\n",
       "PWXxaZL/8GGfaon8Z9pPKy47K8g9Ev6FynUjQdBtUgQDn+T1d8CD0qQE4Hvcg6SGyNmqXgx2Bfdu\n",
       "QBRnaXxV1EzDnY2hgeYCPv8SQD1+QWAip7LxwRWLvn37KfRQFQtmu9eeFDhZMuwSXDAE0p7cby/J\n",
       "q3JcixQ7xMu6YzzEMaAhgty5iepFMysQNnqkz2qRqw1rzbPs8OrrAeFrmDaiVhoB9duWxoUakMTd\n",
       "rIwsO73zZdC41nvytuuddq9U6WbG95d6/RLbAAfdqsTQzHEz4+/h6SKSSEvvkl9ZpBqygwaA0G0j\n",
       "hEOlBqvHNYnUjmTtTjVECxnNoS2pUoout51HDzEXky2L+Jk+jJqvYmjn4696H5gY/6R9p+XT5IJA\n",
       "qeFjzlobW5gnmQRoVGO4YzG8mHLIRoV3K4x9glKLsQRCF0rwb1kWUdzFwUVpP0/eekWayArCiICN\n",
       "30gChgs97dxfAudNzuJGMFjVW1adVaoFvFfW5zh1LrcCCM/BxatK9CWB59Vlj88S6oD8Uyy7S7yi\n",
       "9Ud3Za6523aNBLlntovm1jepW8ZpJ7uacoCkDKXYUF1fMD9lV2iY+V78fpCroJT3s5AbbP4Vv4eo\n",
       "bRQTIFRRTXUYiwvXUGL8Hh+GH38E34NigsSMYZ810ITD5C4PdAmRR+K8kZarxBMcU/ThobzPDczL\n",
       "+PilZuRWsYDvLXy7I7K2ovhMXnHKLHjdqgxJiPM4DKdRLtglHTV2gy05I6DPuKWIfZwraRe4ttd0\n",
       "DESmjfMc1PSKHcThsj+rsAtmAgqNnOuJmDjTls8IALBtNp1cq0T4K9SSzgLnEuBHO/s6nct7w4hD\n",
       "d7MRl1hr9lZTf1GotFPFb1jlsuS1rcdv+Ul/ZDtdBAGaPeNrM44K9tyVtoBX7UEOvo8N5NJiCASR\n",
       "wSv7Ykp5Gphl/WPX946/+y6xue5wgRN7hz912JE3Qp7S73XEanZGE8K8N5nOuodhOPeoxb3fmo+5\n",
       "ELkZpRrQV1kWAiR4QpSb7FFn6yC1n2iC8MqKI7JXwwuFBUQwNdvx+CM8w+/daxOaMCkxPFJVEazV\n",
       "9Q1F9WvVfM+QjdAqQFx5wTmtqkgHrY15KGWSzddf+A7VE9/haaxlLsbqU5I3iBYAAOSycYtZtTs5\n",
       "a/g1iJrWoVLdUUcUCoQNeJTnf5/qudWI/jdR+nCexdeZ7PjEZVzkQG8dJhsPpcYEAP8fF3CvHH/S\n",
       "p3j78A4RAqfuwUEV7L1VCY9bulhn6Fe4qNmhC2kAxxkXAsAgvngNAUNID2zk6g5rQN6V5j+jBLwf\n",
       "6y6E2MOvE7cuLapcikq57CUaxJx8HcZ8f6hh10qBsFnPGS0EtZzE4seRy3n49iD/tm18PELvpyqp\n",
       "cr2gzX5ZWAcvsS6j8jzKxAiSsN1mO7JfFKa7f0Jn+Dq6AAA7Y9kBw9DsikxQiqwCB3jv1JForkEA\n",
       "nnh5zHI+6blPKMuTbvlWgLEsZLSCj5eHEnh31KH6wDkGktLAOURXqH8WrYRpbOSSMmGJ7uUJdZQj\n",
       "nTx9pIj+4FzGWvn6j/B+TYjs5kkgoxYQXjaEFOEi8iNrEnp59bAWQ1hUH8hmDWIHcPSyza7nCCZj\n",
       "0tMggNWWMjT+StmEbbsxAscKxvEShyAEDON2D47ZNGxGn4qkegs3pPo21F6WiwBPINoURtVj8J6B\n",
       "cZvW8sL6aCNqpYpduKfRFqAIRqKLvAaWcof3rS5HJ3ZELR/NEdDdaMuQEwlhb3qAqkxNxYO73Tx2\n",
       "6W9mCZauT3SyvbyOzIIBrre1CXvcDBCBi2BocjWQ/bp15ss6IXpVSo0pg2EJB0z1OXZPTxpilfA+\n",
       "DphymE/2gqeFrJkFkjp4kYU8DO0HCnx/CsEgwzlJZvzO0fZ3CcZYLgPZ7NqAAWLdiZJ6EACjTrVt\n",
       "uQCj8UI72Oap3qi6tCCXDXyD31NIq2370kvyjXcqQbb9LBmXHUXZyHep4LJw136jgWb1gylKXlB6\n",
       "6brZdD4GY6XuVvoePEUIVRdHVtA6i3MdyLz3jeRF3WlfFR+YI3yj+oErGh3xo0V/MVE0PFCJO016\n",
       "2JeAYODrdShowBnjDPmMwdSmqCWg0qalhyoo3O5tggaLZiO9u5BiUm3pp4YhwdoOY/Tf6z3GE/DD\n",
       "lvqMbzudveVsuvHQJGzQXb1xHnvBzbGHTMQNHgSzQcEsz1FBDkWn1Mfz45fSKb+PRlX2wsHE2D8N\n",
       "jgwLx2iHu8sy37kEwfe5eWkIZHet5l8YhpdKq9o/NBNvqCmaRCn0Lni2PjYn2OyXc9gua6Eyf3bk\n",
       "WBrHaZ+vap7x8UDtVj1mTk0rzesmZerQc8Hw8dWXmRswVeL5gBY5O6n8Rk8kLorxehoUjQL3J1mu\n",
       "zej05CJ4BLpMgMgtbaLn7XovUhVAsqBNbHgEn5nE8LUDjyKST0B+J5ZobT2Nh4UMAK5wZFs/9aYq\n",
       "57tVdHXgzfUpOsJVqxpqkgNdiUIPCIp0QQRPFabQwOloJWnR/7MOZcZ3IwZD3io70fvJAEOjrcCS\n",
       "KHrHsViV/eNLTYfMT42P7PLAPk4hPtYRy1pV0z8q2qXqgKZ443GVtQAA6FAO4NhJxHQoSWhxhuQP\n",
       "MhtVpVzjOLxZQB/ItHVgU75MY0jdbjskhpjvjtTb2x/4KJqjOF4trmgtuBXASeOZKt1uZH11b/7P\n",
       "m78pAAch1B8m2JrGjE3/HeMDq2c8UuNcHXs/cR8GOYKVCnNVmsbQRt6TccEgL/vQD7RfSzFLWl/F\n",
       "xwHOYTVsa+wazhcmp1DaQ+pXJKYsrUCyYZo0rISDWczo5GPFKjYxqvBDP9daN0mJalHrrUfBrfcb\n",
       "N20hkWnlNc0bSBXch1j4cDy3C86jLTq2teFxnwXHlZdMkSJnG5pJmo+I0oP0I5wDPs7z8Y3NQ69B\n",
       "Wm9+ZYQSjmdGlmIXr9RetUN4s1V7pJVquAfVHkCJW6O66vLf1q4dyYEb2mFkvZYgyhOyuZqOW3m2\n",
       "8pIC7lkvS/WPQAWhC03gYqbV1pNHULjNGuriScbqzyVSO0a8p9lVSJzft8dBvU2kp0nNj12G60eO\n",
       "wm27GNlilOzseOTuczhXpohBpHqXLh5oyBTUA7ycfDWAYbRUPgUjumzTLjOW3K16ErUTlXjn5xIS\n",
       "c5Eif3hrSqv1J/V+UgR8Swe6weE5GbB+cJl8i38zUJzd32H0HKIF77Aomldj/TEq9wSO5fMF7RZM\n",
       "34ET0Y7DQxIwpRVzxlos1eJL/5MhIIvIokqblTW36R0BMzR7RF2MGClYygsFlr8MRfZedRP11+IY\n",
       "ZQoy3QVEJWrZPT6bqSrOjVXNEBSSmFztc06EA1M0/+IAAIGbudp2zK2bIgW9/1f2Gj2IVFYqR1P+\n",
       "N8mLiX6o0KzJ8aZs8GAAEYQAAIIABAUAAAIeQZojbEM//p4Qf+LFa9tZQBw6wWkBG8ve5Q2t9FTb\n",
       "QFKXWmvsd6mSILae+maQ/Ajgx9Nd2tGWHx8bK9r9Zeo1eC0+1OXd3p/u+f84Za8M1O2eIu9Dk006\n",
       "Kyg2tYqgn+TslAeQg8o3TlKlkgtwIP0wAJHoPNgC4OAdivYArwRg15eqIlTa86TIuspUhRDbzB33\n",
       "1b8UCtt4rLYwsevhhMdzAfzkt3aQ7GSmD8ZE0f0ikqgWNjWSbOy/i+voAbTWrlQD0Qgbo+yON7F5\n",
       "KGB9/PIqqLLjhU8kuAa6v0J3MXjXvBqStHEdGo2Ql0A7v+IyvHfUjOQOxtLMzeeNk/C23KQe6lJd\n",
       "NxPOzWzCYww5TKMNb95geu71YILTnA99UseTXcSeAzfcU/Y0JorENOtTDqtlE5rIXRi7t9YDvZu8\n",
       "RKj9DFBdlKm2C6Qq37GRq2I8Qdc3i7jjDfSsQ7Pph2olnPKnJou1811pT7sNtyNZ1TsTj8Xg8HFv\n",
       "YsrFPAtC6S338q2wD3pYcJ/mFCeO0o0HpAsqJbnoxSCPv6K3a00NaXTfZzef1/OU6Fi+5WZgLDsq\n",
       "y2rkMunWyohgHXSXf8w0/BkldH4l5zoc2NuOjvmIpqfn1H+AzYpCNYpZVBsLxt3uE0XX6lZ/jvbU\n",
       "wPDf2GTXTJkCHfAgRkJjPYU+pg7M85CwAnt3oaZTwyvxt5/dY8yJKSYwjKSG6ftASFyUMZ7TsjoA\n",
       "AABrQZ5BeIR/BTPeYsCq0XVnJniyAABWPaMsJPttz6JB5XQjC+HbXCBcwWpmqMZQqh8CnQlwshVF\n",
       "PZYa59Ai0N2To6viMgoKou+yQ0+nIQkG+8kBRHHmyybEqkeAwiO5EACYhAOErv5nMpklK5kAAABR\n",
       "AZ5iakf/B+pBd4enohe8cMU9CMyrVZJ+bb5WcCCM8hu+jGgY0yfXVjWXz8rHbBz098EYaBKtdTP2\n",
       "TABmw56Cder6TjrAwtNZU0YKNXaw6sbUAAABLEGaZ0moQWiZTAhn//6eEAe19nkKh+uqWwqv9fGg\n",
       "9qEtUjyA2LWXUpPP3/RQJ3hKg4Z9yXseSqvMIGmZvaRyECV9dDuw8m+TMBHZOViD/fzAfOdHgSK0\n",
       "jgXz6dI5ZPXD7Dh2tulrv8UMDNu5jO9Fu29LOsvKDgLqYE5CwnrsoeXhctFl9SG64OWuSPRDdg4l\n",
       "Uhv51nWevIGPk1oPDC4AygXkMorCl8YqFy84+tGRInrsoO2ctL55PqYFMG+T7PVZqR4g/3WINSSV\n",
       "j1KdIENr5k+1vY2kQmaOL6A0TuFb2ybK87luxTYhDnJKmM5FUX1xJEQUvMZ3dukVWWYi/R3draKp\n",
       "9jhjbpkLrDC+FCcAEFNjBrDIvDyoUL5FjAvYFe4uulxIZNZUWRrEfBjoiQAAAE1BnoVFESwj/wIr\n",
       "AwTOF9ghJ13EAhVfuKqdsZtKDtfa5bZ2O096tMCNnOBpkEIyTgD7KamHe2kWhxdO2DLm5llq0Uea\n",
       "kjU3JhD09tAD6wAAAEYBnqR0R/8AE+gV+u5ldm86fFSNP8an069Nikvz/oSXwzvLcwV+KR5Rv+5t\n",
       "E9XCmHZx7AAzYdhb1WqrWWo5uftWYt8qugb9AAAAOAGepmpH/wAT4mOO7Lz/MtNbdLaLdacumQdo\n",
       "gxEj9pV1dEg9ZZXkLjiBuO72YFIuKliwtPonneIfAAABDkGaq0moQWyZTAhn//6eEAAm390iNxNS\n",
       "HAHilv1wz/VVN5BiNCDstJHUXdP41//ZezwilEdxPUghzpvKq6ANShDewcMJv/LIgmPZg817rE6w\n",
       "SkFwYaqkZJfu/lWkfuT2ZmP93dz5lIzdsUaiNU4TqY6+rLN43sDSvWCtzt5Bv94nUQ1PB06gbx85\n",
       "H5B27Awc8CNAWkpKmRnloE2OB/8GQ2CvxlEsrZm5q+g0xrzHPQ/6S9V8cFTe4UVFD8nxvUVnrxXs\n",
       "+JSxdg2stAw/4iMLQqa7ScJvNu3NenSVcDon/nIWpO4cCvtIbszf519YrXW1O4dRcXJ+wE1Axq91\n",
       "yMfiJtMl7TN1e8jL+1kRYlrGgAAAAEJBnslFFSwj/wAMkSvjOarwFHzlbFlhuUASF3Bk+9EaEsQw\n",
       "z/LRVdMfJvAyBj6Bzl04J0XvfhD+h/1TdDG/tw+Dv0wAAABBAZ7odEf/ABPgAw9JrpqlTA+qE3HW\n",
       "9062VE/dgvd+G6Biqlk7KlHmqY3EATHwu9C8wAA/nE60MEXoYb/T6SwAQUEAAAA5AZ7qakf/ABNj\n",
       "b5Ms50LcuW98Tas/wtg9rQ1pIbrUB9TGe4/AOcU10xVXYMkZJShIEy+JsNHW1lKIAAAA5kGa70mo\n",
       "QWyZTAhn//6eEAAm3TegKg+ho+AGVXijwEWSWWgZfEs0qLtclbouYU0lAWR+3cNFSDWWLpCCs7wt\n",
       "3DbylWAeRUzO0/qWBjXSoN5gj8RujjLrHNQVeOYzt/XYYieZcn4AjfnqgK9rCKSJfPXIL+5CXOqt\n",
       "xFUuK7DMIri5zc1jFBK5+LrjEGn/kwl2gGTVASrLJ3/0I/v2wtPFhtJUmxUF49jJSE0Yz9M/3Abi\n",
       "QvnG1u5FoD33WgVE2XLF9IBpR6QgEhuJAdngE9Mwhuu/nglHaruvVRXVXyVMqPUHPaAJ73gsAAAA\n",
       "R0GfDUUVLCP/AAw7DcKmEugcibs2UXJO9BCROr0SADoy+qYP4cbKJh7FFeoAgEL/HVtTwEovLTwa\n",
       "psApIKkm2KOZnaGND87lAAAAOAGfLHRH/wATTZdTg+1tWPAMn/JaH3noVd7sWno0uUl9LPJX1Po1\n",
       "EvRf32JSO6oFbtJBMP1cTtAhAAAAPAGfLmpH/wATVvUwdhTuBUsObbDpQkzTj4eEyk1yZljWDk1s\n",
       "B4lpKoCGqCzEAAH9wg6+Tiyt7choDaDZgQAAAM9BmzNJqEFsmUwIZ//+nhAAJaHxOff8yVB2GMQA\n",
       "aCVHb1LdIbAS3Cjz/CrhpxNBweEYr54CtMD9S4Jfjz4p/BPrxeWw7mCGwTKeeE9m2NGb3mv6ZNKF\n",
       "RrjoFMKE8sT2ldPc95DvTAc4ddElOs6rw8R9oSLSQXqQas1LFiqajXsT3iPwAsWCcObZQwuotxYz\n",
       "KOcYng7+LhPjFWRoN9qSbFvRZWgnFcvSd1qsSvpPTYz2Bsz2kEOYJW1i3S5GMdbFc7dViKIb42T7\n",
       "ZM1G7NnB0BAAAAA9QZ9RRRUsI/8ADBlnW51WKZUsbgLakv7Fp77P+QI+sFeYAGO2SgBua6CaFyNs\n",
       "hKcHBR+QZWi7mLwRp67hYQAAADsBn3B0R/8AE2Bcb+O12b0WJJQu3+pKlNqxnzup5E28c6ECSewi\n",
       "Se+uZng0FABmw56OaE92RrJGE76Z+QAAADUBn3JqR/8AE17J2r+aB1ZttBpJFLf+8YXuUDDkROuI\n",
       "3/6Zho/jilsdcV+vAHtEh89UOFxCgAAAAKtBm3dJqEFsmUwIZ//+nhAAJah3nfG4w6R2Vvvo5mkA\n",
       "4M6J0KU+1ogEW7YbLnV+m5UzuGFTooRASpZdRw9oGIFk3AXUgTrwvoWSgNeIXQuIGd5hgUsdUSym\n",
       "r24gPPtgdmmpvsxp+VZLwDRvblMjzgc/Bhy8dpvOVc9rtnPp05duK9+77TCwtyEUWKSCEKWvP6XV\n",
       "Boy89N7Tb7pa1hXPbegPNLwQ0VwhU99pOI8AAAA/QZ+VRRUsI/8ADD+MMyFTn2doAYmL04nssmhK\n",
       "0beTVRE+Z1xNvUd3TgegQyOZvMWyaH2MARQGr3PG09gWlhexAAAAMgGftHRH/wATVNHNssffSsrt\n",
       "AGjYZayjTrUCurJQUOD065KuIbGNDxCGc195qfSirImQAAAAOwGftmpH/wATVvUwcA8Jubw3FiBQ\n",
       "n7DuBny2+vtVQ+jR8mFWynHEPmYeF9R5pgAzYc+rJtXs/27fMQ/DAAAA2EGbu0moQWyZTAhf//6M\n",
       "sAAmPTchZTT8YAZXMGUpiXifxEWB1iHb3t/WG97JpsPW8bSIohcZdkr5mLAzqlLPaGUdb+o9wntp\n",
       "dOq/Pf5xcpQdUbF7bX2sH9hmp/yD5krdHnhvswQQX86zHXv0H2oejCImoZ82i2un5o6s2+Usm3r5\n",
       "wiV1+biQU8EmKWa36+qo2T64syke4fzexO8c9TRQHfgpOAyhH3T7KybZ7/if9mhIT4hxpdI9C0WX\n",
       "Bvo7+IM4L7q2Twjj+Rfb3QqIUI/WYYYQyg/mNjPBIQAAAD1Bn9lFFSwj/wAMQSzeDZx9Bhta4MN1\n",
       "FFrkS3VBAYEvfR6ZzDbPTSX8f4YAAQKgt1STzXvzOANHw+pvkmfAAAAAPQGf+HRH/wATVgqGhyoH\n",
       "QGN8RcP/ZPESRXRgkFoZbEhFFIMaDQmWXGCososiNXRTAB3C8M3CnQBj3aeeWDkAAAAvAZ/6akf/\n",
       "ABLOUO6V4BEBIM3DfjAu19wmqPIKokKcr1KE+xXlPARXCuXsm2+sug8AAADrQZv+SahBbJlMCGf/\n",
       "/p4QACSqUFChmYBwyEAuAOnBXAFnDqAzJ/lYhdv7q9oyTtkkiUP6J3a1USYLAtEARXK4WJxoqmOU\n",
       "xGhQO8MAOaCG50bhE8q40Jcd2XopvmQdhADELeEY+zBj0uLye0aJhssNu90Vg+ggkz2/5JjTog41\n",
       "xbcI4UrcV5kMR0zjAmS3KQWC7pcxTzuGcINQb9bSHkSBwDjuKcSilcLtz7UqJY7Xg75tU5mDn+MU\n",
       "/ZSzD0p9OFIBcAwGNesENzFfwqPeEZA6XvjPUxsacq7CL6LzXXMmrzlZIwPlN2tjZ8rAawAAAEJB\n",
       "nhxFFSwj/wAL9GoqWTKZcZS+ROoy3wRyt1AAPxZ7YB9JYsXArlNOAAJ5V/jusNya00xoBuECAgur\n",
       "hrO86xMPvX0AAAA3AZ49akf/ABLeuZ25C9yZv8WsrWTjuWFjUnnwqwh72t5LzphtYfulGo5ICX+A\n",
       "D4shtIZn8hBLQAAAALRBmiJJqEFsmUwIZ//+nhAAJKHxVSAFPwDDRJTwkD3e1euBwUhtS2vnOyXY\n",
       "2T6NKpfA4YVU3PiixZXifjtKVoQblzlbn+tqq6GtHcl0p4r4/jSMNmSw7pasldhsJpndhxU9GyCo\n",
       "pndRv3P//wwKS3Kba+a2Aqjwb68iZIxdNnw94ZHhKFrhw6bEpX9gA2SlMIVV2Dt8ky38FrOQuVBa\n",
       "9+sDWRp1W5Y9lzJcbP8NBxtOIwK0voAAAAA9QZ5ARRUsI/8AC/QsMjfCbfz6T99DtyfjHV1M40B6\n",
       "TeRoBlGTzswjCY9pNDj1/bk0ktnGoOTjqU8Qya7LIQAAAD4Bnn90R/8AEuA/0swsMJue4rXCR9Xc\n",
       "g4rBsM8t+CGGZyYbwaamhz1zpP7Ufnz9fUcDzIAA/uCgmo3RATJlTQAAADYBnmFqR/8AEt65y+vo\n",
       "AMcvAs3GK2g8a4iFgRh8bhcv4IzAnmGN7EEnGUZu7mABmw7F+foplIEAAAC4QZpmSahBbJlMCGf/\n",
       "/p4QACSiDx5IJAplSNqrE/GA1DN2SW7X2M6b0Dkqy6Ct0JmYhFxqR8E+xWwVBJI3mL32EznnY6k0\n",
       "0+6M5ENsAGIAqJZxNVD7aDe0pTjWymU5RcEZH5nPREZhD6eh66NjmBPN3P/69LBZfVRZzYBaKm49\n",
       "TnY+xLMTvCYGQVPr1dSlQQsZvQhRZiJgV1qdo/cx+ojIWZyAUJbDE4dyi3Y3Lo658xInWBHooBt0\n",
       "gAAAAEBBnoRFFSwj/wAL74xJMnx+G/+A3DfFYXX0D5JtTdQkdogAC3oTeJPF8GWMguTpcpnCfLC9\n",
       "pjXSooGdHlmwetQzAAAANQGeo3RH/wAS4D/SxIgAUmxKtOGd5yCJ3GCJCcar3prZMJwzNn2PF7wH\n",
       "SgXDA3wAwATgk7gFAAAAMQGepWpH/wAS3rn/ZQBgFeGcqKN37jBrw7Yu6bFUIGLfy3UugRKuEf8V\n",
       "UCYmpQKsticAAADiQZqqSahBbJlMCGf//p4QACOod53EATss1ImuagiHqapR9vKvlF6dy+i7EeE8\n",
       "BJ7Dm4HLJYbvDTzLSe6t83vc4BvuWSQ1VU24KfhBaB26DQpN8Z8+wIB7nQpzTlVyXwmdLn9EdX1p\n",
       "A5YpqQ+8zzi0pd41x8qY9ptroZUkku9QB+UOyOBv2rwW+QPyCqYVVBdUwQgFTRYa51BP7ARbRWOQ\n",
       "Cmizn3J1sfNhkTxVFSuJYhf6vX8bZIVVQZzDmUAqYOPwd+lZGDX48OQ3VOuJ8NfIiK7UxRsIN30Y\n",
       "Fw2fUMxm2jHyQQAAAEBBnshFFSwj/wALndl+i9BhMNb68En4t914gSUUHMRA12rgjmspwJhxsF67\n",
       "mfPmGQ2xx3FQLGXN4LZP2xiDQTnSAAAANAGe53RH/wASULcBQ1MpjSBcVkTj+zthYS+H7uVu3F88\n",
       "ET0u2HDyFez2I/FDweACkDjzT4AAAAA5AZ7pakf/ABJW9TB2FO4NppzsbJ10t6cB0psnCa151zzV\n",
       "pWuj6XKOOO/xtQowAM8py2J+CBRDnAsRAAAA5EGa7kmoQWyZTAhn//6eEAAjofFVIAVAO3vJAhws\n",
       "8k/37RswFgCfOZLdIEW4mzmwbRA3YaFRM7Qk4P7hII6QEUS5WWLJT2NEnBbLd0NuLM7jj70gfMvW\n",
       "TUvZzKl56/yyfj0VZG8/Z+lAlUfTslSgCbgPwNY66Qej3zfUDo/lRboDREmD0ncUXZE6cL/otNu1\n",
       "Wec+wX6dIgYjoY8Rp4jmDyOKZH1VZmSr/63HcadC5j/GWW8ftvG+Nr3HrwWkhIOwJ8mXWcryupDi\n",
       "i8sL+a72SompjIKP0GlbCw5MgbumQE/VEtJ7CgAAAE1BnwxFFSwj/wALoOxJMnyHYIonjUbfenLF\n",
       "5y7/hIN9wOAa0/xLYR05KAR9uhgUUlwavj0bGLVngA9uspB6hDM2BDOa8WD70ke0Q5CHsQAAAEMB\n",
       "nyt0R/8AEmBcb+O12cyjqPSmZOTTUgaQXkaY4ikJdoi+At9dTSje5AtE3FQAANRnzS2+faQLXgS6\n",
       "dgX3/K4Y/7HjAAAAQAGfLWpH/wASVxjo0djnun91mz2w2zUOjWKqzA0mT90gMfitS0JmbPlq4E/q\n",
       "AABtJU0/bWZBlk7Te7vR9IhfWi0AAADzQZsySahBbJlMCF///oywACQAq9iZW3iAD43wIlTshmHF\n",
       "zU9VQDvHbeH+iEnFOxpGXEcPfrmfT5dRKQMxy1cNyX8eRSstv22tRdKw8FsbuVf6RTanEkz6gvDI\n",
       "65loWflm88Co2DZcI5ebY47pevn/ux1j/KTKP57EQYG30I5outfYXI4La4w+H0g5BLNgMI9hu0ks\n",
       "GQcfEUA6//Sjv/qgqbsnTp6FqaPQ4r7/8KXbZz3kahvSHKShFdNGCZ6dBY5UXNBoJ5ta050gQIVQ\n",
       "PIk0EJrubBd4D+8RVZLLMGMrl72IZO2UmhfZuXOeaoxezrZdxI0hAAAAVEGfUEUVLCP/AAuljCuA\n",
       "+q/Qydbg9FcAKcXIoOUIu6yb7q7J2bqo0gJ38t47DSBELw+LE/9jFj0KB0WfQAliB/5s3+eLJB+2\n",
       "GZhtWsosrZ0UbjjMmAAAAEIBn290R/8AEmA/0swpPLSyLm10k5EW+0OWS/XMbi2X4wppdITpbs6V\n",
       "vHtnJMs29sAAGoz11vHGAShjIdG8en2GsBQAAAA7AZ9xakf/ABJXGOjMvOylb7SJx9qM1WMez0oK\n",
       "1k4xYCfCVv7pc1oDslu7IwcDfVwAICtvep1UjF//MfUAAADTQZt2SahBbJlMCF///oywACQ/3wII\n",
       "FP1yqV3KaaqVUHQ8NMiBXYr/2hQwRYxGEfn/qRDDNKgqjSxLvMFlaA0P4NOQuY6xyyFBHl7l+2iG\n",
       "OJsb10KhnHU6p9Yk7GyuvLiA57cnVFASg2jKfngyHsyw0fxFNRU+sbzX2U1qfooLcIeMK+q83nCA\n",
       "QacIt4EAfF1mBX7DWG301PtcdpQHNWsD/DwLW3s/Bi7MjdqSrOrPFQ8nmJsw65IlY90b85XmINNM\n",
       "bJzzsIqgowQRuG3/PQM32Ra+BAAAAEhBn5RFFSwj/wALg8nVQtQLouv3c7R2I+LCt6eDXMFO8Z/y\n",
       "rX4fTYFXlPBTPufdHCjxaxWeUbXTdXWAB99u6q38VkL1C+3Lo/wAAABBAZ+zdEf/ABJU56pjrbfn\n",
       "/X1v8YO6AlffrXyavJg/Lux2ohYwAePvCzx4S2mt9AAA1GeUR0Dw4UnWVjtD9o38TBEAAAA6AZ+1\n",
       "akf/ABHeytbfgCvLOg4V4jNuWJ2gqg00qnr7phAkYBobTkSvURD6yBwAPo/5u9JpLxS8DlrLcAAA\n",
       "ANVBm7lJqEFsmUwIX//+jLAAJD03n+5qY7ADmlNea6rGTGDzH7Ipiiwuo+5bD1wYVAMLj9AaYjkb\n",
       "4ZH06Pxo6Rpt8r/fyMq+V+7jx4J/sEpxYfNERE5rxFQIe/8L23jee2FjDqqM8nFxGkGFvB5ppKQc\n",
       "EnBq5vIQYGF8CCNav7pnvUbWTTYyLQ7FFR5UnPF1V93uRPWciPvkv3BuJ/VaC5QUf+pDryv6/QZl\n",
       "IikQi7OvB0FC7SP+z8P0eN6sNuFwkw4bB4PnFHiFX3XLg/iz+6opQkY1VUUAAABBQZ/XRRUsI/8A\n",
       "C6KLP8ayHO9nLYj30oj4jgwMDlkiG/eCyhjMDl2ZwwF7uYZNujsW9dAAP7rZnV5karB5v/5cVcEA\n",
       "AAA3AZ/4akf/ABHW9PiYU8OwuvGOM+xn1y/0nUeLprCQwQqfHfikUUBM38C89TeuwjqIQ5jV+QUC\n",
       "YAAAAOtBm/xJqEFsmUwIZ//+nhAAIqHTrIAU/jqQJxQMj3ul6NVuQCqclKWG1uqtneFAiPEIIjoR\n",
       "E56KE0JAo/FJY0u15ARiLyyyWj6kRudIHzLp4SA3Koy40RWzJ3uIQSNXELgg/3EMQcurcueRl5G2\n",
       "zrmnm6d/RgL+r6vk+tLHwGsbfFGhfDylkNQLAdz/3X9m0+QA+o53fM+5yoTrEACzxIV0EqheNjhO\n",
       "k2CW5qBA7LBovPND6y5x38mxj4whP4Q8kZyruGcwKjW2ZsEIFa/gya5/KYTV1bQwqMwarhFwRuwG\n",
       "PrUBbeWwIwVRFByRAAAAP0GeGkUVLCP/AAtY7FF4qRLoHIDnSswwYpgKkjzoSgJU5KuBOEdrbYUE\n",
       "7A8AQ6K8bFgAOABifMyIDrTm6ohiqgAAAC8BnjtqR/8AEl96i4+DLzDmVulVSGH5Vcm7k5dnByCy\n",
       "PBwWV0QLVPvh+o1TkTxuMQAAALtBmiBJqEFsmUwIZ//+nhAAIqpQjzwRjhyCLQCs2bU8i1t/msP9\n",
       "FkNjfGWbrH5HY9ReeZJTP+j/o+wk91vh77QIZuAVW6qdzaaL7Sv0Vr9/yXJJh+TNaAvHqskIMr8G\n",
       "vLoSgmvOv6bxzcQhJVleSGBcekgskjBezltt5jDcqk5ma3NFPuwYB73ZKB6op+w4FT5CHrB4haVK\n",
       "IjGw4ClfbvnLfN3tvl628VQN2OiTC3TmJSe3G2zKHKv3SsHhAAAAPkGeXkUVLCP/AAuoTBeQSr+x\n",
       "r4QkrsuWk9r9nu7yYUfN326lNjb7z0dxCKusAdRhtAL6IAeY0353H8zCIqpYAAAANQGefXRH/wAS\n",
       "Vgpknh+VnKt7JmVkokLSOqLKCbAU/+n8pMCSWg7YmPpS0AGdRmZuxPwRgexoAAAAMAGef2pH/wAS\n",
       "X3qLj2i07ImugqI+2TypjSkHMcQ07u4KcTzXpU7mfsBS0lXH6l5IpQAAAL9BmmRJqEFsmUwIZ//+\n",
       "nhAAIqh7QX1bIWwA+HNsJXWCbdN6VRrs9SPGQa7u4uORjliaW4QQkdco9Avywgw8Bqt6Ig/JZS60\n",
       "nJdMDsTe3s3hpeKD3UEAzUKlMDt+HEJ187Asxpc7EX6i5MSIjYljUOir/O7bQ8SC9LE28uKcljjj\n",
       "kkjRM2ZpOEFt1UeANrOeM+coIjOshPpegel1HMjcScxaL+5GCPZN+zHbLvWf51MppOA2gNfoJyfS\n",
       "7AlKhsT4bAAAAEhBnoJFFSwj/wALz94jBFhW498yflib/UyIVe+uBaiDILgeFQqbpbuIUnpyd5AD\n",
       "gcPjGyHlo6LYWDxQAZuXqVDuSodoykjFg8EAAAA7AZ6hdEf/ABLV+/kj9HHUYY/aEZQJwmdzHGkY\n",
       "RSVtQAmte97U9WeODFwEzznoAA/nE6x9tSKFcr7WEYAAAAA3AZ6jakf/ABLfgi4bXSAncLY7tzIh\n",
       "nOlWc+OlmM9DndCm7qrDn9OjONddw0FISI5RI+NCruNddQAAALZBmqhJqEFsmUwIZ//+nhAAIah2\n",
       "+/RPceADNXVQsDa+nB5EwW89ho8O2hXoJAb9Shi4/GWDhmbkvAheJnhhoq/+GcXzaZ3+56wnKXDj\n",
       "Opk23LtYqnrvrsiQpYKJPx3d/DidmcfzuGXl88X9Sfhw87QMqUJttiWJOdlxbLin6oZwFT1wwxJQ\n",
       "TI326c/YixdWyKdr9hFL0Uogl7sLdA4dYaIpxv+NOsy1b5UFw+mWdqt229Yh/vzVgQAAAD1BnsZF\n",
       "FSwj/wALqFO2zFWYFx/fZy6+tQQqE+4Q+EXHQskLqh+VEKzlujyxff8J+IanrKxqf0UUv3qbVQBx\n",
       "AAAANgGe5XRH/wASVj9A4GyIh5P3s4LY7QngzdcsHvJTvgHuJMaqIYGcTo3luaADNs8GMbGwgy0x\n",
       "gQAAADQBnudqR/8AEl+iKDFGfd4ABy9/k5veJKx78vvCjXDpAMMmX/KEGjGsxlYcY8mwPLx/dmug\n",
       "AAAAs0Ga7EmoQWyZTAhn//6eEAAhqlDzWQAgRogjNP8F15X1dw72sXOgYI+lONVmPiMEpZACpQgn\n",
       "4uN8N1sXDQ9pTAxuw+1ztGnPr81BEaJR547T9JaavTCdx+TpXep9kBAxzVXpI8yK5i+IknkM/pEG\n",
       "5kRS3KQeCy4c2+I1AfFnfTbFIPmOY86wFU0OSosXxdbC3PHQqBeMAh9BCLncrEF2kojbLrmYG8PU\n",
       "Xm2no9EXvhtg2/UEAAAAOEGfCkUVLCP/AAsQ7FF4rGn0FLs7dg/NXffiO7t+EQgyrSnkBuRBZwXJ\n",
       "Dy8wLVYHAueGCc0G6lWvAAAALgGfKXRH/wARYD/SzEbmX4CXiUVj4Xhpp/qSxxTGymIyS6vgF9md\n",
       "ONyBlHNEG8AAAAA2AZ8rakf/ABFW9PiYljQvdtDj03clAZbB703SJExP9dwwS2EqSlWsQWABmw7G\n",
       "CxBmCUTB5jQgAAAA2EGbMEmoQWyZTAhf//6MsAAiCioyn2GYwJ9kza8AuaAqNBx43i6t0LC+m2ea\n",
       "xj6rgh8Ccdz7Sm01FoTcf81ps/ROH+iSV5Ve8SfSEktdCkXtupoBvUYtgoEcGzhNp4WIiTKBD198\n",
       "7DEDcY0SkaCfmGfRRPMq3mgP/nRW+gYCoUWXyUNAJH5oYzd3V/uuPF7dbCSe+in1ECLz7x/oBBhQ\n",
       "+V1tem09wnNpRevqAA3xfELIydm2ujCo+pywRtSUVupWVoq49wHbxFItNKOyBpJQwbRMYVjutDsx\n",
       "IQAAAD1Bn05FFSwj/wALEOwzIVOfZ2i+mUnmSUnUYLgkdOsnjoxQf92ssOOeZ9CAFimcSgJ4J9U8\n",
       "UBJPZ2AUi6EhAAAAMQGfbXRH/wARYFwPWgduYR6zD4r1sQQ+dR6w7+YENiDDHhr/oROu7H38TcX4\n",
       "MVWLJ6EAAAA8AZ9vakf/ABFW9PiBUO1H+W6zzlTmw7tZPZJMxiaHa6hTBT5MeZ4hWei8Go6EnAAH\n",
       "84nWqISd/TUX1zGAAAAAo0GbdEmoQWyZTAhf//6MsAAiP6n0MCD2KrnLaSJ6QXFfJwBN6SV9OlKx\n",
       "qPmkxN5OZu7DZ9dt4e/Zv+lAuwgw+Ps7t3ItA2vFFf5mkDkCUhOmomSeIuEPMUp/nXBlLounJpZK\n",
       "uaNvySmpHgR3dMsXesBTM7DSqO2Bg1LlehPvL3vbyWBvn93q90eYPXSEp7ETvv3FmZlv141yF4Ir\n",
       "zFcBImaGiaQAAAA7QZ+SRRUsI/8ACxKFHNjxQmZIWLYOmIu2jfaHAcr6Xl04WGNM3XyqW5fmo+As\n",
       "r5AcZIHv+oJZoGiBgYEAAAA0AZ+xdEf/ABFV+kmI2d5Xrppy7cFIZHOOeezCBSIayzitPUPKGZ4X\n",
       "2LAA7heGf4cEEO+CgAAAADgBn7NqR/8AENXwbasZ/XKhrDOTWIaf0MJiZ8owi7jgh/xRZLtDqajB\n",
       "8/U8lJAAH9ZKLG3xK5R/gAAAAIVBm7dJqEFsmUwIX//+jLAAIQopUtuAOTvuln6+5fcxd7wqh1Zy\n",
       "WSO1D73r4sIkEt4I6v63B6PxizVwzJ1JDoODN25274QGivFUaqPc9Fl1wJTuY/pw/5lydb/u4W9v\n",
       "YEAgBR6r1be135+nurCWEueVzl2rsxam16pfBcS+Aq2moPhxzWfBAAAAO0Gf1UUVLCP/AArI7FsE\n",
       "dIiCy2QHdIJNMapKf4YP9YL1yM0MfABn7MAXlTTYUSdE3QGIP56mJoJ33rTgAAAANAGf9mpH/wAQ\n",
       "1vTDIizqZ/xatc70WRGqdOMrP3o3+ltg8VIB4erct12ABm2c3jfrhyTjOaEAAAB7QZv7SahBbJlM\n",
       "CF///oywACEAq9iZL/Vv+vqc5R9HXdbba813QjnROjafd4apJBQjDYGl3booEz9FwkKLpWYTk0me\n",
       "qCwQtLCPP/4/neELRflUyJPuXr6NYB0QE5j3ZAjRKPmklaJJLr+89aNr/9YB6RNsdUsjYi/lifMp\n",
       "AAAAOkGeGUUVLCP/AArNjCqYmj8w00UYXqo86npv6Oaw+abNkMDq49Xu0YBUD9TJ4Autqve+Ltl7\n",
       "Jk7VY8AAAAAsAZ44dEf/ABDgXG/jtdiUXqvh3mE32UDTIJmQ0hGZTu25lCD5gg5JVJGF+YEAAAA2\n",
       "AZ46akf/ABDW9KSs2srajH5uADb0OfN6gFR6QPXr/3QIza3rPXg41jigAA/nFsw/cTraPQmmAAAA\n",
       "jkGaP0moQWyZTAhX//44QAB/f6NN6BUJlYkTXKUo5fRytIEA0INViCaRyMTLL3IJsojzIT52/OSS\n",
       "G6FWBtjzs8zpm424lN0lmmc5dl++/YbUVB+FSn/S7hspoxrugnruhsXHsoL0gJvRS/qZUV42WKkl\n",
       "wu7oqJTR6Pi3XFka5kE04h10ePH/xA4kigohFKUAAABTQZ5dRRUsI/8AC1rHJGDOqgeeo1OoAH7Z\n",
       "nnvbtunQjFlZ7mlSNSI9r76Q0d7pkiAAHI1lBq+AJYLXLwOF/t1GyxIY/F/3iy8chRVa4fFEor9+\n",
       "NXUAAABEAZ58dEf/ABHWPtKtgYef08XmZGKYiS7NBda+TmmGQxJZXtm3ZBc6Do6Ekt65WYzK4mBD\n",
       "E0AQrxZvzxxDE2SfNSH5pKAAAABOAZ5+akf/ABCdyXTMRBtiAiINABM8r1pm7DlglN9g7B/FP+rT\n",
       "l8Gnk6xVVqeE7ZE01lIRX8Ja4O+fXpoDsLGvHHYE6yfvfbMN+ruBah+oAAAAkUGaY0moQWyZTAj/\n",
       "/IQAB2XUyMj68F4R6AD9t8wqiid3ibOBJT3+SYzapPP6Ol0QeCLe2U9CYK6c4QUgYjobKlivOSWj\n",
       "gXp7suPMlQI1gBqSFvKVMyjA3v3QB7MjeQvWfcK0ZN5vGxxPgFfT3j+483ZsE6Ma8j2mHO/sXbQ8\n",
       "59yJbgfunbOVktAwH1ksqFXvx10AAABmQZ6BRRUsI/8ACs4bgXKVsNgAnWO+MHTury474uXY9sCM\n",
       "Z/o8x4zsefbCub/MzL5AHFKl/27+Yj4uoYbkLo5fmxlMbChtJrx+LfNFju+wusKWKapJ7BGO3h7i\n",
       "u1ZfM91V5q7WZgYwAAAATwGeoHRH/wAQYFrA9uPfACEsHhzUEjNq/79W46zJJwiWGwq72M6DIa01\n",
       "Sx7e2wTf2YSB5crsEtlKS3gbiqgwNMTqN1u9yNDpMsLNGN/O0IEAAABfAZ6iakf/ABDj2wfYv8gB\n",
       "CL67jxzhrtoJo43hbuc60pPzHP0fDxRWmJODQRhMwH2khL26f2Vgp+tRW4Z+TpN0xe+7GH4DyIKr\n",
       "B/Pc3bYOWxQrlOcr9vZawugGC1T7gRgAAAe6bW9vdgAAAGxtdmhkAAAAAAAAAAAAAAAAAAAD6AAA\n",
       "B9AAAQAAAQAAAAAAAAAAAAAAAAEAAAAAAAAAAAAAAAAAAAABAAAAAAAAAAAAAAAAAABAAAAAAAAA\n",
       "AAAAAAAAAAAAAAAAAAAAAAAAAAAAAAAAAgAABuR0cmFrAAAAXHRraGQAAAADAAAAAAAAAAAAAAAB\n",
       "AAAAAAAAB9AAAAAAAAAAAAAAAAAAAAAAAAEAAAAAAAAAAAAAAAAAAAABAAAAAAAAAAAAAAAAAABA\n",
       "AAAAAbAAAAEgAAAAAAAkZWR0cwAAABxlbHN0AAAAAAAAAAEAAAfQAAACAAABAAAAAAZcbWRpYQAA\n",
       "ACBtZGhkAAAAAAAAAAAAAAAAAAAyAAAAZABVxAAAAAAALWhkbHIAAAAAAAAAAHZpZGUAAAAAAAAA\n",
       "AAAAAABWaWRlb0hhbmRsZXIAAAAGB21pbmYAAAAUdm1oZAAAAAEAAAAAAAAAAAAAACRkaW5mAAAA\n",
       "HGRyZWYAAAAAAAAAAQAAAAx1cmwgAAAAAQAABcdzdGJsAAAAt3N0c2QAAAAAAAAAAQAAAKdhdmMx\n",
       "AAAAAAAAAAEAAAAAAAAAAAAAAAAAAAAAAbABIABIAAAASAAAAAAAAAABAAAAAAAAAAAAAAAAAAAA\n",
       "AAAAAAAAAAAAAAAAAAAAAAAAGP//AAAANWF2Y0MBZAAe/+EAGGdkAB6s2UGwloQAAAMABAAAAwGQ\n",
       "PFi2WAEABmjr48siwP34+AAAAAAcdXVpZGtoQPJfJE/FujmlG88DI/MAAAAAAAAAGHN0dHMAAAAA\n",
       "AAAAAQAAAGQAAAEAAAAAFHN0c3MAAAAAAAAAAQAAAAEAAAMIY3R0cwAAAAAAAABfAAAAAQAAAgAA\n",
       "AAABAAAEAAAAAAIAAAEAAAAAAQAABQAAAAABAAACAAAAAAEAAAAAAAAAAQAAAQAAAAABAAAFAAAA\n",
       "AAEAAAIAAAAAAQAAAAAAAAABAAABAAAAAAEAAAUAAAAAAQAAAgAAAAABAAAAAAAAAAEAAAEAAAAA\n",
       "AQAABQAAAAABAAACAAAAAAEAAAAAAAAAAQAAAQAAAAABAAAFAAAAAAEAAAIAAAAAAQAAAAAAAAAB\n",
       "AAABAAAAAAEAAAUAAAAAAQAAAgAAAAABAAAAAAAAAAEAAAEAAAAAAQAABAAAAAACAAABAAAAAAEA\n",
       "AAUAAAAAAQAAAgAAAAABAAAAAAAAAAEAAAEAAAAAAQAABQAAAAABAAACAAAAAAEAAAAAAAAAAQAA\n",
       "AQAAAAABAAAFAAAAAAEAAAIAAAAAAQAAAAAAAAABAAABAAAAAAEAAAUAAAAAAQAAAgAAAAABAAAA\n",
       "AAAAAAEAAAEAAAAAAQAABQAAAAABAAACAAAAAAEAAAAAAAAAAQAAAQAAAAABAAAFAAAAAAEAAAIA\n",
       "AAAAAQAAAAAAAAABAAABAAAAAAEAAAQAAAAAAgAAAQAAAAABAAAEAAAAAAIAAAEAAAAAAQAABQAA\n",
       "AAABAAACAAAAAAEAAAAAAAAAAQAAAQAAAAABAAAFAAAAAAEAAAIAAAAAAQAAAAAAAAABAAABAAAA\n",
       "AAEAAAUAAAAAAQAAAgAAAAABAAAAAAAAAAEAAAEAAAAAAQAABQAAAAABAAACAAAAAAEAAAAAAAAA\n",
       "AQAAAQAAAAABAAAFAAAAAAEAAAIAAAAAAQAAAAAAAAABAAABAAAAAAEAAAUAAAAAAQAAAgAAAAAB\n",
       "AAAAAAAAAAEAAAEAAAAAAQAABAAAAAACAAABAAAAAAEAAAUAAAAAAQAAAgAAAAABAAAAAAAAAAEA\n",
       "AAEAAAAAAQAABQAAAAABAAACAAAAAAEAAAAAAAAAAQAAAQAAAAABAAAFAAAAAAEAAAIAAAAAAQAA\n",
       "AAAAAAABAAABAAAAABxzdHNjAAAAAAAAAAEAAAABAAAAZAAAAAEAAAGkc3RzegAAAAAAAAAAAAAA\n",
       "ZAAADmAAAAIiAAAAbwAAAFUAAAEwAAAAUQAAAEoAAAA8AAABEgAAAEYAAABFAAAAPQAAAOoAAABL\n",
       "AAAAPAAAAEAAAADTAAAAQQAAAD8AAAA5AAAArwAAAEMAAAA2AAAAPwAAANwAAABBAAAAQQAAADMA\n",
       "AADvAAAARgAAADsAAAC4AAAAQQAAAEIAAAA6AAAAvAAAAEQAAAA5AAAANQAAAOYAAABEAAAAOAAA\n",
       "AD0AAADoAAAAUQAAAEcAAABEAAAA9wAAAFgAAABGAAAAPwAAANcAAABMAAAARQAAAD4AAADZAAAA\n",
       "RQAAADsAAADvAAAAQwAAADMAAAC/AAAAQgAAADkAAAA0AAAAwwAAAEwAAAA/AAAAOwAAALoAAABB\n",
       "AAAAOgAAADgAAAC3AAAAPAAAADIAAAA6AAAA3AAAAEEAAAA1AAAAQAAAAKcAAAA/AAAAOAAAADwA\n",
       "AACJAAAAPwAAADgAAAB/AAAAPgAAADAAAAA6AAAAkgAAAFcAAABIAAAAUgAAAJUAAABqAAAAUwAA\n",
       "AGMAAAAUc3RjbwAAAAAAAAABAAAAMAAAAGJ1ZHRhAAAAWm1ldGEAAAAAAAAAIWhkbHIAAAAAAAAA\n",
       "AG1kaXJhcHBsAAAAAAAAAAAAAAAALWlsc3QAAAAlqXRvbwAAAB1kYXRhAAAAAQAAAABMYXZmNTgu\n",
       "NzYuMTAw\n",
       "\">\n",
       "  Your browser does not support the video tag.\n",
       "</video>"
      ],
      "text/plain": [
       "<IPython.core.display.HTML object>"
      ]
     },
     "execution_count": 68,
     "metadata": {},
     "output_type": "execute_result"
    },
    {
     "data": {
      "image/png": "[encoded data removed]",
      "text/plain": [
       "<Figure size 432x288 with 1 Axes>"
      ]
     },
     "metadata": {
      "needs_background": "light"
     },
     "output_type": "display_data"
    }
   ],
   "source": [
    "import matplotlib.pyplot as plt\n",
    "\n",
    "from matplotlib import animation, rc\n",
    "from IPython.display import HTML\n",
    "\n",
    "fig, ax = plt.subplots()\n",
    "\n",
    "ax.set_xlim(( 0, 3))\n",
    "ax.set_ylim((-0.1, 5))\n",
    "\n",
    "line1, = ax.plot([], [], 's')\n",
    "line2, = ax.plot([], [], 'r-v')\n",
    "\n",
    "def init():\n",
    "    line.set_data([], [])\n",
    "    line2.set_data([],[])\n",
    "    return (line1, line2)\n",
    "    \n",
    "def animate(i):\n",
    "    x = np.linspace(0, 1, 100)\n",
    "    line1.set_data(x[i], 0)\n",
    "    line2.set_data([x[i], x[i] + F[0]], [0, 0 + F[1]]) \n",
    "    #plt.quiver(x[i],0,F[0],F[1])\n",
    "    return (line1, line2)\n",
    "    \n",
    "anim = animation.FuncAnimation(fig, animate, init_func=init,\n",
    "                               frames=100, interval=20, blit=True)\n",
    "\n",
    "HTML(anim.to_html5_video())"
   ]
  }
 ],
 "metadata": {
  "kernelspec": {
   "display_name": "Python 3",
   "language": "python",
   "name": "python3"
  },
  "language_info": {
   "codemirror_mode": {
    "name": "ipython",
    "version": 3
   },
   "file_extension": ".py",
   "mimetype": "text/x-python",
   "name": "python",
   "nbconvert_exporter": "python",
   "pygments_lexer": "ipython3",
   "version": "3.9.4"
  }
 },
 "nbformat": 4,
 "nbformat_minor": 4
}
