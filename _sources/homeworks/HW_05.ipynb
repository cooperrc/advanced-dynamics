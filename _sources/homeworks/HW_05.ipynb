{
 "cells": [
  {
   "cell_type": "code",
   "execution_count": null,
   "metadata": {},
   "outputs": [],
   "source": [
    "import numpy as np\n",
    "from numpy import sin,cos,pi\n",
    "import matplotlib.pyplot as plt"
   ]
  },
  {
   "cell_type": "code",
   "execution_count": null,
   "metadata": {},
   "outputs": [],
   "source": [
    "def setdefaults():\n",
    "  plt.rcParams.update({'font.size': 22})\n",
    "  plt.rcParams['lines.linewidth'] = 3"
   ]
  },
  {
   "cell_type": "code",
   "execution_count": null,
   "metadata": {},
   "outputs": [],
   "source": [
    "setdefaults()"
   ]
  },
  {
   "cell_type": "code",
   "execution_count": null,
   "metadata": {},
   "outputs": [],
   "source": [
    "from scipy.integrate import solve_ivp # import the ordinary differential equation integrator in Python"
   ]
  },
  {
   "cell_type": "markdown",
   "metadata": {},
   "source": [
    "# Homework #5 - _work in progress_\n",
    "\n",
    "![Whirling Roller-coaster](https://drive.google.com/thumbnail?id=1f0tVO6X1HDQiIRcADBUVx3HlnZjH3TZl&authuser=0&sz=w952-h932)\n",
    "\n",
    "Consider your roller coaster design from HW #4. Assume the cart rolls on the track as a frictionless\n",
    "point-mass of 100-kg. Determine the equations of motion in terms of the distance from the\n",
    "lowest point, $q_1=x_2$. \n",
    "\n",
    "1. Create a function, cart_ode, that represents the equation of motion for the car in terms of $x_2$"
   ]
  },
  {
   "cell_type": "code",
   "execution_count": null,
   "metadata": {},
   "outputs": [],
   "source": [
    "def cart_ode(t,r,w):\n",
    "    '''Set of 2 ODEs that return dx2/dt and d^2x2/dt^2 with input\n",
    "    x2 and dx2/dt, dr/dt = f(t,r)'''\n",
    "    dr=np.zeros(np.shape(r))\n",
    "    dr[0]=r[1]\n",
    "    dr[1] #= ... your equation here\n",
    "    return dr"
   ]
  },
  {
   "cell_type": "markdown",
   "metadata": {},
   "source": [
    "2. Solve the `cart_ode` initial value problem for x(0)=10 m, dx/dt(0)=0 m/s and $\\omega$=0 rad/s"
   ]
  },
  {
   "cell_type": "code",
   "execution_count": null,
   "metadata": {},
   "outputs": [],
   "source": [
    "x0=10\n",
    "v0=0\n",
    "w=0 # rad/s\n",
    "end_time=10 # choose an end time that displays one full period\n",
    "\n",
    "r0 = solve_ivp(lambda t,r: cart_ode(t,r,w),[0, end_time],[x0,v0])"
   ]
  },
  {
   "cell_type": "markdown",
   "metadata": {},
   "source": [
    "3. Solve the `cart_ode` initial value problem for x(0)=10 m, dx/dt(0)=0 m/s and $\\omega$=1 rad/s"
   ]
  },
  {
   "cell_type": "code",
   "execution_count": null,
   "metadata": {},
   "outputs": [],
   "source": [
    "x0=10\n",
    "v0=0\n",
    "w=3\n",
    "end_time=10 # choose an end time that displays one full period\n",
    "\n",
    "r1 = solve_ivp(lambda t,r: cart_ode(t,r,w),[0, end_time],[x0,v0])"
   ]
  },
  {
   "cell_type": "markdown",
   "metadata": {},
   "source": [
    "4. Solve the `cart_ode` initial value problem for x(0)=10 m, dx/dt(0)=0 m/s and $\\omega$=2 rad/s"
   ]
  },
  {
   "cell_type": "code",
   "execution_count": null,
   "metadata": {},
   "outputs": [],
   "source": [
    "x0=10\n",
    "v0=0\n",
    "w=6\n",
    "end_time=10 # choose an end time that displays one full period\n",
    "\n",
    "r2 = solve_ivp(lambda t,r: cart_ode(t,r,w),[0, end_time],[x0,v0])"
   ]
  },
  {
   "cell_type": "markdown",
   "metadata": {},
   "source": [
    "5. Plot the three solutions together"
   ]
  },
  {
   "cell_type": "code",
   "execution_count": null,
   "metadata": {},
   "outputs": [],
   "source": [
    "plt.plot(r0.t,r0.y[0],label='0 rad/s')\n",
    "plt.plot(r3.t,r3.y[0],label='3 rad/s')\n",
    "plt.plot(r6.t,r6.y[0],label='6 rad/s')\n",
    "plt.legend()"
   ]
  }
 ],
 "metadata": {
  "kernelspec": {
   "display_name": "Python 3",
   "language": "python",
   "name": "python3"
  },
  "language_info": {
   "codemirror_mode": {
    "name": "ipython",
    "version": 3
   },
   "file_extension": ".py",
   "mimetype": "text/x-python",
   "name": "python",
   "nbconvert_exporter": "python",
   "pygments_lexer": "ipython3",
   "version": "3.7.3"
  }
 },
 "nbformat": 4,
 "nbformat_minor": 2
}
