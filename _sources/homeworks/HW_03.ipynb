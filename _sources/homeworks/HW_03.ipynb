{
 "cells": [
  {
   "cell_type": "code",
   "execution_count": 17,
   "metadata": {
    "collapsed": true
   },
   "outputs": [],
   "source": [
    "import numpy as np\n",
    "from numpy import sin,cos,pi\n",
    "import matplotlib.pyplot as plt"
   ]
  },
  {
   "cell_type": "code",
   "execution_count": 18,
   "metadata": {},
   "outputs": [],
   "source": [
    "def setdefaults():\n",
    "  plt.rcParams.update({'font.size': 22})\n",
    "  plt.rcParams['lines.linewidth'] = 3"
   ]
  },
  {
   "cell_type": "code",
   "execution_count": 19,
   "metadata": {},
   "outputs": [],
   "source": [
    "setdefaults()"
   ]
  },
  {
   "cell_type": "markdown",
   "metadata": {},
   "source": [
    "# Homework #3 _work in progress_\n",
    "## Problem 1\n",
    "\n",
    "![Pendulum bob attached to springs](https://lh3.googleusercontent.com/5AK02jy9wnB40EV0Uya_H66cf_EHGNT6ScHf2zWBYcKe_Jc_Y_GA4PIa8WCovvNKsfLa2oqGuuRkJ5S2uOulcgAmcfpJkUtxSa8a9Och8aQL7KJKNBr2EuLvTyMU9Lxb-VmiwTSfuf2qBZj1Q14ezH5l_NujSj2HuERr_lPPy3olSjRraASVfUUifugYQJidyhqxDw7eAgR_mGySxxzGYY1MQ6JhGLJY-6kVpaeXWhbs4GFKJploT_llQL1yppEw03vo-XebLwFOHRLn3djty-TttF-d2TVLvquoMZ5k9mj2aYKvrsizeS8qszY9w-yX_V9LMbJPjK1NiEI9knOLcHD18aJI-SDRsfPn7soCQ6hBU_Xn4mtsNM2Ytx6WacyEdmXkOWwmfyhmyLYNfidKlmGlE2yd8NyiMoeQwiZXOKY_p2O3AzRuJtcm80fiTdzTFn0DJUJkOOmK0Fx-sJCaK-JZ7zFWwJYmv4phZ1GmA-G83-7GZ3q1N2qZt90ofrR1nIJhfY0d2z2AbFN9yt9WJ9sqNReRvxv2T5c7Rx1jhLfHjJ0WhH4o61GSnKjq8w28IJFZ_vVqA34svV_qT0fVw1YqhwAShtfs4OSIgH5bUXbsG_2HVNqFP0Jywjo-rlmFA7tDmkCyuAr4QVWzDfmcroJ6uPY3G1eHaUX2zrGu2YDV_3zvwsUsDw=w489-h401-no)\n",
    "\n",
    "The pendulum bob of mass m , shown in the figure above, is suspended by an inextensible\n",
    "string from the point p. This point is free to move along a straight horizontal line under\n",
    "the action of the springs, each having a constant k. Assume that the mass is displaced\n",
    "only slightly from the equilibrium position and released. Neglecting the mass of the\n",
    "springs, show that the pendulum oscillates with a period of\n",
    "\n",
    "$P=2\\pi\\sqrt{\\frac{mg+2kr}{2kg}}$\n",
    "\n",
    "if you use a first-order Taylor series approximation for $\\sin\\theta\\approx\\theta$ and $\\cos\\theta\\approx 1$\n",
    "\n",
    "Solve for $\\theta(t)$ if m=0.1 kg, r=1 m, $\\theta(0)$=pi/6 rad, and $\\dot{\\theta}(0)$=0 rad/s for\n",
    "2 cases:\n",
    "  \n",
    "  a. k=20 N/m\n",
    "\n",
    "  b. k=$\\infty$ N/m\n",
    "\n",
    "  c. Plot the solutions of $\\theta(t)$ for 2 periods on one figure"
   ]
  },
  {
   "cell_type": "code",
   "execution_count": null,
   "metadata": {
    "collapsed": true
   },
   "outputs": [],
   "source": [
    "l=1\n",
    "m=0.1 \n",
    "k=20 \n",
    "g=9.81\n",
    "P=2*pi/np.sqrt(2*k*g/(2*k*l+m*g))\n",
    "\n",
    "t=np.linspace(0,2*P);\n",
    "# your work\n",
    "# your new solutions, convert rad to deg with 180/pi\n",
    "# a_inf = \n",
    "# a_20 = \n",
    "\n",
    "plt.plot(t,a_inf)\n",
    "plt.plot(t,a_20)\n",
    "plt.xlabel('time (s)')\n",
    "plt.ylabel('angle (deg)')"
   ]
  },
  {
   "cell_type": "code",
   "execution_count": 21,
   "metadata": {
    "collapsed": true
   },
   "outputs": [],
   "source": [
    "from scipy.linalg import *\n",
    "from scipy.optimize import fsolve,root"
   ]
  },
  {
   "cell_type": "markdown",
   "metadata": {
    "slideshow": {
     "slide_type": "slide"
    }
   },
   "source": [
    "## Intro to function definitions\n"
   ]
  },
  {
   "cell_type": "markdown",
   "metadata": {
    "slideshow": {
     "slide_type": "slide"
    }
   },
   "source": [
    "## Building our own functions.\n",
    "\n",
    "Functions are saved in memory you can define them with anonymous functions `lambda` and function definitions `def`\n",
    "\n",
    "Example of storing a function in memory\n",
    "\n",
    "$f(x,y) = (xy^{3}-x^{3}y)$"
   ]
  },
  {
   "cell_type": "code",
   "execution_count": 22,
   "metadata": {
    "slideshow": {
     "slide_type": "fragment"
    }
   },
   "outputs": [
    {
     "data": {
      "text/plain": [
       "-0.099"
      ]
     },
     "execution_count": 22,
     "metadata": {},
     "output_type": "execute_result"
    }
   ],
   "source": [
    "f= lambda x,y: (x*y**3-x**3*y)\n",
    "f(1,0.1)"
   ]
  },
  {
   "cell_type": "code",
   "execution_count": 23,
   "metadata": {
    "slideshow": {
     "slide_type": "subslide"
    }
   },
   "outputs": [
    {
     "data": {
      "text/plain": [
       "<matplotlib.contour.QuadContourSet at 0x7fd1386a8b70>"
      ]
     },
     "execution_count": 23,
     "metadata": {},
     "output_type": "execute_result"
    },
    {
     "data": {
      "image/png": "[encoded data removed]",
      "text/plain": [
       "<Figure size 432x288 with 1 Axes>"
      ]
     },
     "metadata": {
      "needs_background": "light"
     },
     "output_type": "display_data"
    }
   ],
   "source": [
    "x=np.linspace(-1,1,101); # 10 data points from -1 to 1\n",
    "y=np.linspace(-1,1,101); # 10 data points from -1 to 1\n",
    "X,Y=np.meshgrid(x,y); # 100 data points from -1 to 1 on the x- and y-axes\n",
    "Z=f(X,Y);# Z=f(X,Y) evaluated at the 100 data points\n",
    "\n",
    "plt.contourf(X,Y,Z) # also pcolor, countour, ..."
   ]
  },
  {
   "cell_type": "markdown",
   "metadata": {},
   "source": [
    "**For more plotting examples and options check out the [Matplotlib gallery](https://matplotlib.org/gallery/index.html)**"
   ]
  },
  {
   "cell_type": "markdown",
   "metadata": {
    "slideshow": {
     "slide_type": "slide"
    }
   },
   "source": [
    "Here we will define a function called `my_ode` for a single-DOF forced spring-mass-damper:\n",
    "\n",
    "$\\ddot{x}+2\\dot{x}+9x=\\cos(2t)$"
   ]
  },
  {
   "cell_type": "code",
   "execution_count": 24,
   "metadata": {
    "collapsed": true,
    "slideshow": {
     "slide_type": "fragment"
    }
   },
   "outputs": [],
   "source": [
    "def my_ode(t,r):\n",
    "    \"\"\" Help documentation for \"my_ode\"\n",
    "     input is time, t (s) and r=[position (m); velocity (m/s)] and time\n",
    "     output is dr=[velocity (m/s); acceleration (m/s/s)] at time, t\n",
    "     the ODE is defined by:\n",
    "    \n",
    "     a = -2*v-9*x+cos(t/2)\"\"\"\n",
    "    \n",
    "    dr=np.zeros(np.size(r))\n",
    "    dr[0]=r[1]\n",
    "    dr[1]=-2*r[1]-9*r[0]+cos(2*t);\n",
    "    return dr"
   ]
  },
  {
   "cell_type": "markdown",
   "metadata": {},
   "source": [
    "Given any `[position, velocity]` and `time`, the defined `my_ode` returns the velocity and acceleration:"
   ]
  },
  {
   "cell_type": "code",
   "execution_count": 25,
   "metadata": {
    "slideshow": {
     "slide_type": "subslide"
    }
   },
   "outputs": [
    {
     "data": {
      "text/plain": [
       "array([  2., -12.])"
      ]
     },
     "execution_count": 25,
     "metadata": {},
     "output_type": "execute_result"
    }
   ],
   "source": [
    "my_ode(0,[1, 2])"
   ]
  },
  {
   "cell_type": "markdown",
   "metadata": {
    "slideshow": {
     "slide_type": "slide"
    }
   },
   "source": [
    "## Euler approximation\n",
    "\n",
    "The simplest integration routine is the Euler approximation. A first-order Taylor series expansion about the current timestep:\n",
    "\n",
    "$r_{i+1}=r_{i}+\\frac{dr_{i}}{dt}\\Delta t$\n",
    "\n",
    "We can integrate the equation as such"
   ]
  },
  {
   "cell_type": "code",
   "execution_count": 26,
   "metadata": {
    "slideshow": {
     "slide_type": "fragment"
    }
   },
   "outputs": [],
   "source": [
    "dt=0.01\n",
    "t=np.arange(0,6*pi/2,dt) # (start, stop, by some incr)\n",
    "x0=0.1\n",
    "v0=0\n",
    "r=np.zeros((len(t),2))\n",
    "r[0,:]=np.array([x0,v0])\n",
    "for i in range(1,len(t)):\n",
    "    dr=my_ode(t[i-1],r[i-1,:])\n",
    "    r[i,:]=r[i-1,:]+dr*dt\n",
    "    "
   ]
  },
  {
   "cell_type": "code",
   "execution_count": 27,
   "metadata": {
    "slideshow": {
     "slide_type": "subslide"
    }
   },
   "outputs": [
    {
     "data": {
      "text/plain": [
       "Text(0, 0.5, 'position (m)')"
      ]
     },
     "execution_count": 27,
     "metadata": {},
     "output_type": "execute_result"
    },
    {
     "data": {
      "image/png": "[encoded data removed]",
      "text/plain": [
       "<Figure size 432x288 with 1 Axes>"
      ]
     },
     "metadata": {
      "needs_background": "light"
     },
     "output_type": "display_data"
    }
   ],
   "source": [
    "plt.plot(t,r[:,0])\n",
    "plt.xlabel('time (s)')\n",
    "plt.ylabel('position (m)')"
   ]
  },
  {
   "cell_type": "markdown",
   "metadata": {
    "slideshow": {
     "slide_type": "subslide"
    }
   },
   "source": [
    "## Runge-Kutta\n",
    "\n",
    "\n",
    "Using `solve_ivp` in Python you can use more advanced integration routines, such as [Runge-Kutta 5(4)](https://docs.scipy.org/doc/scipy/reference/generated/scipy.integrate.solve_ivp.html#r179348322575-1), [Runge-Kutta 3(2)](https://docs.scipy.org/doc/scipy/reference/generated/scipy.integrate.solve_ivp.html#r179348322575-3), [Adams/BDF method](https://docs.scipy.org/doc/scipy/reference/generated/scipy.integrate.solve_ivp.html#r179348322575-7), etc. \n",
    "\n",
    "Numerical integration algorithms for differential equations:"
   ]
  },
  {
   "cell_type": "code",
   "execution_count": 28,
   "metadata": {},
   "outputs": [],
   "source": [
    "from scipy.integrate import solve_ivp # import the ordinary differential equation integrator in Python"
   ]
  },
  {
   "cell_type": "code",
   "execution_count": 29,
   "metadata": {
    "slideshow": {
     "slide_type": "subslide"
    }
   },
   "outputs": [
    {
     "data": {
      "text/plain": [
       "Text(0, 0.5, 'position (m)')"
      ]
     },
     "execution_count": 29,
     "metadata": {},
     "output_type": "execute_result"
    },
    {
     "data": {
      "image/png": "[encoded data removed]",
      "text/plain": [
       "<Figure size 432x288 with 1 Axes>"
      ]
     },
     "metadata": {
      "needs_background": "light"
     },
     "output_type": "display_data"
    }
   ],
   "source": [
    "\n",
    "r23=solve_ivp(my_ode,[t[0],t[-1]],[x0, v0],method='RK23');\n",
    "r45=solve_ivp(my_ode,[t[0],t[-1]],[x0, v0],method='RK45'); # default = 'RK45'\n",
    "plt.plot(r23.t,r23.y[0],'o',label='RK45')\n",
    "plt.plot(r45.t,r45.y[0],'s',label='RK23')\n",
    "plt.plot(t,r[:,0],label='Euler')\n",
    "plt.legend(loc='center left', bbox_to_anchor=(1, 0.5))\n",
    "#axis([0 10 -0.2 0.3])\n",
    "plt.xlabel('time (s)')\n",
    "\n",
    "plt.ylabel('position (m)')"
   ]
  },
  {
   "cell_type": "markdown",
   "metadata": {},
   "source": [
    "## Problem 2\n",
    "\n",
    "![Pendulum bob attached to springs](https://lh3.googleusercontent.com/5AK02jy9wnB40EV0Uya_H66cf_EHGNT6ScHf2zWBYcKe_Jc_Y_GA4PIa8WCovvNKsfLa2oqGuuRkJ5S2uOulcgAmcfpJkUtxSa8a9Och8aQL7KJKNBr2EuLvTyMU9Lxb-VmiwTSfuf2qBZj1Q14ezH5l_NujSj2HuERr_lPPy3olSjRraASVfUUifugYQJidyhqxDw7eAgR_mGySxxzGYY1MQ6JhGLJY-6kVpaeXWhbs4GFKJploT_llQL1yppEw03vo-XebLwFOHRLn3djty-TttF-d2TVLvquoMZ5k9mj2aYKvrsizeS8qszY9w-yX_V9LMbJPjK1NiEI9knOLcHD18aJI-SDRsfPn7soCQ6hBU_Xn4mtsNM2Ytx6WacyEdmXkOWwmfyhmyLYNfidKlmGlE2yd8NyiMoeQwiZXOKY_p2O3AzRuJtcm80fiTdzTFn0DJUJkOOmK0Fx-sJCaK-JZ7zFWwJYmv4phZ1GmA-G83-7GZ3q1N2qZt90ofrR1nIJhfY0d2z2AbFN9yt9WJ9sqNReRvxv2T5c7Rx1jhLfHjJ0WhH4o61GSnKjq8w28IJFZ_vVqA34svV_qT0fVw1YqhwAShtfs4OSIgH5bUXbsG_2HVNqFP0Jywjo-rlmFA7tDmkCyuAr4QVWzDfmcroJ6uPY3G1eHaUX2zrGu2YDV_3zvwsUsDw=w489-h401-no)\n",
    "\n",
    "The pendulum bob of mass m , shown in the figure above, is suspended by an inextensible\n",
    "string from the point p. This point is free to move along a straight horizontal line under\n",
    "the action of the springs, each having a constant k. Assume that the mass is displaced\n",
    "only slightly from the equilibrium position and released. Neglecting the mass of the\n",
    "springs, show that the pendulum oscillates with a period of\n",
    "\n",
    "$P=2\\pi\\sqrt{\\frac{mg+2kr}{2kg}}$\n",
    "\n",
    "solve for the nonlinear equations of motion and use the `solve_ivp` to determine $\\theta(t)$\n",
    "\n",
    "Solve for $\\theta(t)$ if m=0.1 kg, r=1 m, $\\theta(0)$=pi/6 rad, and $\\dot{\\theta}(0)$=0 rad/s for\n",
    "  \n",
    "k=20 N/m\n",
    "\n",
    "Plot the linear and nonlinear solutions of $\\theta(t)$ for 2 periods on one figure"
   ]
  },
  {
   "cell_type": "code",
   "execution_count": 16,
   "metadata": {
    "collapsed": true
   },
   "outputs": [],
   "source": [
    "def bob_ode(t,r,):\n",
    "    \"\"\" Help documentation for \"bob_ode\"\n",
    "     input is time, t (s) and r=[position p (m), angle (rad), velocity p (m/s), angle velocity (rad/s)] and time\n",
    "     output is dr=[velocity p (m/s), angle velocity (rad/s), accel p (m/s/s), angle accel (rad/s/s)] at time, t\n",
    "     the ODE is defined by:\n",
    "    \n",
    "     dr = f(t,r)\"\"\"\n",
    "    l=1\n",
    "    m=0.1 \n",
    "    k=20 \n",
    "    g=9.81\n",
    "    dr=np.zeros(np.size(r))\n",
    "    dr[0]=r[2]\n",
    "    dr[1]=r[3]\n",
    "    # your work here\n",
    "    # dr[2] =...\n",
    "    # dr[3] =... \n",
    "    return dr"
   ]
  },
  {
   "cell_type": "code",
   "execution_count": null,
   "metadata": {},
   "outputs": [],
   "source": [
    "P=2*pi/np.sqrt(2*k*g/(2*k*l+m*g))\n",
    "r=solve_ivp(bob_ode,[0,2*P],[0, pi/6,0,0]); # default = 'RK45'\n",
    "plt.plot(r.t,r.y[1]*180/pi,'o',label='nonlinear') # <-------------- your new plot, convert rad to deg with 180/pi\n",
    "plt.plot(t,a_20,'o',label='linear') # from problem 1\n",
    "plt.legend(loc='center left', bbox_to_anchor=(1, 0.5))\n",
    "plt.xlabel('time (s)')\n",
    "plt.ylabel('angle (deg)')"
   ]
  }
 ],
 "metadata": {
  "kernelspec": {
   "display_name": "Python 3",
   "language": "python",
   "name": "python3"
  },
  "language_info": {
   "codemirror_mode": {
    "name": "ipython",
    "version": 3
   },
   "file_extension": ".py",
   "mimetype": "text/x-python",
   "name": "python",
   "nbconvert_exporter": "python",
   "pygments_lexer": "ipython3",
   "version": "3.7.3"
  }
 },
 "nbformat": 4,
 "nbformat_minor": 2
}
