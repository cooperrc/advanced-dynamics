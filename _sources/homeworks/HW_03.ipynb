{
 "cells": [
  {
   "cell_type": "markdown",
   "id": "dangerous-remains",
   "metadata": {},
   "source": [
    "# HW_03 - Nonlinear solutions\n",
    "\n",
    "![hanging chain variational solution](https://campuspro-uploads.s3.us-west-2.amazonaws.com/2f97aca3-fc59-4d60-903d-2957cdab1812/aec6660b-716d-4530-ac9a-ee080b56d7c3/08_hanging.png)\n",
    "\n",
    "Creating a solution for the hanging chain, we reached a point where the constants required a nonlinear solution to an algebraic equation, "
   ]
  },
  {
   "cell_type": "code",
   "execution_count": 46,
   "id": "pregnant-nickel",
   "metadata": {},
   "outputs": [],
   "source": [
    "import numpy as np\n",
    "import matplotlib.pyplot as plt\n",
    "plt.style.use('fivethirtyeight')\n"
   ]
  },
  {
   "cell_type": "markdown",
   "id": "emotional-flashing",
   "metadata": {},
   "source": [
    "1. $y(x) = \\cosh \\frac{\\rho g a}{2c} - \\cosh\\frac{\\rho g x}{c}$\n",
    "2. $L = \\int_{-a/2}^{a/2}\\cosh\\frac{\\rho g x}{c}dx \\rightarrow L = \\frac{c}{\\rho g} \\sinh\\frac{\\rho g a}{c}$\n",
    "\n",
    "The second equation does not have an \"analytical\" solution. Where \"analytical\" refers to an equation with seperable input/output. What you need is a \"numerical\" solution to equation 2:\n",
    "\n",
    "what $c$ will satisfy this equation?\n",
    "\n",
    "$f(c)=L - \\frac{c}{\\rho g} \\sinh\\frac{\\rho g a}{c}=0$"
   ]
  },
  {
   "cell_type": "markdown",
   "id": "determined-electricity",
   "metadata": {},
   "source": [
    "These problems often come up when engineering systems have large displacements or large rotations that cannot be ignored. One way to approach this problem is to _guess_ the solution. You could try:\n",
    "\n",
    "|c=|f(c)|\n",
    "|---|---|\n",
    "|c=0|$-\\infty$|\n",
    "|c=50|-0.022|\n",
    "|c=100|0.07|\n",
    "|c=200|0.09|\n",
    "\n",
    "If you happen to guess numbers that change the sign of $f(c)$, then you know one interval where $f(c_{solution})=0$ must have been true. I find it helps to plot the function to see where the solution may exist"
   ]
  },
  {
   "cell_type": "code",
   "execution_count": 47,
   "id": "opponent-screw",
   "metadata": {},
   "outputs": [
    {
     "data": {
      "text/plain": [
       "Text(0, 0.5, 'f(c)')"
      ]
     },
     "execution_count": 47,
     "metadata": {},
     "output_type": "execute_result"
    },
    {
     "data": {
      "image/png": "[encoded data removed]",
      "text/plain": [
       "<Figure size 432x288 with 1 Axes>"
      ]
     },
     "metadata": {},
     "output_type": "display_data"
    }
   ],
   "source": [
    "g = 9.81\n",
    "L = 1\n",
    "a = 0.9\n",
    "rho = 5\n",
    "F = lambda c: L-c/rho/g*np.sinh(rho*g*a/c)\n",
    "c = np.linspace(40,200)\n",
    "plt.plot(c,F(c), label='f(c)')\n",
    "plt.plot(c,np.zeros(c.shape), label='f(c)=0')\n",
    "plt.legend()\n",
    "plt.xlabel('c')\n",
    "plt.ylabel('f(c)')"
   ]
  },
  {
   "cell_type": "markdown",
   "id": "sharp-unemployment",
   "metadata": {},
   "source": [
    "## Numerical solution\n",
    "We can use [`fsolve`](https://docs.scipy.org/doc/scipy/reference/generated/scipy.optimize.fsolve.html) to automate the guess-and-check method. You need 2 things:\n",
    "\n",
    "1. a function `f(c)` that returns the result $f(c)=L - \\frac{c}{\\rho g} \\sinh\\frac{\\rho g a}{c}=0$\n",
    "2. an initial guess, `c_0`\n",
    "\n",
    "Numerical solutions always require an initial guess for the solution and they will iterate until your function `f(c_sol)` $\\approx0$. \n",
    "\n",
    "> __Note__: `fsolve` has more advanced features than 'guess-and-check', but at its core it uses algorithms to reduce the number of guesses and checks. "
   ]
  },
  {
   "cell_type": "markdown",
   "id": "secret-receiver",
   "metadata": {},
   "source": [
    "### Define `f(c)` with `lambda`\n",
    "\n",
    "In Python, you can use the [`lambda`](https://docs.python.org/3/tutorial/controlflow.html#lambda-expressions) function to create functions in one line. The other way to create a function is using [`def`](https://docs.python.org/3/tutorial/controlflow.html#defining-functions). \n",
    "\n",
    "> __Note__: `def` is a much richer way to create functions in Python. We will use it later when we want more involved functions. \n",
    "\n",
    "Here, you define the function `f(c)` with `lambda`:"
   ]
  },
  {
   "cell_type": "code",
   "execution_count": 60,
   "id": "about-missouri",
   "metadata": {},
   "outputs": [],
   "source": [
    "g = 9.81\n",
    "L = 1\n",
    "a = 0.7\n",
    "rho = 5\n",
    "\n",
    "f = lambda c: L-c/rho/g*np.sinh(rho*g*a/c)"
   ]
  },
  {
   "cell_type": "code",
   "execution_count": 61,
   "id": "charged-xerox",
   "metadata": {},
   "outputs": [
    {
     "data": {
      "text/plain": [
       "0.21081614830202033"
      ]
     },
     "execution_count": 61,
     "metadata": {},
     "output_type": "execute_result"
    }
   ],
   "source": [
    "f(40)"
   ]
  },
  {
   "cell_type": "markdown",
   "id": "impressed-symbol",
   "metadata": {},
   "source": [
    "### Solve `f(c_sol)=0` with `fsolve`\n",
    "\n",
    "The numerical solver, `fsolve`, is part of the [`scipy.optimize`](https://docs.scipy.org/doc/scipy/reference/optimize.html) library. Import the function with the `from`...`import`-command. "
   ]
  },
  {
   "cell_type": "code",
   "execution_count": 62,
   "id": "surface-detective",
   "metadata": {},
   "outputs": [],
   "source": [
    "from scipy.optimize import fsolve"
   ]
  },
  {
   "cell_type": "markdown",
   "id": "covered-carol",
   "metadata": {},
   "source": [
    "Now, you can solve for the value of `c_sol` that creates a solution to `f(c_sol)=0`. Use the function, `f` and an initial guess, `c0=40`. "
   ]
  },
  {
   "cell_type": "code",
   "execution_count": 63,
   "id": "acquired-vanilla",
   "metadata": {},
   "outputs": [
    {
     "name": "stdout",
     "output_type": "stream",
     "text": [
      "c_sol = 22.671522641015084 and f(c_sol) = [1.62092562e-14]\n"
     ]
    }
   ],
   "source": [
    "c0 = 40\n",
    "c_sol = fsolve(f, c0)\n",
    "\n",
    "print('c_sol = {} and f(c_sol) = {}'.format(c_sol[0], f(c_sol)))"
   ]
  },
  {
   "cell_type": "markdown",
   "id": "guided-oxford",
   "metadata": {},
   "source": [
    "## Plug into catenary equation\n",
    "\n",
    "Now, you have a solution for $c$ that describes the hanging chain. Plug it into the original equation \n",
    "\n",
    "1. $y(x) = \\cosh \\frac{\\rho g a}{2c} - \\cosh\\frac{\\rho g x}{c}$\n",
    "\n",
    "and plot the final shape. "
   ]
  },
  {
   "cell_type": "code",
   "execution_count": 64,
   "id": "better-explanation",
   "metadata": {},
   "outputs": [],
   "source": [
    "x = np.linspace(-0.9/2,0.9/2)\n",
    "y = np.cosh(9.81*5*0.9/2/c_sol[0])-np.cosh(9.81*5*x/c_sol[0])"
   ]
  },
  {
   "cell_type": "code",
   "execution_count": 65,
   "id": "institutional-latex",
   "metadata": {},
   "outputs": [
    {
     "data": {
      "text/plain": [
       "Text(0, 0.5, 'y(x) - chain location (m)')"
      ]
     },
     "execution_count": 65,
     "metadata": {},
     "output_type": "execute_result"
    },
    {
     "data": {
      "image/png": "[encoded data removed]",
      "text/plain": [
       "<Figure size 432x288 with 1 Axes>"
      ]
     },
     "metadata": {},
     "output_type": "display_data"
    }
   ],
   "source": [
    "plt.plot(x,-y)\n",
    "plt.xlabel('x-axis (m)')\n",
    "plt.ylabel('y(x) - chain location (m)')"
   ]
  },
  {
   "cell_type": "markdown",
   "id": "understood-galaxy",
   "metadata": {},
   "source": [
    "## Problem 1\n",
    "\n",
    "Plot the solution for two hanging chains, the same as we did above:\n",
    "\n",
    "$g = 9.81~m/s/s$\n",
    "$L = 1~m$\n",
    "$rho = 5~kg/m$\n",
    "\n",
    "1. $a = 0.9~m$\n",
    "2. $a = 0.7~m$"
   ]
  },
  {
   "cell_type": "code",
   "execution_count": null,
   "id": "tired-oregon",
   "metadata": {},
   "outputs": [],
   "source": []
  },
  {
   "cell_type": "markdown",
   "id": "valued-google",
   "metadata": {},
   "source": [
    "## Problem 2\n",
    "\n",
    "![four-bar linkage design](../images/4bar.svg)\n",
    "\n",
    "In the four-bar linkage show above there are 3 bodies moving in 2D (9 DOF) and 4 pins (8 constraints). The linkage configuration is constrained by the two nonlinear equations"
   ]
  },
  {
   "cell_type": "markdown",
   "id": "guided-discipline",
   "metadata": {},
   "source": [
    "1. $l_1\\sin\\theta_1+l_2\\sin\\theta_2-l_3\\sin\\theta_3 -d_y = 0$\n",
    "2. $l_1\\cos\\theta_1+l_2\\cos\\theta_2-l_3\\cos\\theta_3 -d_x = 0$\n",
    "\n",
    "If you have one of the angles,$\\theta_1$, you can use equations 1 and 2 to solve for the other two angles, $\\theta_2~and\\theta_3$ using `fsolve` only now the input is a vector with two values and the output is a vector with two values. \n",
    "\n",
    "$\\bar{f}(\\bar{x})= \\left[\\begin{array}{c}\n",
    "f_1(\\theta_2,~\\theta_3) \\\\ \n",
    "f_2(\\theta_2,~\\theta_3)\\end{array}\\right]=\\left[\\begin{array}{c}\n",
    "l_1\\sin\\theta_1+l_2\\sin\\theta_2-l_3\\sin\\theta_3 -d_y\\\\\n",
    "l_1\\cos\\theta_1+l_2\\cos\\theta_2-l_3\\cos\\theta_3 -d_x\n",
    "\\end{array}\\right]$\n",
    "\n",
    "The linkage system has the following properties:\n",
    "\n",
    "- link 1: $l_1 = 0.5~m$\n",
    "- link 2: $l_2 = 1~m$\n",
    "- link 3: $l_3 = 1~m$\n",
    "\n",
    "when $\\theta_1=90^o$, $\\theta_2=0^o$, and $\\theta_3=90^o$. So the two grounded pins have a fixed relative position, $r_{3/1} = d_x\\hat{i}+d_y\\hat{j} = 1\\hat{i}-0.5\\hat{j}$. \n",
    "\n",
    "Below, the definition of `Fbar` is defined for $\\bar{f}(\\bar{x})$ and the function is satisfied for $\\theta_1=\\theta_3=90^o$ and $\\theta_2=0^o$. Then, the links are plotted with `rx` and `ry`, where\n",
    "\n",
    "* $rx = \\left[\\begin{array}~0\\\\l_1\\cos(\\theta_1)\\\\l_1\\cos(\\theta_1)+l_2\\cos(\\theta_2)\\\\ l_1\\cos(\\theta_1) + l_2\\cos(\\theta_2)-l_3\\cos(\\theta_3)\\end{array}\\right]$\n",
    "* $ry = \\left[\\begin{array}~0\\\\l_1\\sin(\\theta_1)\\\\l_1\\sin(\\theta_1)+l_2\\sin(\\theta_2)\\\\ l_1\\sin(\\theta_1)+l_2\\sin(\\theta_2)-l_3\\sin(\\theta_3)\\end{array}\\right]$"
   ]
  },
  {
   "cell_type": "code",
   "execution_count": 66,
   "id": "filled-engagement",
   "metadata": {},
   "outputs": [],
   "source": [
    "l1 = 0.5\n",
    "l2 = 1\n",
    "l3 = 1\n",
    "a1 = np.pi/2\n",
    "dy = -0.5\n",
    "dx = 1\n",
    "Fbar = lambda x: np.array([l1*np.sin(a1)+l2*np.sin(x[0])-l3*np.sin(x[1])-dy,\n",
    "                           l1*np.cos(a1)+l2*np.cos(x[0])-l3*np.cos(x[1])-dx])"
   ]
  },
  {
   "cell_type": "code",
   "execution_count": 67,
   "id": "optimum-blogger",
   "metadata": {},
   "outputs": [
    {
     "data": {
      "text/plain": [
       "array([ 0.00000000e+00, -1.11022302e-16])"
      ]
     },
     "execution_count": 67,
     "metadata": {},
     "output_type": "execute_result"
    }
   ],
   "source": [
    "x90 = np.array([0,np.pi/2]) \n",
    "Fbar(x90)"
   ]
  },
  {
   "cell_type": "code",
   "execution_count": 68,
   "id": "behind-orbit",
   "metadata": {},
   "outputs": [
    {
     "data": {
      "text/plain": [
       "(-0.5, 1.5, -0.6, 0.6)"
      ]
     },
     "execution_count": 68,
     "metadata": {},
     "output_type": "execute_result"
    },
    {
     "data": {
      "image/png": "[encoded data removed]",
      "text/plain": [
       "<Figure size 432x288 with 1 Axes>"
      ]
     },
     "metadata": {},
     "output_type": "display_data"
    }
   ],
   "source": [
    "rx = np.array([0,\n",
    "               l1*np.cos(a1),\n",
    "               l1*np.cos(a1)+l2*np.cos(x90[0]), \n",
    "               l1*np.cos(a1)+l2*np.cos(x90[0])-l3*np.cos(x90[1])])\n",
    "ry = np.array([0,\n",
    "               l1*np.sin(a1),\n",
    "               l1*np.sin(a1)+l2*np.sin(x90[0]), \n",
    "               l1*np.sin(a1)+l2*np.sin(x90[0])-l3*np.sin(x90[1])])\n",
    "\n",
    "plt.plot(rx,ry,'o-')\n",
    "plt.axis([-0.5, 1.5, -0.6, 0.6])"
   ]
  },
  {
   "cell_type": "markdown",
   "id": "photographic-hebrew",
   "metadata": {},
   "source": [
    "### __Your goal:__ \n",
    "\n",
    "Change the angle to $\\theta_1=45^o,~135^o,~and~180^o$. Plot the three configurations like above. Use `fsolve` to find $\\theta_2~and~\\theta_3$. "
   ]
  },
  {
   "cell_type": "code",
   "execution_count": null,
   "id": "impaired-belief",
   "metadata": {},
   "outputs": [],
   "source": [
    "# your work here"
   ]
  }
 ],
 "metadata": {
  "kernelspec": {
   "display_name": "Python 3",
   "language": "python",
   "name": "python3"
  },
  "language_info": {
   "codemirror_mode": {
    "name": "ipython",
    "version": 3
   },
   "file_extension": ".py",
   "mimetype": "text/x-python",
   "name": "python",
   "nbconvert_exporter": "python",
   "pygments_lexer": "ipython3",
   "version": "3.9.2"
  }
 },
 "nbformat": 4,
 "nbformat_minor": 5
}
