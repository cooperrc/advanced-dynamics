{
 "cells": [
  {
   "cell_type": "markdown",
   "id": "a0e5b5c6-345b-4f60-a875-6ecda5790c20",
   "metadata": {},
   "source": [
    "# Drawing Free Body diagrams\n",
    "\n",
    "Free body diagrams are _the most useful_ engineering tool you can use. In this course, we will build equations of motion using a Lagrangian approach:\n",
    "- define kinetic and potential energy, T and V\n",
    "- plug into the virtual work or Lagrange equations to create _equations of motion_\n",
    "\n",
    "The first step, is to recognize degrees of freedom and applied forces. \n",
    "\n",
    "This notebook has some engineering examples. See if you can draw the free body diagram, if there are more than one moving part, you may need more than one diagram. "
   ]
  },
  {
   "cell_type": "markdown",
   "id": "ffa1bc3d-38c1-4cdc-b032-a978ae12cb76",
   "metadata": {},
   "source": [
    "## Bowling ball ramp\n",
    "\n",
    "![Bowling ball ramp for accessibility](https://ids.si.edu/ids/deliveryService?id=NMAH-ET2011-37016-000001&max=1000)\n",
    "\n",
    "Draw the forces acting on the bowling ball as it is rolling down the ramp"
   ]
  },
  {
   "cell_type": "code",
   "execution_count": 1,
   "id": "ef5b0d36-a5fe-40b0-b269-473b87c7279b",
   "metadata": {
    "lines_to_next_cell": 0
   },
   "outputs": [
    {
     "data": {
      "image/svg+xml": [
       "<svg xmlns:inkscape=\"http://www.inkscape.org/namespaces/inkscape\" xmlns:sodipodi=\"http://sodipodi.sourceforge.net/DTD/sodipodi-0.dtd\" xmlns=\"http://www.w3.org/2000/svg\" xmlns:svg=\"http://www.w3.org/2000/svg\" xmlns:rdf=\"http://www.w3.org/1999/02/22-rdf-syntax-ns#\" xmlns:cc=\"http://creativecommons.org/ns#\" xmlns:dc=\"http://purl.org/dc/elements/1.1/\" width=\"4in\" height=\"3in\" viewBox=\"0 0 101.6 76.200002\" version=\"1.1\" id=\"svg8\" inkscape:version=\"1.1.1 (3bf5ae0d25, 2021-09-20, custom)\" sodipodi:docname=\"bowling-FBD.svg\">\n",
       "  <defs id=\"defs2\">\n",
       "    <marker style=\"overflow:visible;\" id=\"marker3309\" refX=\"0.0\" refY=\"0.0\" orient=\"auto\" inkscape:stockid=\"Arrow1Mend\" inkscape:isstock=\"true\">\n",
       "      <path transform=\"scale(0.4) rotate(180) translate(10,0)\" style=\"fill-rule:evenodd;fill:context-stroke;stroke:context-stroke;stroke-width:1.0pt;\" d=\"M 0.0,0.0 L 5.0,-5.0 L -12.5,0.0 L 5.0,5.0 L 0.0,0.0 z \" id=\"path3307\"/>\n",
       "    </marker>\n",
       "    <marker style=\"overflow:visible;\" id=\"Arrow1Mend\" refX=\"0.0\" refY=\"0.0\" orient=\"auto\" inkscape:stockid=\"Arrow1Mend\" inkscape:isstock=\"true\">\n",
       "      <path transform=\"scale(0.4) rotate(180) translate(10,0)\" style=\"fill-rule:evenodd;fill:context-stroke;stroke:context-stroke;stroke-width:1.0pt;\" d=\"M 0.0,0.0 L 5.0,-5.0 L -12.5,0.0 L 5.0,5.0 L 0.0,0.0 z \" id=\"path3046\"/>\n",
       "    </marker>\n",
       "  </defs>\n",
       "  <sodipodi:namedview id=\"base\" pagecolor=\"#ffffff\" bordercolor=\"#666666\" borderopacity=\"1.0\" inkscape:pageopacity=\"0.0\" inkscape:pageshadow=\"2\" inkscape:zoom=\"1.2413195\" inkscape:cx=\"213.88531\" inkscape:cy=\"159.50769\" inkscape:document-units=\"mm\" inkscape:current-layer=\"layer1\" inkscape:document-rotation=\"0\" showgrid=\"false\" units=\"in\" inkscape:window-width=\"1343\" inkscape:window-height=\"908\" inkscape:window-x=\"569\" inkscape:window-y=\"136\" inkscape:window-maximized=\"0\" inkscape:pagecheckerboard=\"0\" inkscape:snap-global=\"false\"/>\n",
       "  <metadata id=\"metadata5\">\n",
       "    <rdf:RDF>\n",
       "      <cc:Work rdf:about=\"\">\n",
       "        <dc:format>image/svg+xml</dc:format>\n",
       "        <dc:type rdf:resource=\"http://purl.org/dc/dcmitype/StillImage\"/>\n",
       "      </cc:Work>\n",
       "    </rdf:RDF>\n",
       "  </metadata>\n",
       "  <g inkscape:label=\"Layer 1\" inkscape:groupmode=\"layer\" id=\"layer1\">\n",
       "    <rect style=\"fill:#ffffff;stroke:#000000;stroke-width:0.529167\" id=\"rect2618\" width=\"10.624468\" height=\"10.624468\" x=\"24.633856\" y=\"36.339191\" ry=\"5.3122339\"/>\n",
       "    <path style=\"fill:none;stroke:#000000;stroke-width:0.52916667;stroke-linecap:butt;stroke-linejoin:miter;stroke-opacity:1;stroke-miterlimit:4;stroke-dasharray:none\" d=\"M 1.1782327,32.143424 C 38.646246,32.159579 18.035397,78.057984 91.141488,73.804286\" id=\"path2653\" sodipodi:nodetypes=\"cc\"/>\n",
       "    <rect style=\"fill:#ffffff;stroke:#000000;stroke-width:0.529167\" id=\"rect3000\" width=\"10.624468\" height=\"10.624468\" x=\"47.91721\" y=\"15.172506\" ry=\"5.3122339\"/>\n",
       "    <path style=\"fill:none;stroke:#000000;stroke-width:0.264583px;stroke-linecap:butt;stroke-linejoin:miter;stroke-opacity:1;marker-end:url(#Arrow1Mend)\" d=\"m 39.934813,33.70858 9.56486,-9.116229\" id=\"path3035\"/>\n",
       "    <path style=\"fill:none;stroke:#000000;stroke-width:0.264583px;stroke-linecap:butt;stroke-linejoin:miter;stroke-opacity:1;marker-end:url(#marker3309)\" d=\"M 62.059675,36.765899 50.740107,25.826802\" id=\"path3305\"/>\n",
       "    <path style=\"fill:none;stroke:#000000;stroke-width:0.264583px;stroke-linecap:butt;stroke-linejoin:miter;stroke-opacity:1;marker-end:url(#marker3309)\" d=\"M 53.138275,4.2596625 53.175035,20.00117\" id=\"path3397\"/>\n",
       "    <text xml:space=\"preserve\" style=\"font-style:normal;font-weight:normal;font-size:6.35px;line-height:1.25;font-family:sans-serif;fill:#000000;fill-opacity:1;stroke:none;stroke-width:0.264583\" x=\"54.377666\" y=\"10.654067\" id=\"text4831\"><tspan sodipodi:role=\"line\" id=\"tspan4829\" style=\"font-size:6.35px;stroke-width:0.264583\" x=\"54.377666\" y=\"10.654067\">mg</tspan></text>\n",
       "    <text xml:space=\"preserve\" style=\"font-style:normal;font-weight:normal;font-size:6.35px;line-height:1.25;font-family:sans-serif;fill:#000000;fill-opacity:1;stroke:none;stroke-width:0.264583\" x=\"58.081837\" y=\"41.345753\" id=\"text13915\"><tspan sodipodi:role=\"line\" id=\"tspan13913\" style=\"font-size:6.35px;stroke-width:0.264583\" x=\"58.081837\" y=\"41.345753\">F<tspan style=\"font-size:65%;baseline-shift:sub\" id=\"tspan14071\">f</tspan></tspan></text>\n",
       "    <text xml:space=\"preserve\" style=\"font-style:normal;font-weight:normal;font-size:6.35px;line-height:1.25;font-family:sans-serif;fill:#000000;fill-opacity:1;stroke:none;stroke-width:0.264583\" x=\"43.265156\" y=\"37.112415\" id=\"text17983\"><tspan sodipodi:role=\"line\" id=\"tspan17981\" style=\"font-size:6.35px;stroke-width:0.264583\" x=\"43.265156\" y=\"37.112415\">N</tspan></text>\n",
       "  </g>\n",
       "</svg>"
      ],
      "text/plain": [
       "<IPython.core.display.SVG object>"
      ]
     },
     "execution_count": 1,
     "metadata": {},
     "output_type": "execute_result"
    }
   ],
   "source": [
    "from IPython.core.display import SVG\n",
    "SVG('../images/bowling-FBD.svg')"
   ]
  },
  {
   "cell_type": "markdown",
   "id": "b2cad240-64e6-423f-887f-ae8c60d8c23f",
   "metadata": {},
   "source": [
    "\n"
   ]
  }
 ],
 "metadata": {
  "kernelspec": {
   "display_name": "Python 3",
   "language": "python",
   "name": "python3"
  },
  "language_info": {
   "codemirror_mode": {
    "name": "ipython",
    "version": 3
   },
   "file_extension": ".py",
   "mimetype": "text/x-python",
   "name": "python",
   "nbconvert_exporter": "python",
   "pygments_lexer": "ipython3",
   "version": "3.9.4"
  }
 },
 "nbformat": 4,
 "nbformat_minor": 5
}
