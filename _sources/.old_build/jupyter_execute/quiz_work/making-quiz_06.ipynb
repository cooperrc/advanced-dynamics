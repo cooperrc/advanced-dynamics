{
 "cells": [
  {
   "cell_type": "code",
   "execution_count": 1,
   "id": "removable-addiction",
   "metadata": {
    "tags": [
     "hide-cell"
    ]
   },
   "outputs": [],
   "source": [
    "import numpy as np\n",
    "import matplotlib.pyplot as plt"
   ]
  },
  {
   "cell_type": "code",
   "execution_count": 2,
   "id": "editorial-phenomenon",
   "metadata": {
    "tags": [
     "hide-input"
    ]
   },
   "outputs": [
    {
     "data": {
      "image/jpeg": "[encoded data removed]",
      "text/html": [
       "\n",
       "        <iframe\n",
       "            width=\"400\"\n",
       "            height=\"300\"\n",
       "            src=\"https://www.youtube.com/embed/FPg5EjHEo6c\"\n",
       "            frameborder=\"0\"\n",
       "            allowfullscreen\n",
       "            \n",
       "        ></iframe>\n",
       "        "
      ],
      "text/plain": [
       "<IPython.lib.display.YouTubeVideo at 0x7f6418493af0>"
      ]
     },
     "execution_count": 2,
     "metadata": {
      "filenames": {
       "image/jpeg": "/home/ryan/Documents/UConn/ME5180/advanced-dynamics/_build/jupyter_execute/quiz_work/making-quiz_06_1_0.jpg"
      }
     },
     "output_type": "execute_result"
    }
   ],
   "source": [
    "from IPython.lib.display import YouTubeVideo\n",
    "YouTubeVideo('FPg5EjHEo6c')"
   ]
  },
  {
   "cell_type": "markdown",
   "id": "wicked-singing",
   "metadata": {},
   "source": [
    "# Building Quiz_06\n",
    "\n",
    "\n",
    "A $2-m\\times 2-m \\times 2-m$ cube is attached at a corner to a\n",
    "spherical joint. It can rotate along the x-, y-, and z-axes, but the\n",
    "attached corner cannot move. The moment of inertia about its center of\n",
    "mass is \n",
    "\n",
    "$$I_G = \\frac{m}{12}\n",
    "\\left[\\begin{array}\n",
    "~8 & 0 & 0 \\\\\n",
    "0 & 8 & 0 \\\\\n",
    "0 & 0 & 8 \\end{array}\\right]~m^2$$\n",
    "\n",
    "a. Use the parallel axis theorem to shift the point of rotation to\n",
    "corner where the cube is fixed. \n",
    "\n",
    "b. What is the kinetic energy if the cube has an angular velocity of\n",
    "$\\mathbf{\\omega}=1\\hat{i}+10\\hat{j}$"
   ]
  },
  {
   "cell_type": "code",
   "execution_count": 3,
   "id": "modified-roman",
   "metadata": {},
   "outputs": [
    {
     "data": {
      "text/plain": [
       "array([[0.66666667, 0.        , 0.        ],\n",
       "       [0.        , 0.66666667, 0.        ],\n",
       "       [0.        , 0.        , 0.66666667]])"
      ]
     },
     "execution_count": 3,
     "metadata": {},
     "output_type": "execute_result"
    }
   ],
   "source": [
    "I_G = 8/12*np.eye(3,3)\n",
    "I_G"
   ]
  },
  {
   "cell_type": "markdown",
   "id": "electrical-scratch",
   "metadata": {},
   "source": [
    "## Parallel axis theorem\n",
    "\n",
    "$$I_O = m\n",
    "\\left[\\begin{array}\n",
    "~y^2+z^2 & -xy & -xz \\\\\n",
    "-xy & x^2+z^2 & -yz \\\\\n",
    "-xz & -yz & x^2+y^2 \\end{array}\\right]~m^2 + I_G$$"
   ]
  },
  {
   "cell_type": "code",
   "execution_count": 4,
   "id": "colored-freight",
   "metadata": {},
   "outputs": [
    {
     "data": {
      "text/plain": [
       "array([[ 2, -1, -1],\n",
       "       [-1,  2, -1],\n",
       "       [-1, -1,  2]])"
      ]
     },
     "execution_count": 4,
     "metadata": {},
     "output_type": "execute_result"
    }
   ],
   "source": [
    "x = -1\n",
    "y = -1\n",
    "z = -1\n",
    "I_parallel = np.array([[y**2+z**2, -x*y, -x*z],\n",
    "                       [-x*y, x**2+z**2, -y*z],\n",
    "                       [-x*z, -y*z, x**2+y**2]])\n",
    "I_parallel"
   ]
  },
  {
   "cell_type": "code",
   "execution_count": 5,
   "id": "equivalent-jurisdiction",
   "metadata": {},
   "outputs": [
    {
     "data": {
      "text/plain": [
       "array([[ 2.66666667, -1.        , -1.        ],\n",
       "       [-1.        ,  2.66666667, -1.        ],\n",
       "       [-1.        , -1.        ,  2.66666667]])"
      ]
     },
     "execution_count": 5,
     "metadata": {},
     "output_type": "execute_result"
    }
   ],
   "source": [
    "IO = I_parallel + I_G\n",
    "IO"
   ]
  },
  {
   "cell_type": "markdown",
   "id": "unlike-permit",
   "metadata": {},
   "source": [
    "## Kinetic Energy\n",
    "\n",
    "Kinetic energy because the point of rotation is fixed, \n",
    "\n",
    "$T_O = \\frac{1}{2}\\mathbf{\\omega I_O \\omega}$"
   ]
  },
  {
   "cell_type": "code",
   "execution_count": 6,
   "id": "prospective-andrew",
   "metadata": {},
   "outputs": [
    {
     "data": {
      "text/plain": [
       "124.66666666666664"
      ]
     },
     "execution_count": 6,
     "metadata": {},
     "output_type": "execute_result"
    }
   ],
   "source": [
    "omega = np.array([1, 10, 0])\n",
    "\n",
    "T = 0.5*omega@IO@omega\n",
    "\n",
    "T"
   ]
  },
  {
   "cell_type": "code",
   "execution_count": 7,
   "id": "numerous-terry",
   "metadata": {},
   "outputs": [
    {
     "data": {
      "text/plain": [
       "array([ -7.33333333,  25.66666667, -11.        ])"
      ]
     },
     "execution_count": 7,
     "metadata": {},
     "output_type": "execute_result"
    }
   ],
   "source": [
    "hO = IO@omega\n",
    "hO"
   ]
  }
 ],
 "metadata": {
  "kernelspec": {
   "display_name": "Python 3",
   "language": "python",
   "name": "python3"
  },
  "language_info": {
   "codemirror_mode": {
    "name": "ipython",
    "version": 3
   },
   "file_extension": ".py",
   "mimetype": "text/x-python",
   "name": "python",
   "nbconvert_exporter": "python",
   "pygments_lexer": "ipython3",
   "version": "3.9.12"
  }
 },
 "nbformat": 4,
 "nbformat_minor": 5
}