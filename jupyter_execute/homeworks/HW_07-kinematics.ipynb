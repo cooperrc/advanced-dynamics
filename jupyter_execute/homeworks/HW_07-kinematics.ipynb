{
 "cells": [
  {
   "cell_type": "code",
   "execution_count": 1,
   "metadata": {},
   "outputs": [],
   "source": [
    "import numpy as np\n",
    "from numpy import sin,cos,pi\n",
    "from scipy.linalg import *\n",
    "from scipy.optimize import fsolve,root\n",
    "import matplotlib.pyplot as plt"
   ]
  },
  {
   "cell_type": "markdown",
   "metadata": {},
   "source": [
    "# Kinematics\n",
    "\n",
    "**Kinematics** is the study of the geometry of motion e.g. definitions of position, velocity, and acceleration\n",
    "\n",
    "In this notebook we will explore kinematically-driven systems where the system degrees of freedom, $n_{d}=0 = 3\\times n_b -n_c$, for planar problems. $n_b$ bodies moving in a plane have $3\\times n_b$ degrees of freedom and the number of constraints is $n_c$.\n",
    "\n",
    "![Coordinate system of rigid body](https://learning.oreilly.com/library/view/computational-dynamics-3rd/9780470686157/figs/0303.png)\n",
    "\n",
    "In the figure above, there are three position vectors, $\\mathbf{r}^{i}$, $\\mathbf{R}^{i}$, and $\\mathbf{u}^{i}$ and two coordinate systems, $X$-$Y$ and $X^{i}$-$Y^{i}$.\n",
    "\n",
    "The $X^{i}$-$Y^{i}$ coordinate system moves with the rigid body and the point P is always in a fixed position $\\mathbf{\\bar{u}}^{i}_{P}=\\bar{x}^{i}_{P}\\hat{i}^{i}+\\bar{y}^{i}_{P}\\hat{j}^{i}$ in this coordinate system. \n",
    "\n",
    "$\\mathbf{u}^{i}_{P} = \\left[ \\begin{array}{cc}\n",
    "\\cos \\theta^i & -\\sin \\theta^i \\\\\n",
    "\\sin \\theta^i & \\cos \\theta^i \\\\\n",
    "\\end{array} \\right]\n",
    "\\left[\\begin{array}{c} \n",
    "\\bar{x}^{i}_{P} \\\\ \n",
    "\\bar{y}^{i}_{P}\\end{array}\\right]$\n",
    "\n",
    "or\n",
    "\n",
    "$\\mathbf{u}_{P}^{i}=\\mathbf{A}^{i}\\mathbf{\\bar{u}}^{i}_{P}$"
   ]
  },
  {
   "cell_type": "markdown",
   "metadata": {},
   "source": [
    "## Problem 1\n",
    "\n",
    "Define a function of $\\theta^i$ that returns the array $\\mathbf{A}^i(\\theta^i)$."
   ]
  },
  {
   "cell_type": "code",
   "execution_count": 2,
   "metadata": {},
   "outputs": [],
   "source": [
    "def rotA(theta):\n",
    "    '''This function returns a 2x2 rotation matrix to convert the \n",
    "    rotated coordinate to the global coordinate system\n",
    "    input is angle in radians'''\n",
    "    A=np.zeros((2,2))\n",
    "    # your work here\n",
    "    \n",
    "    return A"
   ]
  },
  {
   "cell_type": "code",
   "execution_count": 3,
   "metadata": {},
   "outputs": [
    {
     "data": {
      "text/plain": [
       "array([[0., 0.],\n",
       "       [0., 0.]])"
      ]
     },
     "execution_count": 3,
     "metadata": {},
     "output_type": "execute_result"
    }
   ],
   "source": [
    "rotA(np.pi/4)\n"
   ]
  },
  {
   "cell_type": "markdown",
   "metadata": {},
   "source": [
    "![](https://learning.oreilly.com/library/view/computational-dynamics-3rd/9780470686157/figs/0335.png)\n",
    "\n",
    "![](https://learning.oreilly.com/library/view/computational-dynamics-3rd/9780470686157/figs/0336.png)\n",
    "\n",
    "Figs. 3.35-36 Slider crank mechanism and body coordinate systems."
   ]
  },
  {
   "cell_type": "markdown",
   "metadata": {},
   "source": [
    "# Computational Kinematics of Slider crank\n",
    "\n",
    "Here we will create the computational kinematics of the slider crank in Fig. 3.35-3.36 above.\n",
    "\n",
    "The first kinematic problem will be to drive the slider crank with a constant $\\dot{\\theta}^{2}$ constraint. \n",
    "\n",
    "Below we set up the function to return the constraint equations, \n",
    "\n",
    "$\\mathbf{C}(\\mathbf{q},t)$ = `C_slidercrank(q,t)`"
   ]
  },
  {
   "cell_type": "code",
   "execution_count": 4,
   "metadata": {},
   "outputs": [],
   "source": [
    "def links():\n",
    "    '''function to define lengths of links for bodies 2 and 3 \n",
    "    in Fig. 3.35-3.36'''\n",
    "    l2=0.075*2\n",
    "    l3=0.175*2\n",
    "    \n",
    "    return l2,l3\n",
    "\n",
    "def C_slidercrank(q,t):\n",
    "    '''12 constraint equations for 12 generalized coords\n",
    "       q=[R1x,R1y,a1,R2x,R2y,a2,R3x,R3y,a3,R4x,R4y,a4]\n",
    "       q=[R1,     a1,  R2,  ,a2,  R3,  ,a3,  R4,  ,a4]\n",
    "         [0,1     2    3,4   5    6,7   8    9,10  11]\n",
    "         \n",
    "          2/\\3\n",
    "          /  \\    slider-crank mechanism\n",
    "         1    4 \n",
    "        ^^^---------'''\n",
    "    #l2=1\n",
    "    #l3=1\n",
    "    l2,l3=links()\n",
    "    q=np.reshape(q,(12,-1))\n",
    "    C=np.zeros((12,1))\n",
    "    C[0:3]=q[0:3]\n",
    "    C[3:5]=q[3:5]+rotA(q[5][0])@np.array([[-l2/2],[0]])\n",
    "    C[5:7]=q[3:5]-q[6:8]+rotA(q[5][0])@np.array([[l2/2],[0]])-rotA(q[8][0])@np.array([[-l3/2],[0]])\n",
    "    C[7:9]=q[6:8]-q[9:11]+rotA(q[8][0])@np.array([[l3/2],[0]])-rotA(q[11][0])@np.array([[0],[0]])\n",
    "    C[9]=q[10]\n",
    "    C[10]=q[11]\n",
    "    C[11]=q[5]-pi/6-150*t\n",
    "    return C.reshape(12)\n"
   ]
  },
  {
   "cell_type": "markdown",
   "metadata": {},
   "source": [
    "Next, we set up the $12\\times 12$ Jacobian of \n",
    "\n",
    "1. each pin $\\mathbf{C_{q,~pin}}=\\frac{\\partial\\mathbf{C_{pin}}}{\\partial\\mathbf{q}}$=`Cq_pin`\n",
    "\n",
    "2. the total system: $\\mathbf{C_{q}}=\\frac{\\partial\\mathbf{C}}{\\partial\\mathbf{q}}$=`Cq_slidercrank`"
   ]
  },
  {
   "cell_type": "code",
   "execution_count": 5,
   "metadata": {},
   "outputs": [],
   "source": [
    "def A_theta(theta):\n",
    "    dAda=np.array([[-np.sin(theta), -np.cos(theta)],[np.cos(theta),-np.sin(theta)]])\n",
    "    return dAda\n",
    "\n",
    "def Cq_pin(u1,a1,u2,a2):\n",
    "    '''Jacobian of a pinned constraint for planar motion\n",
    "    inputs are positions of each body center, u1 and u2,\n",
    "    and each body angle, a1 and a2\n",
    "    In the generalized coordinates for body 1 and 2 they are inputs:\n",
    "    u1=R1=[x^1,y^1]\n",
    "    a1=theta^1\n",
    "    u2=R2=[x^2,y^2]\n",
    "    a2=theta^2'''\n",
    "    u1=np.reshape(u1,(2,-1))\n",
    "    u2=np.reshape(u2,(2,-1))\n",
    "    Cq_1=np.append(np.identity(2),A_theta(a1)@u1[0:2],axis=1)\n",
    "    Cq_2=np.append(-np.identity(2),-A_theta(a2)@u2[0:2],axis=1)\n",
    "    Cq_pin=np.append(Cq_1,Cq_2,axis=1)\n",
    "    return Cq_pin\n",
    "\n",
    "def Cq_slidercrank(q,t):\n",
    "    '''return Jacobian of C_slidercrank(q,t) = dC/dq_i\n",
    "       |dC1/dR1x dC1/dR1y ... dC12/da4 |\n",
    "       |dC2/dR1x dC2/dR1y ... dC12/da4 |\n",
    "       |... ..     .           ...     |\n",
    "       |            .                  |\n",
    "       |             .                 |\n",
    "       |dC12/dR1x ...         dC12/da4 |'''\n",
    "    #l2=1\n",
    "    #l3=1\n",
    "    l2,l3=links()\n",
    "    q=np.reshape(q,(12,-1))\n",
    "    Cq=np.zeros((12,12))\n",
    "    Cq[0:3,0:3]=np.identity(3)\n",
    "    Cq[3:5,0:6]=-Cq_pin(np.array([[0],[0]]),q[2][0],np.array([[-l2/2], [0]]),q[5][0])\n",
    "    Cq[5:7,3:9]=Cq_pin(np.array([[l2/2],[0]]),q[5][0],np.array([[-l3/2], [0]]),q[8][0])\n",
    "    Cq[7:9,6:12]=Cq_pin(np.array([[l3/2],[0]]),q[8][0],np.array([[0], [0]]),q[11][0])\n",
    "    Cq[9:11,10:12]=np.identity(2)\n",
    "    Cq[11,5]=1\n",
    "    return Cq"
   ]
  },
  {
   "cell_type": "markdown",
   "metadata": {},
   "source": [
    "Now, we solve for 1 full rotation of the driven crank. \n",
    "\n",
    "t= 0-360$^o$ = 0-2$\\pi$/150\n",
    "\n",
    "The solution requires an initial guess for the generalized coordinates, $\\mathbf{q}$, set as `q0`. It is updated at each timestep to find the next solution. "
   ]
  },
  {
   "cell_type": "code",
   "execution_count": 6,
   "metadata": {},
   "outputs": [
    {
     "name": "stderr",
     "output_type": "stream",
     "text": [
      "/opt/miniconda3/lib/python3.8/site-packages/scipy/optimize/minpack.py:175: RuntimeWarning: The iteration is not making good progress, as measured by the \n",
      "  improvement from the last ten iterations.\n",
      "  warnings.warn(msg, RuntimeWarning)\n"
     ]
    }
   ],
   "source": [
    "t=np.linspace(0,2*pi/150)\n",
    "q0=np.array([0,0,0, 0,0.5,pi/2, 0,0.5,-pi/3, 0,0,0])\n",
    "q=np.zeros((len(q0),len(t)))\n",
    "q[:,0]=q0\n",
    "for i,tt in enumerate(t):\n",
    "    q[:,i]=fsolve(lambda q: C_slidercrank(q,tt),q0,\\\n",
    "                    fprime= lambda q: Cq_slidercrank(q,tt))\n",
    "    q0=q[:,i]\n"
   ]
  },
  {
   "cell_type": "markdown",
   "metadata": {},
   "source": [
    "Now, we can create the same figures as Shabana ch 3\n",
    "\n",
    "![](https://learning.oreilly.com/library/view/computational-dynamics-3rd/9780470686157/figs/0337a.png)\n",
    "\n",
    "Fig. 3.37. Orientation of the connecting rod\n",
    "\n",
    "![](https://learning.oreilly.com/library/view/computational-dynamics-3rd/9780470686157/figs/0338a.png)\n",
    "\n",
    "Fig. 3.38. Displacement of the slider block"
   ]
  },
  {
   "cell_type": "code",
   "execution_count": 7,
   "metadata": {},
   "outputs": [
    {
     "data": {
      "text/plain": [
       "[<matplotlib.lines.Line2D at 0x7f0aa2d85e50>]"
      ]
     },
     "execution_count": 7,
     "metadata": {},
     "output_type": "execute_result"
    },
    {
     "data": {
      "image/png": "[encoded data removed]",
      "text/plain": [
       "<Figure size 432x288 with 1 Axes>"
      ]
     },
     "metadata": {
      "filenames": {
       "image/png": "/home/ryan/Documents/UConn/ME5180/me5180_S2021/advanced-dynamics/_build/jupyter_execute/homeworks/HW_07-kinematics_13_1.png"
      },
      "needs_background": "light"
     },
     "output_type": "display_data"
    }
   ],
   "source": [
    "plt.plot(q[5,:],q[8,:])\n",
    "#plt.plot(t,q[5,:]/pi*180)"
   ]
  },
  {
   "cell_type": "markdown",
   "metadata": {},
   "source": [
    "# Problem 2\n",
    "\n",
    "Recreate the displacement of the slider block graph in Fig. 3.38 from our solution."
   ]
  },
  {
   "cell_type": "code",
   "execution_count": 8,
   "metadata": {},
   "outputs": [],
   "source": [
    "from __future__ import print_function\n",
    "from ipywidgets import interact, interactive, fixed, interact_manual\n",
    "import ipywidgets as widgets"
   ]
  },
  {
   "cell_type": "code",
   "execution_count": 9,
   "metadata": {},
   "outputs": [],
   "source": [
    "def plot_shape(shape,dims,q):\n",
    "    if shape=='link':\n",
    "        Px=q[0]+np.array([dims[0]/2*np.cos(q[-1]),-dims[0]/2*np.cos(q[-1])])\n",
    "        Py=q[1]+np.array([dims[0]/2*np.sin(q[-1]),-dims[0]/2*np.sin(q[-1])])\n",
    "        l,= plt.plot(Px,Py,'o-')\n",
    "        return l\n",
    "    elif shape=='base':\n",
    "        Px=q[0]\n",
    "        Py=q[1]\n",
    "        l,=plt.plot(Px,Py,'s',markersize=20)\n",
    "        return l\n",
    "    else:\n",
    "        print('choose a \\'link\\' or \\'base\\' please')\n",
    "        return 0\n",
    "\n",
    "def plot_qs(q,shapes,dims,i):\n",
    "    qi=q[:,i]\n",
    "    f=plt.figure()\n",
    "    if len(qi)/3 !=len(shapes):\n",
    "        print('len(q) is %i. It needs %i more shapes '%(len(qi),len(qi)/3-len(shapes)))\n",
    "    elif len(qi)/3==len(shapes):\n",
    "        for i,s in enumerate(shapes):\n",
    "            plot_shape(s,dims[i],qi[3*i:3*i+3])\n",
    "            plt.plot(q[3*i,:],q[3*i+1,:])\n",
    "        a=f.gca()\n",
    "        l2,l3=links()\n",
    "        plt.title('Angle 2 = %1.1f deg'%(qi[5]*180/pi))\n",
    "        plt.xlabel('X (m)')\n",
    "        plt.ylabel('Y (m)')\n",
    "        a.axis([-l2*1.1, (l2+l3)*1.1, -l2*1.5, l2*1.5])\n",
    "    #return f\n",
    "    \n",
    "    "
   ]
  },
  {
   "cell_type": "code",
   "execution_count": 10,
   "metadata": {},
   "outputs": [
    {
     "data": {
      "image/png": "[encoded data removed]",
      "text/plain": [
       "<Figure size 432x288 with 1 Axes>"
      ]
     },
     "metadata": {
      "filenames": {
       "image/png": "/home/ryan/Documents/UConn/ME5180/me5180_S2021/advanced-dynamics/_build/jupyter_execute/homeworks/HW_07-kinematics_17_0.png"
      },
      "needs_background": "light"
     },
     "output_type": "display_data"
    }
   ],
   "source": [
    "l2,l3=links()\n",
    "f=plot_qs(q,['base','link','link','base'],[[ ],[l2],[l3],[ ]],0)"
   ]
  },
  {
   "cell_type": "code",
   "execution_count": 11,
   "metadata": {},
   "outputs": [
    {
     "data": {
      "application/vnd.jupyter.widget-view+json": {
       "model_id": "3f86734f8c0347f6b7db926c75c487a2",
       "version_major": 2,
       "version_minor": 0
      },
      "text/plain": [
       "interactive(children=(IntSlider(value=24, description='i', max=49), Output()), _dom_classes=('widget-interact'…"
      ]
     },
     "metadata": {},
     "output_type": "display_data"
    },
    {
     "data": {
      "text/plain": [
       "<function __main__.<lambda>(i)>"
      ]
     },
     "execution_count": 11,
     "metadata": {},
     "output_type": "execute_result"
    }
   ],
   "source": [
    "interact(lambda i: plot_qs(q,['base','link','link','base'],[[ ],[l2],[l3],[ ]],i), i=(0,49))\n"
   ]
  },
  {
   "cell_type": "markdown",
   "metadata": {},
   "source": [
    "## Velocity and Acceleration\n",
    "\n",
    "Differentiating the constraint equations, $\\mathbf{Cq}=\\mathbf{0}$, \n",
    "\n",
    "$\\mathbf{C_q \\dot{q}}+\\mathbf{C}_t=\\mathbf{0}$ (3.119)\n",
    "\n",
    "where \n",
    "\n",
    "$\\mathbf{C}_t = \\left[\\frac{\\partial C_1}{\\partial t} \\frac{\\partial C_2}{\\partial t}\n",
    "... \\frac{\\partial C_n}{\\partial t}\\right]^T$ (3.120)\n",
    "\n",
    "Therefore, the velocity of each $\\mathbf{\\dot{q}_i}$ is solveed with\n",
    "\n",
    "$\\mathbf{C_q \\dot{q}}=-\\mathbf{C}_t$ (3.121)"
   ]
  },
  {
   "cell_type": "markdown",
   "metadata": {},
   "source": [
    "Differentiating $\\mathbf{Cq}=\\mathbf{0}$ twice leads to the acceleration equation\n",
    "\n",
    "$\\mathbf{C_q \\ddot{q}}+\n",
    "\\left(\\mathbf{C_q \\dot{q}}\\right)_{\\mathbf{q}}\\mathbf{\\dot{q}}+\n",
    "2\\mathbf{C}_{\\mathbf{q}t}\\mathbf{\\dot{q}}+\n",
    "\\mathbf{C}_{tt}=\\mathbf{0}$ (3.123)\n",
    "\n",
    "where the accelerations, $\\mathbf{\\ddot{q}_i}$ are solve with\n",
    "\n",
    "$\\mathbf{C_q \\ddot{q}}=\\mathbf{Q}_d$\n",
    "\n",
    "where \n",
    "\n",
    "$\\mathbf{Q}_d=-\\left(\\mathbf{C_q \\dot{q}}\\right)_{\\mathbf{q}}\\mathbf{\\dot{q}}-\n",
    "2\\mathbf{C}_{\\mathbf{q}t}\\mathbf{\\dot{q}}-\n",
    "\\mathbf{C}_{tt}$"
   ]
  },
  {
   "cell_type": "markdown",
   "metadata": {},
   "source": [
    "Here, we set up `vel_acc(q,t)` to return velocity and acceleration of $\\mathbf{q_{i}}$ components as $\\frac{d\\mathbf{q}}{dt}$ and $\\frac{d^2\\mathbf{q}}{dt^2}$ (`dq` and `ddq`, respectively)"
   ]
  },
  {
   "cell_type": "code",
   "execution_count": 12,
   "metadata": {},
   "outputs": [],
   "source": [
    "def vel_acc(q,t):\n",
    "    l2,l3=links()\n",
    "    Ct=np.zeros(q.shape)\n",
    "    Ct[-1]=150\n",
    "    dq=np.linalg.solve(Cq_slidercrank(q,t),Ct)\n",
    "    Qd=np.zeros(q.shape)\n",
    "    Qd[3:5]=np.reshape(dq[5]**2*rotA(q[5])@np.array([[-l2/2],[0]]),2)\n",
    "    Qd[5:7]=np.reshape(dq[5]**2*rotA(q[5])@np.array([[l2/2],[0]])-\\\n",
    "        dq[8]**2*rotA(q[8])@np.array([[-l3/2],[0]]),2)\n",
    "    Qd[7:9]=np.reshape(dq[8]**2*rotA(q[8])@np.array([[l3/2],[0]])-\\\n",
    "        dq[11]**2*rotA(q[11])@np.array([[0],[0]]),2)\n",
    "    ddq=np.linalg.solve(Cq_slidercrank(q,t),Qd)\n",
    "    return dq,ddq\n",
    "    "
   ]
  },
  {
   "cell_type": "code",
   "execution_count": 13,
   "metadata": {},
   "outputs": [],
   "source": [
    "qv=np.zeros(q.shape)\n",
    "qa=np.zeros(q.shape)\n",
    "for i in range(0,len(t)):\n",
    "    v,a=vel_acc(q[:,i],t[i])\n",
    "    qv[:,i]=v\n",
    "    qa[:,i]=a\n",
    "    "
   ]
  },
  {
   "cell_type": "code",
   "execution_count": 14,
   "metadata": {},
   "outputs": [
    {
     "data": {
      "text/plain": [
       "[<matplotlib.lines.Line2D at 0x7f0aa2b42fd0>]"
      ]
     },
     "execution_count": 14,
     "metadata": {},
     "output_type": "execute_result"
    },
    {
     "data": {
      "image/png": "[encoded data removed]",
      "text/plain": [
       "<Figure size 432x288 with 1 Axes>"
      ]
     },
     "metadata": {
      "filenames": {
       "image/png": "/home/ryan/Documents/UConn/ME5180/me5180_S2021/advanced-dynamics/_build/jupyter_execute/homeworks/HW_07-kinematics_24_1.png"
      },
      "needs_background": "light"
     },
     "output_type": "display_data"
    }
   ],
   "source": [
    "#plt.plot(q[5,:],qv[8,:])\n",
    "plt.plot(q[5,:],qv[9,:])"
   ]
  },
  {
   "cell_type": "code",
   "execution_count": 15,
   "metadata": {},
   "outputs": [
    {
     "data": {
      "text/plain": [
       "[<matplotlib.lines.Line2D at 0x7f0aa2a966a0>]"
      ]
     },
     "execution_count": 15,
     "metadata": {},
     "output_type": "execute_result"
    },
    {
     "data": {
      "image/png": "[encoded data removed]",
      "text/plain": [
       "<Figure size 432x288 with 1 Axes>"
      ]
     },
     "metadata": {
      "filenames": {
       "image/png": "/home/ryan/Documents/UConn/ME5180/me5180_S2021/advanced-dynamics/_build/jupyter_execute/homeworks/HW_07-kinematics_25_1.png"
      },
      "needs_background": "light"
     },
     "output_type": "display_data"
    }
   ],
   "source": [
    "\n",
    "plt.plot(q[5,:],qa[9,:])"
   ]
  },
  {
   "cell_type": "markdown",
   "metadata": {},
   "source": [
    "# Problem 3\n",
    "\n",
    "Change the constraints for the slidercrank such that \n",
    "\n",
    "$R^4_x-f(t)=0$\n",
    "\n",
    "where\n",
    "\n",
    "$f(t)=0.35-0.8l^2\\sin150t$\n",
    "\n",
    "Recreate Figs. 3.43-3.48 for the slidercrank.\n",
    "\n",
    "![](https://learning.oreilly.com/library/view/computational-dynamics-3rd/9780470686157/figs/0340a.png)\n",
    "![](https://learning.oreilly.com/library/view/computational-dynamics-3rd/9780470686157/figs/0340b.png)\n",
    "\n",
    "![](https://learning.oreilly.com/library/view/computational-dynamics-3rd/9780470686157/figs/0341a.png)\n",
    "![](https://learning.oreilly.com/library/view/computational-dynamics-3rd/9780470686157/figs/0341b.png)\n",
    "\n",
    "![](https://learning.oreilly.com/library/view/computational-dynamics-3rd/9780470686157/figs/0342a.png)\n",
    "![](https://learning.oreilly.com/library/view/computational-dynamics-3rd/9780470686157/figs/0342b.png)"
   ]
  },
  {
   "cell_type": "code",
   "execution_count": null,
   "metadata": {},
   "outputs": [],
   "source": []
  }
 ],
 "metadata": {
  "kernelspec": {
   "display_name": "Python 3",
   "language": "python",
   "name": "python3"
  },
  "language_info": {
   "codemirror_mode": {
    "name": "ipython",
    "version": 3
   },
   "file_extension": ".py",
   "mimetype": "text/x-python",
   "name": "python",
   "nbconvert_exporter": "python",
   "pygments_lexer": "ipython3",
   "version": "3.8.3"
  },
  "widgets": {
   "application/vnd.jupyter.widget-state+json": {
    "state": {
     "37adc4eb1d5e442bb62e8ae1d9cea5d9": {
      "model_module": "@jupyter-widgets/base",
      "model_module_version": "1.2.0",
      "model_name": "LayoutModel",
      "state": {
       "_model_module": "@jupyter-widgets/base",
       "_model_module_version": "1.2.0",
       "_model_name": "LayoutModel",
       "_view_count": null,
       "_view_module": "@jupyter-widgets/base",
       "_view_module_version": "1.2.0",
       "_view_name": "LayoutView",
       "align_content": null,
       "align_items": null,
       "align_self": null,
       "border": null,
       "bottom": null,
       "display": null,
       "flex": null,
       "flex_flow": null,
       "grid_area": null,
       "grid_auto_columns": null,
       "grid_auto_flow": null,
       "grid_auto_rows": null,
       "grid_column": null,
       "grid_gap": null,
       "grid_row": null,
       "grid_template_areas": null,
       "grid_template_columns": null,
       "grid_template_rows": null,
       "height": null,
       "justify_content": null,
       "justify_items": null,
       "left": null,
       "margin": null,
       "max_height": null,
       "max_width": null,
       "min_height": null,
       "min_width": null,
       "object_fit": null,
       "object_position": null,
       "order": null,
       "overflow": null,
       "overflow_x": null,
       "overflow_y": null,
       "padding": null,
       "right": null,
       "top": null,
       "visibility": null,
       "width": null
      }
     },
     "3f86734f8c0347f6b7db926c75c487a2": {
      "model_module": "@jupyter-widgets/controls",
      "model_module_version": "1.5.0",
      "model_name": "VBoxModel",
      "state": {
       "_dom_classes": [
        "widget-interact"
       ],
       "_model_module": "@jupyter-widgets/controls",
       "_model_module_version": "1.5.0",
       "_model_name": "VBoxModel",
       "_view_count": null,
       "_view_module": "@jupyter-widgets/controls",
       "_view_module_version": "1.5.0",
       "_view_name": "VBoxView",
       "box_style": "",
       "children": [
        "IPY_MODEL_6b112c8678f547939484b267302fb320",
        "IPY_MODEL_7a23aa43d04e4115b8501ebe700fe084"
       ],
       "layout": "IPY_MODEL_44fee6f35f9a4ed0b37ac825ce3eb05e"
      }
     },
     "44fee6f35f9a4ed0b37ac825ce3eb05e": {
      "model_module": "@jupyter-widgets/base",
      "model_module_version": "1.2.0",
      "model_name": "LayoutModel",
      "state": {
       "_model_module": "@jupyter-widgets/base",
       "_model_module_version": "1.2.0",
       "_model_name": "LayoutModel",
       "_view_count": null,
       "_view_module": "@jupyter-widgets/base",
       "_view_module_version": "1.2.0",
       "_view_name": "LayoutView",
       "align_content": null,
       "align_items": null,
       "align_self": null,
       "border": null,
       "bottom": null,
       "display": null,
       "flex": null,
       "flex_flow": null,
       "grid_area": null,
       "grid_auto_columns": null,
       "grid_auto_flow": null,
       "grid_auto_rows": null,
       "grid_column": null,
       "grid_gap": null,
       "grid_row": null,
       "grid_template_areas": null,
       "grid_template_columns": null,
       "grid_template_rows": null,
       "height": null,
       "justify_content": null,
       "justify_items": null,
       "left": null,
       "margin": null,
       "max_height": null,
       "max_width": null,
       "min_height": null,
       "min_width": null,
       "object_fit": null,
       "object_position": null,
       "order": null,
       "overflow": null,
       "overflow_x": null,
       "overflow_y": null,
       "padding": null,
       "right": null,
       "top": null,
       "visibility": null,
       "width": null
      }
     },
     "5c4e41122dbd4b059bb89eea7f94b471": {
      "model_module": "@jupyter-widgets/base",
      "model_module_version": "1.2.0",
      "model_name": "LayoutModel",
      "state": {
       "_model_module": "@jupyter-widgets/base",
       "_model_module_version": "1.2.0",
       "_model_name": "LayoutModel",
       "_view_count": null,
       "_view_module": "@jupyter-widgets/base",
       "_view_module_version": "1.2.0",
       "_view_name": "LayoutView",
       "align_content": null,
       "align_items": null,
       "align_self": null,
       "border": null,
       "bottom": null,
       "display": null,
       "flex": null,
       "flex_flow": null,
       "grid_area": null,
       "grid_auto_columns": null,
       "grid_auto_flow": null,
       "grid_auto_rows": null,
       "grid_column": null,
       "grid_gap": null,
       "grid_row": null,
       "grid_template_areas": null,
       "grid_template_columns": null,
       "grid_template_rows": null,
       "height": null,
       "justify_content": null,
       "justify_items": null,
       "left": null,
       "margin": null,
       "max_height": null,
       "max_width": null,
       "min_height": null,
       "min_width": null,
       "object_fit": null,
       "object_position": null,
       "order": null,
       "overflow": null,
       "overflow_x": null,
       "overflow_y": null,
       "padding": null,
       "right": null,
       "top": null,
       "visibility": null,
       "width": null
      }
     },
     "6b112c8678f547939484b267302fb320": {
      "model_module": "@jupyter-widgets/controls",
      "model_module_version": "1.5.0",
      "model_name": "IntSliderModel",
      "state": {
       "_dom_classes": [],
       "_model_module": "@jupyter-widgets/controls",
       "_model_module_version": "1.5.0",
       "_model_name": "IntSliderModel",
       "_view_count": null,
       "_view_module": "@jupyter-widgets/controls",
       "_view_module_version": "1.5.0",
       "_view_name": "IntSliderView",
       "continuous_update": true,
       "description": "i",
       "description_tooltip": null,
       "disabled": false,
       "layout": "IPY_MODEL_5c4e41122dbd4b059bb89eea7f94b471",
       "max": 49,
       "min": 0,
       "orientation": "horizontal",
       "readout": true,
       "readout_format": "d",
       "step": 1,
       "style": "IPY_MODEL_6eb1d1c174b44c86a00a862e39748d16",
       "value": 24
      }
     },
     "6eb1d1c174b44c86a00a862e39748d16": {
      "model_module": "@jupyter-widgets/controls",
      "model_module_version": "1.5.0",
      "model_name": "SliderStyleModel",
      "state": {
       "_model_module": "@jupyter-widgets/controls",
       "_model_module_version": "1.5.0",
       "_model_name": "SliderStyleModel",
       "_view_count": null,
       "_view_module": "@jupyter-widgets/base",
       "_view_module_version": "1.2.0",
       "_view_name": "StyleView",
       "description_width": "",
       "handle_color": null
      }
     },
     "7a23aa43d04e4115b8501ebe700fe084": {
      "model_module": "@jupyter-widgets/output",
      "model_module_version": "1.0.0",
      "model_name": "OutputModel",
      "state": {
       "_dom_classes": [],
       "_model_module": "@jupyter-widgets/output",
       "_model_module_version": "1.0.0",
       "_model_name": "OutputModel",
       "_view_count": null,
       "_view_module": "@jupyter-widgets/output",
       "_view_module_version": "1.0.0",
       "_view_name": "OutputView",
       "layout": "IPY_MODEL_37adc4eb1d5e442bb62e8ae1d9cea5d9",
       "msg_id": "",
       "outputs": [
        {
         "data": {
          "image/png": "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\n",
          "text/plain": "<Figure size 432x288 with 1 Axes>"
         },
         "metadata": {
          "needs_background": "light"
         },
         "output_type": "display_data"
        }
       ]
      }
     }
    },
    "version_major": 2,
    "version_minor": 0
   }
  }
 },
 "nbformat": 4,
 "nbformat_minor": 4
}