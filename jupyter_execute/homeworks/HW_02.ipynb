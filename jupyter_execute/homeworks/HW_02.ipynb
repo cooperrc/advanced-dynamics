{
 "cells": [
  {
   "cell_type": "code",
   "execution_count": 1,
   "metadata": {
    "collapsed": true
   },
   "outputs": [],
   "source": [
    "import numpy as np\n",
    "from numpy import sin,cos,pi\n",
    "import matplotlib.pyplot as plt"
   ]
  },
  {
   "cell_type": "code",
   "execution_count": 2,
   "metadata": {
    "collapsed": false
   },
   "outputs": [],
   "source": [
    "from __future__ import print_function\n",
    "from ipywidgets import interact, interactive, fixed, interact_manual\n",
    "import ipywidgets as widgets"
   ]
  },
  {
   "cell_type": "code",
   "execution_count": 3,
   "metadata": {},
   "outputs": [],
   "source": [
    "def setdefaults():\n",
    "  plt.rcParams.update({'font.size': 22})\n",
    "  plt.rcParams['lines.linewidth'] = 3"
   ]
  },
  {
   "cell_type": "code",
   "execution_count": 4,
   "metadata": {},
   "outputs": [],
   "source": [
    "setdefaults()"
   ]
  },
  {
   "cell_type": "markdown",
   "metadata": {},
   "source": [
    "# Example from class on plotting kinematic solutions\n",
    "\n",
    "![double pendulum](https://lh3.googleusercontent.com/_BXj81KX58ulVhgKCCawnuPmcPqAc_I3uXa0SoUY_AVVES0HxWKx7M6blXF55Ie4gvuOVUA_luOKM5eVfwH0pR6ECkCvNB23iU-ssW3Lw5LKwQtD1eFgpHlL8LTkd0-N8W-iTc73WujkQqJ3CcwJSzs_hZnC56EV9j6w3OP9XyzChcgsVp_enARDr4Btug3NnjrIVlP58KNUDwqVlUlNiXa03FDECoYyu6jkUkiHhCOyYMQ__h78tBbSXB9UcvC0cRGYF0FgnLtXZLxH1nnUaPJ-7aoblaQ0FlV-VONDXMNPnXDYhlGQdqxoQgx3Rfec9YJ_JJfDm6dQ-usKQpUHzCyhQ9vr86MkMolMj6kIZ8IbViVqHIb7rpAFwMUvByD4OJxmsUR-4QI8dSFa-OKlwT71LUTz5XUW6Af5ErPVZGG9wAaDtxnZkx1w7jFR6QxHWklHL6M--l3HBgUM9I2Pp2TzpTdDq_ofnpargsq4IdE6ZZU3Qj9h6GyKmM5IJOIKak4dVMraW_hoKV_F_skkew6GnHOOxXZ9fj9-u13brvsglRCn4sODbDYD187Ih0d5vqy0I_H3RLe_VcZ7hlZrZU-rIJdHA4-WD4IPF6MUSdlm0wIi2cz65gpR0gsrHgl5fFm_dNHJcJ3YrqKpw71181TZrFiLsJbUUFIOBv3XWeloFVtaA4Piyg=w943-h246-no)"
   ]
  },
  {
   "cell_type": "code",
   "execution_count": 5,
   "metadata": {
    "collapsed": false
   },
   "outputs": [],
   "source": [
    "t=np.linspace(0,2*pi/50,100); # create time varying from 0-0.126 s (or one period)\n",
    "x=20*sin(50*t);     # define x in terms of time \n",
    "dx=20*50*cos(50*t); # define dx/dt in terms of time (note dx=dx/dt)\n",
    "t1=0.2*pi*cos(50*t); # define theta1 (t1) \n",
    "dt1=-10*pi*sin(50*t); # define dtheta1/dt (dt1)\n",
    "t2=0.2*pi*sin(50*t-pi/3); # define theta2 (t2) ;\n",
    "dt2=10*pi*sin(50*t-pi/3); # define dtheta2/dt (dt2);\n",
    "L1=1;L2=1.5; # set lengths for L1 and L2 (none were given in problem so 1 and 1.5 mm were\n",
    "             # chosen arbitrarily"
   ]
  },
  {
   "cell_type": "code",
   "execution_count": 6,
   "metadata": {
    "collapsed": false
   },
   "outputs": [
    {
     "data": {
      "text/plain": [
       "Text(0.5, 1.0, 'End velocity')"
      ]
     },
     "execution_count": 6,
     "metadata": {},
     "output_type": "execute_result"
    },
    {
     "data": {
      "image/png": "[encoded data removed]",
      "text/plain": [
       "<Figure size 432x288 with 1 Axes>"
      ]
     },
     "metadata": {
      "filenames": {
       "image/png": "/home/ryan/Documents/UConn/ME5180/me5180_S2021/advanced-dynamics/_build/jupyter_execute/homeworks/HW_02_6_1.png"
      },
      "needs_background": "light"
     },
     "output_type": "display_data"
    }
   ],
   "source": [
    "rcc=np.array([x+L1*sin(t1),-L1*cos(t1)]) # position of connection between links\n",
    "rco=np.array([x+L1*sin(t1)+L2*sin(t2),-(L1*cos(t1)+L2*cos(t2))])    # create a row vectors of\n",
    "                                                                    # x-component and y-component of\n",
    "                                                                    # pendulum position C (r_C/O) \n",
    "vco=np.array([dx+L1*cos(t1)*dt1+L2*cos(t2)*dt2,\n",
    "     (L1*sin(t1)*dt1+L2*sin(t2)*dt2)]) # create row\n",
    "                                       # vectors of\n",
    "                                       # the x- and\n",
    "                                       # y-component\n",
    "                                       # velocity of\n",
    "                                       # point C\n",
    "\n",
    "plt.plot(t,vco[0,:],label=r'$v_x$')\n",
    "plt.plot(t,vco[1,:],label=r'$v_y$')\n",
    "plt.xlabel('time (s)')\n",
    "plt.ylabel('v (mm/s)')\n",
    "plt.legend(loc='center left', bbox_to_anchor=(1, 0.5))\n",
    "plt.title('End velocity')"
   ]
  },
  {
   "cell_type": "markdown",
   "metadata": {},
   "source": [
    "# Here I create interactive animation for 2-bar linkage\n",
    "\n",
    "1. Create function that plots the links at timesteps\n",
    "\n",
    "2. use `interact` to generate the interactive figure"
   ]
  },
  {
   "cell_type": "code",
   "execution_count": 7,
   "metadata": {},
   "outputs": [],
   "source": [
    "def plot_links(i,rcc,rco,t):\n",
    "    plt.plot([x[i],rcc[0,i],rco[0,i]],[0,rcc[1,i],rco[1,i]]) # plot lines for 2 links\n",
    "    plt.plot(rco[0,:],rco[1,:],'--'); # this plots all of the positions in the x-y-plane\n",
    "                                                #over time\n",
    "    plt.plot(rco[0,i],rco[1,i],'o');# this plots the position as a circle at\n",
    "                                            # timestep i\n",
    "    plt.axis([-30, 30, -3, 0]) # this sets the axis bounds "
   ]
  },
  {
   "cell_type": "code",
   "execution_count": 8,
   "metadata": {},
   "outputs": [
    {
     "data": {
      "application/vnd.jupyter.widget-view+json": {
       "model_id": "c3b92eecacc04a8480dacd9bfa35c357",
       "version_major": 2,
       "version_minor": 0
      },
      "text/plain": [
       "interactive(children=(IntSlider(value=49, description='i', max=99), Output()), _dom_classes=('widget-interact'…"
      ]
     },
     "metadata": {},
     "output_type": "display_data"
    },
    {
     "data": {
      "text/plain": [
       "<function __main__.<lambda>(i)>"
      ]
     },
     "execution_count": 8,
     "metadata": {},
     "output_type": "execute_result"
    }
   ],
   "source": [
    "interact(lambda i:plot_links(i,rcc,rco,t),i=(0,len(t)-1))"
   ]
  },
  {
   "cell_type": "markdown",
   "metadata": {},
   "source": [
    "# Problem 1\n",
    "\n",
    "![Pendulum on train](https://lh3.googleusercontent.com/v7sDF6RhXCLHFgyWnhFDJUFNSkLJ20PgutwdFPej-UGduDmzdBN20TZGM5DwxRzdVnZKWriulbaPWZ5BIHg-hvnC0Sy2AsT6W7z5tzU393hDxYVuzKvsj27ylU5Mgg9BoA68zp56reuR69qHHyN2p_egAZAeQZSeVaD1g-9xlXkODXt6TRc1RiH6OazH3j34LYoTgyTUUqkKSSZGf58duANe0jfh4qya8qsPymv9KmNEdBCB8pXjoKU4OhYT8682jM2NdPmYZfXPmOP6W4trG8yFHCdj8I04sc8CxQn3aUi3g1I2yLrfMbHM3sQ_E06fZfBRKLJuPabJSGZ6uf_ihVpspuJuWqOAO0p0M_MLfZLrLfjHJoxQo47t_mzzu1QNOV4e8sudRjXj09RdG5bWf9X5D8B4AjwYL-0hsttz7pRy0JyxW8xwSNAVMlyNxPZgN0_lWcwbNhHenwIofnuNqN468mdbi_dAXe_wBJ-rdoCnCBJu1mQR8T11JjDkLXqfWeJ2ie4y2e2bMyPWP6JJUPcSsWdooSMBw6CPB2Q0zvAaQoiMetWI_ucn3o8LmL3cmtvCHP8Qm8tCm0KMLdov4IxqiV_mTAgyjzWxpxXMbu8xHeIh1uuXpd5meJ4cVq4otjVK1wfWw_HewbwnFMWZW7y77EWjdEcck_Liy08bCsVZcWC9rV6LaA=w417-h265-no)\n",
    "\n",
    "The axis shown in Fig 1-5 has the following constants\n",
    "\n",
    "$v_x=1$ m/s. \n",
    "\n",
    "$m= 1$ kg\n",
    "\n",
    "$r= 300$ mm\n",
    "\n",
    "$l_2 = 1000$ mm\n",
    "\n",
    "$l_1 = 1200$ mm\n",
    "\n",
    "$s_2 = 10$ mm\n",
    "\n",
    "$v_y = 0$ m/s\n",
    "\n",
    "$a_x = 0$ m/s$^2$\n",
    "\n",
    "**(a)** Plot the angle of the pendulum for one full period of oscillation given $\\theta(0)=\\pi/12$ and $\\dot{\\theta}(0)=0$"
   ]
  },
  {
   "cell_type": "code",
   "execution_count": 9,
   "metadata": {},
   "outputs": [],
   "source": [
    "# insert code here"
   ]
  },
  {
   "cell_type": "markdown",
   "metadata": {},
   "source": [
    "**(b)** make an animation of the position of the mass, $m$, in terms of $X_1$ and $X_2$ for $t=0-0.5$s"
   ]
  },
  {
   "cell_type": "code",
   "execution_count": 10,
   "metadata": {},
   "outputs": [],
   "source": [
    "def my_pendulum(n,N):\n",
    "    '''function to plot position of pendulum at a given index, n,\n",
    "    out of N total steps between 0 and 0.5 s\n",
    "    in the global coordinate system X1-Y1 shown in Fig. 1-5\n",
    "    The path is plotted as a dashed line'''\n",
    "    N=100\n",
    "    t=np.linspace(0,0.5,N)\n",
    "    # your work for X1 and X2 in meters (or change units for plt.axis)\n",
    "    plt.plot(X1,Y1,'--',label = 'path')\n",
    "    plt.plot(X1[n],Y1[n],'o',label = 'path')\n",
    "    plt.axis([0,0.6, 0,1]) # set axis x= 0-0.6 m and y=0-1 m\n"
   ]
  },
  {
   "cell_type": "code",
   "execution_count": 11,
   "metadata": {},
   "outputs": [
    {
     "ename": "ValueError",
     "evalue": "cannot find widget or abbreviation for argument: 'n'",
     "output_type": "error",
     "traceback": [
      "\u001b[0;31m---------------------------------------------------------------------------\u001b[0m",
      "\u001b[0;31mValueError\u001b[0m                                Traceback (most recent call last)",
      "\u001b[0;32m<ipython-input-11-c40541691e22>\u001b[0m in \u001b[0;36m<module>\u001b[0;34m\u001b[0m\n\u001b[1;32m      1\u001b[0m \u001b[0;31m# once my_pendulum has position of the mass, m, the interact command below shouldn't need to change\u001b[0m\u001b[0;34m\u001b[0m\u001b[0;34m\u001b[0m\u001b[0;34m\u001b[0m\u001b[0m\n\u001b[0;32m----> 2\u001b[0;31m \u001b[0minteract\u001b[0m\u001b[0;34m(\u001b[0m\u001b[0;32mlambda\u001b[0m \u001b[0mn\u001b[0m\u001b[0;34m:\u001b[0m\u001b[0mmy_pendulum\u001b[0m\u001b[0;34m(\u001b[0m\u001b[0mn\u001b[0m\u001b[0;34m,\u001b[0m\u001b[0mN\u001b[0m\u001b[0;34m)\u001b[0m\u001b[0;34m,\u001b[0m\u001b[0mi\u001b[0m\u001b[0;34m=\u001b[0m\u001b[0;34m(\u001b[0m\u001b[0;36m0\u001b[0m\u001b[0;34m,\u001b[0m\u001b[0;36m99\u001b[0m\u001b[0;34m)\u001b[0m\u001b[0;34m)\u001b[0m\u001b[0;34m\u001b[0m\u001b[0;34m\u001b[0m\u001b[0m\n\u001b[0m",
      "\u001b[0;32m/opt/miniconda3/lib/python3.8/site-packages/ipywidgets/widgets/interaction.py\u001b[0m in \u001b[0;36m__call__\u001b[0;34m(self, _InteractFactory__interact_f, **kwargs)\u001b[0m\n\u001b[1;32m    526\u001b[0m         \u001b[0;31m#    def f(*args, **kwargs):\u001b[0m\u001b[0;34m\u001b[0m\u001b[0;34m\u001b[0m\u001b[0;34m\u001b[0m\u001b[0m\n\u001b[1;32m    527\u001b[0m         \u001b[0;31m#        ...\u001b[0m\u001b[0;34m\u001b[0m\u001b[0;34m\u001b[0m\u001b[0;34m\u001b[0m\u001b[0m\n\u001b[0;32m--> 528\u001b[0;31m         \u001b[0mw\u001b[0m \u001b[0;34m=\u001b[0m \u001b[0mself\u001b[0m\u001b[0;34m.\u001b[0m\u001b[0mwidget\u001b[0m\u001b[0;34m(\u001b[0m\u001b[0mf\u001b[0m\u001b[0;34m)\u001b[0m\u001b[0;34m\u001b[0m\u001b[0;34m\u001b[0m\u001b[0m\n\u001b[0m\u001b[1;32m    529\u001b[0m         \u001b[0;32mtry\u001b[0m\u001b[0;34m:\u001b[0m\u001b[0;34m\u001b[0m\u001b[0;34m\u001b[0m\u001b[0m\n\u001b[1;32m    530\u001b[0m             \u001b[0mf\u001b[0m\u001b[0;34m.\u001b[0m\u001b[0mwidget\u001b[0m \u001b[0;34m=\u001b[0m \u001b[0mw\u001b[0m\u001b[0;34m\u001b[0m\u001b[0;34m\u001b[0m\u001b[0m\n",
      "\u001b[0;32m/opt/miniconda3/lib/python3.8/site-packages/ipywidgets/widgets/interaction.py\u001b[0m in \u001b[0;36mwidget\u001b[0;34m(self, f)\u001b[0m\n\u001b[1;32m    442\u001b[0m             \u001b[0mThe\u001b[0m \u001b[0mfunction\u001b[0m \u001b[0mto\u001b[0m \u001b[0mwhich\u001b[0m \u001b[0mthe\u001b[0m \u001b[0minteractive\u001b[0m \u001b[0mwidgets\u001b[0m \u001b[0mare\u001b[0m \u001b[0mtied\u001b[0m\u001b[0;34m.\u001b[0m\u001b[0;34m\u001b[0m\u001b[0;34m\u001b[0m\u001b[0m\n\u001b[1;32m    443\u001b[0m         \"\"\"\n\u001b[0;32m--> 444\u001b[0;31m         \u001b[0;32mreturn\u001b[0m \u001b[0mself\u001b[0m\u001b[0;34m.\u001b[0m\u001b[0mcls\u001b[0m\u001b[0;34m(\u001b[0m\u001b[0mf\u001b[0m\u001b[0;34m,\u001b[0m \u001b[0mself\u001b[0m\u001b[0;34m.\u001b[0m\u001b[0mopts\u001b[0m\u001b[0;34m,\u001b[0m \u001b[0;34m**\u001b[0m\u001b[0mself\u001b[0m\u001b[0;34m.\u001b[0m\u001b[0mkwargs\u001b[0m\u001b[0;34m)\u001b[0m\u001b[0;34m\u001b[0m\u001b[0;34m\u001b[0m\u001b[0m\n\u001b[0m\u001b[1;32m    445\u001b[0m \u001b[0;34m\u001b[0m\u001b[0m\n\u001b[1;32m    446\u001b[0m     \u001b[0;32mdef\u001b[0m \u001b[0m__call__\u001b[0m\u001b[0;34m(\u001b[0m\u001b[0mself\u001b[0m\u001b[0;34m,\u001b[0m \u001b[0m__interact_f\u001b[0m\u001b[0;34m=\u001b[0m\u001b[0;32mNone\u001b[0m\u001b[0;34m,\u001b[0m \u001b[0;34m**\u001b[0m\u001b[0mkwargs\u001b[0m\u001b[0;34m)\u001b[0m\u001b[0;34m:\u001b[0m\u001b[0;34m\u001b[0m\u001b[0;34m\u001b[0m\u001b[0m\n",
      "\u001b[0;32m/opt/miniconda3/lib/python3.8/site-packages/ipywidgets/widgets/interaction.py\u001b[0m in \u001b[0;36m__init__\u001b[0;34m(self, _interactive__interact_f, _interactive__options, **kwargs)\u001b[0m\n\u001b[1;32m    186\u001b[0m         \u001b[0mself\u001b[0m\u001b[0;34m.\u001b[0m\u001b[0mauto_display\u001b[0m \u001b[0;34m=\u001b[0m \u001b[0m__options\u001b[0m\u001b[0;34m.\u001b[0m\u001b[0mget\u001b[0m\u001b[0;34m(\u001b[0m\u001b[0;34m\"auto_display\"\u001b[0m\u001b[0;34m,\u001b[0m \u001b[0;32mFalse\u001b[0m\u001b[0;34m)\u001b[0m\u001b[0;34m\u001b[0m\u001b[0;34m\u001b[0m\u001b[0m\n\u001b[1;32m    187\u001b[0m \u001b[0;34m\u001b[0m\u001b[0m\n\u001b[0;32m--> 188\u001b[0;31m         \u001b[0mnew_kwargs\u001b[0m \u001b[0;34m=\u001b[0m \u001b[0mself\u001b[0m\u001b[0;34m.\u001b[0m\u001b[0mfind_abbreviations\u001b[0m\u001b[0;34m(\u001b[0m\u001b[0mkwargs\u001b[0m\u001b[0;34m)\u001b[0m\u001b[0;34m\u001b[0m\u001b[0;34m\u001b[0m\u001b[0m\n\u001b[0m\u001b[1;32m    189\u001b[0m         \u001b[0;31m# Before we proceed, let's make sure that the user has passed a set of args+kwargs\u001b[0m\u001b[0;34m\u001b[0m\u001b[0;34m\u001b[0m\u001b[0;34m\u001b[0m\u001b[0m\n\u001b[1;32m    190\u001b[0m         \u001b[0;31m# that will lead to a valid call of the function. This protects against unspecified\u001b[0m\u001b[0;34m\u001b[0m\u001b[0;34m\u001b[0m\u001b[0;34m\u001b[0m\u001b[0m\n",
      "\u001b[0;32m/opt/miniconda3/lib/python3.8/site-packages/ipywidgets/widgets/interaction.py\u001b[0m in \u001b[0;36mfind_abbreviations\u001b[0;34m(self, kwargs)\u001b[0m\n\u001b[1;32m    286\u001b[0m             \u001b[0;32mfor\u001b[0m \u001b[0mname\u001b[0m\u001b[0;34m,\u001b[0m \u001b[0mvalue\u001b[0m\u001b[0;34m,\u001b[0m \u001b[0mdefault\u001b[0m \u001b[0;32min\u001b[0m \u001b[0m_yield_abbreviations_for_parameter\u001b[0m\u001b[0;34m(\u001b[0m\u001b[0mparam\u001b[0m\u001b[0;34m,\u001b[0m \u001b[0mkwargs\u001b[0m\u001b[0;34m)\u001b[0m\u001b[0;34m:\u001b[0m\u001b[0;34m\u001b[0m\u001b[0;34m\u001b[0m\u001b[0m\n\u001b[1;32m    287\u001b[0m                 \u001b[0;32mif\u001b[0m \u001b[0mvalue\u001b[0m \u001b[0;32mis\u001b[0m \u001b[0mempty\u001b[0m\u001b[0;34m:\u001b[0m\u001b[0;34m\u001b[0m\u001b[0;34m\u001b[0m\u001b[0m\n\u001b[0;32m--> 288\u001b[0;31m                     \u001b[0;32mraise\u001b[0m \u001b[0mValueError\u001b[0m\u001b[0;34m(\u001b[0m\u001b[0;34m'cannot find widget or abbreviation for argument: {!r}'\u001b[0m\u001b[0;34m.\u001b[0m\u001b[0mformat\u001b[0m\u001b[0;34m(\u001b[0m\u001b[0mname\u001b[0m\u001b[0;34m)\u001b[0m\u001b[0;34m)\u001b[0m\u001b[0;34m\u001b[0m\u001b[0;34m\u001b[0m\u001b[0m\n\u001b[0m\u001b[1;32m    289\u001b[0m                 \u001b[0mnew_kwargs\u001b[0m\u001b[0;34m.\u001b[0m\u001b[0mappend\u001b[0m\u001b[0;34m(\u001b[0m\u001b[0;34m(\u001b[0m\u001b[0mname\u001b[0m\u001b[0;34m,\u001b[0m \u001b[0mvalue\u001b[0m\u001b[0;34m,\u001b[0m \u001b[0mdefault\u001b[0m\u001b[0;34m)\u001b[0m\u001b[0;34m)\u001b[0m\u001b[0;34m\u001b[0m\u001b[0;34m\u001b[0m\u001b[0m\n\u001b[1;32m    290\u001b[0m         \u001b[0;32mreturn\u001b[0m \u001b[0mnew_kwargs\u001b[0m\u001b[0;34m\u001b[0m\u001b[0;34m\u001b[0m\u001b[0m\n",
      "\u001b[0;31mValueError\u001b[0m: cannot find widget or abbreviation for argument: 'n'"
     ]
    }
   ],
   "source": [
    "# once my_pendulum has position of the mass, m, the interact command below shouldn't need to change\n",
    "interact(lambda n:my_pendulum(n,N),i=(0,99))"
   ]
  },
  {
   "cell_type": "markdown",
   "metadata": {},
   "source": [
    "**(c)** Plot the angle $\\theta$ for one period of oscillation for 2 conditions, label your two lines on one graph:\n",
    "\n",
    "1. $a_x=$ 0 m/s$^2$\n",
    "\n",
    "2. $a_x=$ 5 m/s$^2$"
   ]
  },
  {
   "cell_type": "code",
   "execution_count": 12,
   "metadata": {},
   "outputs": [],
   "source": [
    "# your work here"
   ]
  }
 ],
 "metadata": {
  "kernelspec": {
   "display_name": "Python 3",
   "language": "python",
   "name": "python3"
  },
  "language_info": {
   "codemirror_mode": {
    "name": "ipython",
    "version": 3
   },
   "file_extension": ".py",
   "mimetype": "text/x-python",
   "name": "python",
   "nbconvert_exporter": "python",
   "pygments_lexer": "ipython3",
   "version": "3.8.3"
  }
 },
 "nbformat": 4,
 "nbformat_minor": 2
}