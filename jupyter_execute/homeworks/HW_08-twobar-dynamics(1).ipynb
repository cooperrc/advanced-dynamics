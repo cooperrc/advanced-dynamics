{
 "cells": [
  {
   "cell_type": "code",
   "execution_count": 1,
   "metadata": {},
   "outputs": [],
   "source": [
    "import numpy as np\n",
    "from numpy import sin,cos,pi\n",
    "from scipy.linalg import *\n",
    "from scipy.optimize import fsolve,root\n",
    "from scipy.integrate import solve_ivp\n",
    "import matplotlib.pyplot as plt"
   ]
  },
  {
   "cell_type": "code",
   "execution_count": 2,
   "metadata": {},
   "outputs": [],
   "source": [
    "def setdefaults():\n",
    "  plt.rcParams.update({'font.size': 22})\n",
    "  plt.rcParams['lines.linewidth'] = 3"
   ]
  },
  {
   "cell_type": "code",
   "execution_count": 3,
   "metadata": {},
   "outputs": [],
   "source": [
    "setdefaults()"
   ]
  },
  {
   "cell_type": "markdown",
   "metadata": {},
   "source": [
    "![](https://learning.oreilly.com/library/view/computational-dynamics-3rd/9780470686157/figs/0323.png)"
   ]
  },
  {
   "cell_type": "markdown",
   "metadata": {},
   "source": [
    "# HW - 08\n",
    "\n",
    "Create the equations of motion and solve the differential algebraic equations (DAE) for a two-bar system under the force of gravity. The system consists of two bars, $l^2=l^3$=1 m each $m^1=m^2$=1 kg. You can modify the solution for the one-bar system given in **A**.\n",
    "\n",
    "a. Use $\\theta^2$ and $\\theta^3$ as your independent coordinates\n",
    "\n",
    "b. Plot $\\theta^2$-vs-t and $\\theta^3$-vs-t if the system is released from rest at $\\theta^2=\\theta^3=0$\n",
    "\n",
    "c. Plot $\\theta^2$-vs-t and $\\theta^3$-vs-t if the system is released from rest at $\\theta^2=0$ and $\\theta^3=\\pi/2$\n",
    "\n",
    "d. Create an animation of (c)"
   ]
  },
  {
   "cell_type": "markdown",
   "metadata": {},
   "source": [
    "# A. Solution of link pinned to ground at origin"
   ]
  },
  {
   "cell_type": "markdown",
   "metadata": {},
   "source": [
    "Define some definitions for $A$, $A_\\theta$ and g"
   ]
  },
  {
   "cell_type": "code",
   "execution_count": 4,
   "metadata": {},
   "outputs": [],
   "source": [
    "def rotA(theta):\n",
    "    '''This function returns a 2x2 rotation matrix to convert the \n",
    "    rotated coordinate to the global coordinate system\n",
    "    input is angle in radians'''\n",
    "    A=np.zeros((2,2))\n",
    "    A=np.array([[np.cos(theta), -np.sin(theta)],\\\n",
    "                [np.sin(theta),np.cos(theta)]])\n",
    "    \n",
    "    return A\n",
    "\n",
    "def A_theta(theta):\n",
    "    dAda=np.array([[-np.sin(theta), -np.cos(theta)],[np.cos(theta),-np.sin(theta)]])\n",
    "    return dAda\n",
    "\n",
    "def g(system='ms'):\n",
    "    '''define gravity for m-s, ft-s,mm-s'''\n",
    "    if system=='ms':\n",
    "        return 9.81\n",
    "    elif system=='fts':\n",
    "        return 32.2\n",
    "    elif system=='mms':\n",
    "        return 9.81e3\n",
    "    else:\n",
    "        print('warning: system not defined yet, giving you 9.81 m/s/s')\n",
    "        return 9.81\n",
    "  "
   ]
  },
  {
   "cell_type": "markdown",
   "metadata": {},
   "source": [
    "Define constraint formed by a pin constraint"
   ]
  },
  {
   "cell_type": "code",
   "execution_count": 5,
   "metadata": {},
   "outputs": [],
   "source": [
    "def C_pin(q1,u1,q2,u2):\n",
    "    '''q1 is generalized coordinate of body 1 [R1x,R1y,theta1]\n",
    "       q2 is generalized coordinate of body 2 [R2x,R2y,theta2]'''\n",
    "    q1=q1.reshape(3,1)\n",
    "    q2=q2.reshape(3,1)\n",
    "    #print(rotA(q1[2,0])@u1)\n",
    "    #print(q1[0:2])\n",
    "    #print(q1[0:2]+rotA(q1[2,0])@u1)\n",
    "    Cpin=q1[0:2]+rotA(q1[2,0])@u1-q2[0:2]-rotA(q2[2,0])@u2\n",
    "    return Cpin"
   ]
  },
  {
   "cell_type": "code",
   "execution_count": 6,
   "metadata": {},
   "outputs": [
    {
     "data": {
      "text/plain": [
       "array([[-3.061617e-17],\n",
       "       [ 5.000000e-01]])"
      ]
     },
     "execution_count": 6,
     "metadata": {},
     "output_type": "execute_result"
    }
   ],
   "source": [
    "q0=np.array([0,1,np.pi/2])\n",
    "C_pin(q0[0:3],np.array([[-0.5],[0]]),np.array([[0],[0],[0]]),np.array([[0],[0]]))"
   ]
  },
  {
   "cell_type": "markdown",
   "metadata": {},
   "source": [
    "Define Jacobian of pin constraint"
   ]
  },
  {
   "cell_type": "code",
   "execution_count": 7,
   "metadata": {},
   "outputs": [],
   "source": [
    "def Cq_pin(u1,a1,u2,a2):\n",
    "    '''dR/dR = identity\n",
    "       dA/dtheta = Atheta'''\n",
    "    u1=np.reshape(u1,(2,-1))\n",
    "    u2=np.reshape(u2,(2,-1))\n",
    "    Cq_1=np.append(np.identity(2),A_theta(a1)@u1[0:2],axis=1)\n",
    "    Cq_2=np.append(-np.identity(2),-A_theta(a2)@u2[0:2],axis=1)\n",
    "    Cq_pin=np.append(Cq_1,Cq_2,axis=1)\n",
    "    return Cq_pin"
   ]
  },
  {
   "cell_type": "code",
   "execution_count": 8,
   "metadata": {},
   "outputs": [],
   "source": [
    "def C_bar(q,t,li):\n",
    "    C=np.zeros((2,1))\n",
    "    #print(C)\n",
    "    C=C_pin(q[0:3],np.array([[-li/2],[0]]),np.array([[0],[0],[0]]),np.array([[0],[0]]))\n",
    "    return C"
   ]
  },
  {
   "cell_type": "markdown",
   "metadata": {},
   "source": [
    "The bar uses the first three columns of the pin-constraint Jacobian \n",
    "\n",
    "(unless you add q1 for the ground link)"
   ]
  },
  {
   "cell_type": "code",
   "execution_count": 9,
   "metadata": {},
   "outputs": [],
   "source": [
    "def Cq_bar(q,t,li):\n",
    "    q=q.reshape(3,1)\n",
    "    Cq=Cq_pin(np.array([[-li/2],[0]]),q[2][0],np.array([[0],[0]]),0)\n",
    "    return Cq[0:2,0:3]"
   ]
  },
  {
   "cell_type": "markdown",
   "metadata": {},
   "source": [
    "$\\mathbf{B_i}=[-\\mathbf{C_{q_d}^{-1}C_{q_i}},~\\bar{I}]^T$"
   ]
  },
  {
   "cell_type": "code",
   "execution_count": 10,
   "metadata": {},
   "outputs": [],
   "source": [
    "def Bi_bar(q,t,li):\n",
    "    '''B.T*M*B-B.T*Qe = 0 '''\n",
    "    Cq = Cq_bar(q,t,li)\n",
    "    Cqd=Cq[0:2,0:2]\n",
    "    Cqi=Cq[0:2,2].reshape(2,1)\n",
    "    #print(-np.linalg.inv(Cqd)@Cqi)\n",
    "    Bi=np.vstack((-np.linalg.inv(Cqd)@Cqi,np.eye(1)))\n",
    "    return Bi"
   ]
  },
  {
   "cell_type": "markdown",
   "metadata": {},
   "source": [
    "Define equation of motion to return $\\dot{y}=[\\dot{\\theta}^2,~\\ddot{\\theta}^2]^T$ and $\\mathbf{q}$"
   ]
  },
  {
   "cell_type": "code",
   "execution_count": 11,
   "metadata": {},
   "outputs": [],
   "source": [
    "li=1\n",
    "q0=np.array([[li/2],[0],[0]])\n",
    "def eom_bar(t,y,li,mi):\n",
    "    global q0\n",
    "    q0[2]=y[0]\n",
    "    q=fsolve(lambda q: np.append(C_bar(q,t,li),q0[2]-y[0]).reshape(3,),q0, \\\n",
    "                  fprime= lambda q: np.vstack((Cq_bar(q,t,li),np.array([0,0,1]))))\n",
    "    q0=q\n",
    "    Bi=Bi_bar(q,t,li)\n",
    "    M=np.diag([mi,mi,mi*li**2/12])\n",
    "    Qe=np.array([[0],[-mi*g()],[0]])\n",
    "    dy=np.zeros(y.shape)\n",
    "    dy[0]=y[1]\n",
    "    dy[1]=solve(Bi.T@M@Bi,Bi.T@Qe)\n",
    "    return dy,q"
   ]
  },
  {
   "cell_type": "markdown",
   "metadata": {},
   "source": [
    "The `solve_ivp` only solves odes of the form `dy=f(t,y)` so we create an ode function that fits this form.\n",
    "\n",
    "Then, we can integrate and post-process."
   ]
  },
  {
   "cell_type": "code",
   "execution_count": 12,
   "metadata": {},
   "outputs": [],
   "source": [
    "li=1\n",
    "mi=1\n",
    "t=np.linspace(0,3)\n",
    "def ode_bar(t,y):\n",
    "    global li,mi\n",
    "    dy,q=eom_bar(t,y,li,mi)\n",
    "    return dy\n",
    "sol=solve_ivp(lambda t,y:ode_bar(t,y),t_span=[0,3],y0=[0,0],t_eval=t)"
   ]
  },
  {
   "cell_type": "code",
   "execution_count": 13,
   "metadata": {},
   "outputs": [
    {
     "data": {
      "text/plain": [
       "Text(0.5, 1.0, 'independent general coord theta')"
      ]
     },
     "execution_count": 13,
     "metadata": {},
     "output_type": "execute_result"
    },
    {
     "data": {
      "image/png": "[encoded data removed]",
      "text/plain": [
       "<Figure size 432x288 with 1 Axes>"
      ]
     },
     "metadata": {
      "filenames": {
       "image/png": "/home/ryan/Documents/UConn/ME5180/me5180_S2021/advanced-dynamics/_build/jupyter_execute/homeworks/HW_08-twobar-dynamics(1)_22_1.png"
      },
      "needs_background": "light"
     },
     "output_type": "display_data"
    }
   ],
   "source": [
    "plt.plot(sol.t,sol.y[0]*180/np.pi)\n",
    "plt.xlabel('time (s)')\n",
    "plt.ylabel('angle (deg)')\n",
    "plt.title('independent general coord theta')"
   ]
  },
  {
   "cell_type": "markdown",
   "metadata": {},
   "source": [
    "We can plug in our solution `sol.y` for $\\mathbf{q}$ as a function of time to get the other generalized coordinates.\n",
    "\n"
   ]
  },
  {
   "cell_type": "code",
   "execution_count": 14,
   "metadata": {},
   "outputs": [],
   "source": [
    "q=np.zeros((3,len(t)))\n",
    "for i,tt in enumerate(t):\n",
    "    dy,qi=eom_bar(t,sol.y[:,i],li,mi)\n",
    "    q[:,i]=qi"
   ]
  },
  {
   "cell_type": "code",
   "execution_count": 15,
   "metadata": {},
   "outputs": [
    {
     "data": {
      "text/plain": [
       "Text(0.5, 1.0, 'path of link COM')"
      ]
     },
     "execution_count": 15,
     "metadata": {},
     "output_type": "execute_result"
    },
    {
     "data": {
      "image/png": "[encoded data removed]",
      "text/plain": [
       "<Figure size 432x288 with 1 Axes>"
      ]
     },
     "metadata": {
      "filenames": {
       "image/png": "/home/ryan/Documents/UConn/ME5180/me5180_S2021/advanced-dynamics/_build/jupyter_execute/homeworks/HW_08-twobar-dynamics(1)_25_1.png"
      },
      "needs_background": "light"
     },
     "output_type": "display_data"
    }
   ],
   "source": [
    "plt.plot(q[0,:],q[1,:])\n",
    "plt.xlabel('x-position (m)')\n",
    "plt.ylabel('y-position (m)')\n",
    "plt.title('path of link COM')"
   ]
  },
  {
   "cell_type": "markdown",
   "metadata": {},
   "source": [
    "and even animate our results "
   ]
  },
  {
   "cell_type": "code",
   "execution_count": 16,
   "metadata": {},
   "outputs": [],
   "source": [
    "from __future__ import print_function\n",
    "from ipywidgets import interact, interactive, fixed, interact_manual\n",
    "import ipywidgets as widgets"
   ]
  },
  {
   "cell_type": "code",
   "execution_count": 17,
   "metadata": {},
   "outputs": [],
   "source": [
    "def plot_shape(shape,dims,q):\n",
    "    if shape=='link':\n",
    "        Px=q[0]+np.array([dims[0]/2*np.cos(q[-1]),-dims[0]/2*np.cos(q[-1])])\n",
    "        Py=q[1]+np.array([dims[0]/2*np.sin(q[-1]),-dims[0]/2*np.sin(q[-1])])\n",
    "        l,= plt.plot(Px,Py,'o-')\n",
    "        return l\n",
    "    elif shape=='base':\n",
    "        Px=q[0]\n",
    "        Py=q[1]\n",
    "        l,=plt.plot(Px,Py,'s',markersize=20)\n",
    "        return l\n",
    "    else:\n",
    "        print('choose a \\'link\\' or \\'base\\' please')\n",
    "        return 0\n",
    "\n",
    "def plot_qs(q,shapes,dims,i):\n",
    "    qi=q[:,i]\n",
    "    f=plt.figure()\n",
    "    if len(qi)/3 !=len(shapes):\n",
    "        print('len(q) is %i. It needs %i more shapes '%(len(qi),len(qi)/3-len(shapes)))\n",
    "    elif len(qi)/3==len(shapes):\n",
    "        for i,s in enumerate(shapes):\n",
    "            plot_shape(s,dims[i],qi[3*i:3*i+3])\n",
    "            plt.plot(q[3*i,:],q[3*i+1,:])\n",
    "        a=f.gca()\n",
    "        plt.title('Angle 2 = %1.1f deg'%(qi[2]*180/pi))\n",
    "        plt.xlabel('X (m)')\n",
    "        plt.ylabel('Y (m)')\n",
    "        a.axis([-1,1,-1,1])"
   ]
  },
  {
   "cell_type": "code",
   "execution_count": 18,
   "metadata": {},
   "outputs": [
    {
     "data": {
      "application/vnd.jupyter.widget-view+json": {
       "model_id": "14c81a36b9e4420db382ef2a167160f3",
       "version_major": 2,
       "version_minor": 0
      },
      "text/plain": [
       "interactive(children=(IntSlider(value=24, description='i', max=49), Output()), _dom_classes=('widget-interact'…"
      ]
     },
     "metadata": {},
     "output_type": "display_data"
    },
    {
     "data": {
      "text/plain": [
       "<function __main__.<lambda>(i)>"
      ]
     },
     "execution_count": 18,
     "metadata": {},
     "output_type": "execute_result"
    }
   ],
   "source": [
    "interact(lambda i: plot_qs(q,['link'],[[li]],i), i=(0,len(t)-1))"
   ]
  },
  {
   "cell_type": "code",
   "execution_count": null,
   "metadata": {},
   "outputs": [],
   "source": []
  }
 ],
 "metadata": {
  "kernelspec": {
   "display_name": "Python 3",
   "language": "python",
   "name": "python3"
  },
  "language_info": {
   "codemirror_mode": {
    "name": "ipython",
    "version": 3
   },
   "file_extension": ".py",
   "mimetype": "text/x-python",
   "name": "python",
   "nbconvert_exporter": "python",
   "pygments_lexer": "ipython3",
   "version": "3.8.3"
  },
  "widgets": {
   "application/vnd.jupyter.widget-state+json": {
    "state": {
     "03c3bb2ce28a4841903604340ffc75bd": {
      "model_module": "@jupyter-widgets/controls",
      "model_module_version": "1.5.0",
      "model_name": "SliderStyleModel",
      "state": {
       "_model_module": "@jupyter-widgets/controls",
       "_model_module_version": "1.5.0",
       "_model_name": "SliderStyleModel",
       "_view_count": null,
       "_view_module": "@jupyter-widgets/base",
       "_view_module_version": "1.2.0",
       "_view_name": "StyleView",
       "description_width": "",
       "handle_color": null
      }
     },
     "14c81a36b9e4420db382ef2a167160f3": {
      "model_module": "@jupyter-widgets/controls",
      "model_module_version": "1.5.0",
      "model_name": "VBoxModel",
      "state": {
       "_dom_classes": [
        "widget-interact"
       ],
       "_model_module": "@jupyter-widgets/controls",
       "_model_module_version": "1.5.0",
       "_model_name": "VBoxModel",
       "_view_count": null,
       "_view_module": "@jupyter-widgets/controls",
       "_view_module_version": "1.5.0",
       "_view_name": "VBoxView",
       "box_style": "",
       "children": [
        "IPY_MODEL_43d49f04e2b747699007d60219ad8887",
        "IPY_MODEL_cb0819daeebf48cab44bda392b7a9841"
       ],
       "layout": "IPY_MODEL_27cde2185b504b85b4c014ab91417b46"
      }
     },
     "27cde2185b504b85b4c014ab91417b46": {
      "model_module": "@jupyter-widgets/base",
      "model_module_version": "1.2.0",
      "model_name": "LayoutModel",
      "state": {
       "_model_module": "@jupyter-widgets/base",
       "_model_module_version": "1.2.0",
       "_model_name": "LayoutModel",
       "_view_count": null,
       "_view_module": "@jupyter-widgets/base",
       "_view_module_version": "1.2.0",
       "_view_name": "LayoutView",
       "align_content": null,
       "align_items": null,
       "align_self": null,
       "border": null,
       "bottom": null,
       "display": null,
       "flex": null,
       "flex_flow": null,
       "grid_area": null,
       "grid_auto_columns": null,
       "grid_auto_flow": null,
       "grid_auto_rows": null,
       "grid_column": null,
       "grid_gap": null,
       "grid_row": null,
       "grid_template_areas": null,
       "grid_template_columns": null,
       "grid_template_rows": null,
       "height": null,
       "justify_content": null,
       "justify_items": null,
       "left": null,
       "margin": null,
       "max_height": null,
       "max_width": null,
       "min_height": null,
       "min_width": null,
       "object_fit": null,
       "object_position": null,
       "order": null,
       "overflow": null,
       "overflow_x": null,
       "overflow_y": null,
       "padding": null,
       "right": null,
       "top": null,
       "visibility": null,
       "width": null
      }
     },
     "43d49f04e2b747699007d60219ad8887": {
      "model_module": "@jupyter-widgets/controls",
      "model_module_version": "1.5.0",
      "model_name": "IntSliderModel",
      "state": {
       "_dom_classes": [],
       "_model_module": "@jupyter-widgets/controls",
       "_model_module_version": "1.5.0",
       "_model_name": "IntSliderModel",
       "_view_count": null,
       "_view_module": "@jupyter-widgets/controls",
       "_view_module_version": "1.5.0",
       "_view_name": "IntSliderView",
       "continuous_update": true,
       "description": "i",
       "description_tooltip": null,
       "disabled": false,
       "layout": "IPY_MODEL_cac12f765bad43938e09a0a95992a5cd",
       "max": 49,
       "min": 0,
       "orientation": "horizontal",
       "readout": true,
       "readout_format": "d",
       "step": 1,
       "style": "IPY_MODEL_03c3bb2ce28a4841903604340ffc75bd",
       "value": 24
      }
     },
     "b7490bafd9ef4035b6460bb759779e8a": {
      "model_module": "@jupyter-widgets/base",
      "model_module_version": "1.2.0",
      "model_name": "LayoutModel",
      "state": {
       "_model_module": "@jupyter-widgets/base",
       "_model_module_version": "1.2.0",
       "_model_name": "LayoutModel",
       "_view_count": null,
       "_view_module": "@jupyter-widgets/base",
       "_view_module_version": "1.2.0",
       "_view_name": "LayoutView",
       "align_content": null,
       "align_items": null,
       "align_self": null,
       "border": null,
       "bottom": null,
       "display": null,
       "flex": null,
       "flex_flow": null,
       "grid_area": null,
       "grid_auto_columns": null,
       "grid_auto_flow": null,
       "grid_auto_rows": null,
       "grid_column": null,
       "grid_gap": null,
       "grid_row": null,
       "grid_template_areas": null,
       "grid_template_columns": null,
       "grid_template_rows": null,
       "height": null,
       "justify_content": null,
       "justify_items": null,
       "left": null,
       "margin": null,
       "max_height": null,
       "max_width": null,
       "min_height": null,
       "min_width": null,
       "object_fit": null,
       "object_position": null,
       "order": null,
       "overflow": null,
       "overflow_x": null,
       "overflow_y": null,
       "padding": null,
       "right": null,
       "top": null,
       "visibility": null,
       "width": null
      }
     },
     "cac12f765bad43938e09a0a95992a5cd": {
      "model_module": "@jupyter-widgets/base",
      "model_module_version": "1.2.0",
      "model_name": "LayoutModel",
      "state": {
       "_model_module": "@jupyter-widgets/base",
       "_model_module_version": "1.2.0",
       "_model_name": "LayoutModel",
       "_view_count": null,
       "_view_module": "@jupyter-widgets/base",
       "_view_module_version": "1.2.0",
       "_view_name": "LayoutView",
       "align_content": null,
       "align_items": null,
       "align_self": null,
       "border": null,
       "bottom": null,
       "display": null,
       "flex": null,
       "flex_flow": null,
       "grid_area": null,
       "grid_auto_columns": null,
       "grid_auto_flow": null,
       "grid_auto_rows": null,
       "grid_column": null,
       "grid_gap": null,
       "grid_row": null,
       "grid_template_areas": null,
       "grid_template_columns": null,
       "grid_template_rows": null,
       "height": null,
       "justify_content": null,
       "justify_items": null,
       "left": null,
       "margin": null,
       "max_height": null,
       "max_width": null,
       "min_height": null,
       "min_width": null,
       "object_fit": null,
       "object_position": null,
       "order": null,
       "overflow": null,
       "overflow_x": null,
       "overflow_y": null,
       "padding": null,
       "right": null,
       "top": null,
       "visibility": null,
       "width": null
      }
     },
     "cb0819daeebf48cab44bda392b7a9841": {
      "model_module": "@jupyter-widgets/output",
      "model_module_version": "1.0.0",
      "model_name": "OutputModel",
      "state": {
       "_dom_classes": [],
       "_model_module": "@jupyter-widgets/output",
       "_model_module_version": "1.0.0",
       "_model_name": "OutputModel",
       "_view_count": null,
       "_view_module": "@jupyter-widgets/output",
       "_view_module_version": "1.0.0",
       "_view_name": "OutputView",
       "layout": "IPY_MODEL_b7490bafd9ef4035b6460bb759779e8a",
       "msg_id": "",
       "outputs": [
        {
         "data": {
          "image/png": "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\n",
          "text/plain": "<Figure size 432x288 with 1 Axes>"
         },
         "metadata": {
          "needs_background": "light"
         },
         "output_type": "display_data"
        }
       ]
      }
     }
    },
    "version_major": 2,
    "version_minor": 0
   }
  }
 },
 "nbformat": 4,
 "nbformat_minor": 4
}