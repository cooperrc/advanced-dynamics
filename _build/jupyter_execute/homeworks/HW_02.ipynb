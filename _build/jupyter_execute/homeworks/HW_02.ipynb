{
 "cells": [
  {
   "cell_type": "code",
   "execution_count": 1,
   "id": "ec313584",
   "metadata": {},
   "outputs": [],
   "source": [
    "import numpy as np\n",
    "import matplotlib.pyplot as plt\n",
    "plt.style.use('fivethirtyeight')"
   ]
  },
  {
   "cell_type": "markdown",
   "id": "669585ee",
   "metadata": {},
   "source": [
    "# Homework #2\n",
    "\n",
    "![slider crank diagram: two links connected to a piston and the ground](../images/slider-crank.svg)"
   ]
  },
  {
   "cell_type": "markdown",
   "id": "ef8eef2f",
   "metadata": {},
   "source": [
    "Consider the slider-crank shown above. Two links are connected by pins to the ground at $A$ and the piston at $C$. Link AB can rotate around $A$ and link BC can rotate around $C$ and the piston maintains contact with the ground. \n",
    "\n",
    "Consider the following kinematic properties:\n",
    "\n",
    "- link AB $L_1 = 1~m$\n",
    "- link BC $L_2 = 1~m$\n",
    "- the angle of link AB rotates at a constant $\\dot{\\theta}_1 = 1~rad/s$\n"
   ]
  },
  {
   "cell_type": "markdown",
   "id": "172736bc",
   "metadata": {},
   "source": [
    "__1.__ How many degrees of freedom does the slider-crank have? _How many degrees of freedom and how many constraints?_"
   ]
  },
  {
   "cell_type": "markdown",
   "id": "5cf8a944",
   "metadata": {},
   "source": [
    "__2.__ The system begins to move with both links horizontal e.g. $\\theta_1 = \\theta_2 = 0^o$ and $\\mathbf{r}_c = 2~m \\hat{i}$. Find the positions of $A,~B,~and~C$ for one full rotation, $t = 0...2\\pi$."
   ]
  },
  {
   "cell_type": "markdown",
   "id": "758da1d2",
   "metadata": {},
   "source": [
    "__3.__ Plot the positions of $B~and~C$ vs time. "
   ]
  }
 ],
 "metadata": {
  "kernelspec": {
   "display_name": "Python 3",
   "language": "python",
   "name": "python3"
  },
  "language_info": {
   "codemirror_mode": {
    "name": "ipython",
    "version": 3
   },
   "file_extension": ".py",
   "mimetype": "text/x-python",
   "name": "python",
   "nbconvert_exporter": "python",
   "pygments_lexer": "ipython3",
   "version": "3.9.0"
  }
 },
 "nbformat": 4,
 "nbformat_minor": 5
}