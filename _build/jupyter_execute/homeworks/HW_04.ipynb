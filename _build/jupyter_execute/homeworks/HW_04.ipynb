{
 "cells": [
  {
   "cell_type": "code",
   "execution_count": 1,
   "metadata": {
    "lines_to_next_cell": 2,
    "tags": [
     "hide-cell"
    ]
   },
   "outputs": [],
   "source": [
    "import numpy as np\n",
    "from numpy import sin,cos,pi\n",
    "import matplotlib.pyplot as plt\n",
    "plt.style.use('fivethirtyeight')"
   ]
  },
  {
   "cell_type": "markdown",
   "metadata": {},
   "source": [
    "# Homework #4\n",
    "## Problem 1\n",
    "\n",
    "![Pendulum bob attached to springs](../images/spring_pendulum.svg)\n",
    "\n",
    "The pendulum bob of mass m, shown in the figure above, is suspended by an inextensible\n",
    "string from the point p. This point is free to move along a straight horizontal line under\n",
    "the action of the springs, each having a constant k. Assume that the mass is displaced\n",
    "only slightly from the equilibrium position and released. Neglecting the mass of the\n",
    "springs, show that the pendulum oscillates with a period of\n",
    "\n",
    "$P=2\\pi\\sqrt{\\frac{mg+2kr}{2kg}}$\n",
    "\n",
    "use a first-order Taylor series approximation for $\\sin\\theta\\approx\\theta$ and $\\cos\\theta\\approx 1$\n",
    "\n",
    "Solve for $\\theta(t)$ if m=0.1 kg, r=1 m, $\\theta(0)$=pi/6 rad, and $\\dot{\\theta}(0)$=0 rad/s for\n",
    "2 cases:\n",
    "  \n",
    "  a. k=20 N/m\n",
    "\n",
    "  b. k=$\\infty$ N/m\n",
    "\n",
    "  c. Plot the solutions of $\\theta(t)$ for 2 periods on one figure"
   ]
  },
  {
   "cell_type": "code",
   "execution_count": 2,
   "metadata": {},
   "outputs": [
    {
     "data": {
      "text/plain": [
       "Text(0, 0.5, 'angle (deg)')"
      ]
     },
     "execution_count": 2,
     "metadata": {},
     "output_type": "execute_result"
    },
    {
     "data": {
      "image/png": "[encoded data removed]",
      "text/plain": [
       "<Figure size 432x288 with 1 Axes>"
      ]
     },
     "metadata": {
      "filenames": {
       "image/png": "/home/ryan/Documents/UConn/ME5180/advanced-dynamics/_build/jupyter_execute/homeworks/HW_04_2_1.png"
      },
      "needs_background": "light"
     },
     "output_type": "display_data"
    }
   ],
   "source": [
    "l=1\n",
    "m=0.1 \n",
    "k=20 \n",
    "g=9.81\n",
    "P=2*pi/np.sqrt(2*k*g/(2*k*l+m*g))\n",
    "\n",
    "t=np.linspace(0,2*P);\n",
    "# your work\n",
    "# your new solutions, convert rad to deg with 180/pi\n",
    "a_inf = t # create solution for k=infty\n",
    "a_20 = t # create solution for k=20 N/m\n",
    "\n",
    "plt.plot(t,a_inf)\n",
    "plt.plot(t,a_20)\n",
    "plt.xlabel('time (s)')\n",
    "plt.ylabel('angle (deg)')"
   ]
  },
  {
   "cell_type": "code",
   "execution_count": 3,
   "metadata": {},
   "outputs": [],
   "source": [
    "from scipy.linalg import *\n",
    "from scipy.optimize import fsolve,root"
   ]
  },
  {
   "cell_type": "code",
   "execution_count": 4,
   "metadata": {},
   "outputs": [],
   "source": [
    "from scipy.integrate import solve_ivp # import the ordinary differential equation integrator in Python"
   ]
  },
  {
   "cell_type": "markdown",
   "metadata": {},
   "source": [
    "## Problem 2\n"
   ]
  },
  {
   "cell_type": "code",
   "execution_count": 5,
   "metadata": {
    "tags": [
     "hide-input"
    ]
   },
   "outputs": [
    {
     "data": {
      "image/jpeg": "[encoded data removed]",
      "text/html": [
       "\n",
       "<iframe\n",
       "    width=\"400\"\n",
       "    height=\"300\"\n",
       "    src=\"https://www.youtube.com/embed/eOvwiYRroso\"\n",
       "    frameborder=\"0\"\n",
       "    allowfullscreen\n",
       "\n",
       "></iframe>\n"
      ],
      "text/plain": [
       "<IPython.lib.display.YouTubeVideo at 0x7f17758f14c0>"
      ]
     },
     "execution_count": 5,
     "metadata": {
      "filenames": {
       "image/jpeg": "/home/ryan/Documents/UConn/ME5180/advanced-dynamics/_build/jupyter_execute/homeworks/HW_04_6_0.jpg"
      }
     },
     "output_type": "execute_result"
    }
   ],
   "source": [
    "from IPython.display import YouTubeVideo\n",
    "YouTubeVideo('eOvwiYRroso')"
   ]
  },
  {
   "cell_type": "markdown",
   "metadata": {},
   "source": [
    "![Compound pendulum bob attached to\n",
    "springs](../images/spring_compound.svg)\n",
    "\n",
    "The pendulum arm of mass m, shown in the figure above, is held in place by two springs. This point is free to move along a straight horizontal line under\n",
    "the action of the springs, each having a constant k. Assume that the mass is displaced\n",
    "only slightly from the equilibrium position and released. Neglecting the mass of the\n",
    "springs, solve for the nonlinear equations of motion and use the `solve_ivp` to determine $\\theta(t)$\n",
    "\n",
    "Solve for $\\theta(t)$ if m=1 kg, L=1 m, $\\theta(0)$=pi/6 rad, and $\\dot{\\theta}(0)$=0 rad/s for\n",
    "  \n",
    "k=20 N/m\n",
    "\n",
    "Plot the nonlinear solutions of $\\theta(t)$ for 2 periods on one figure"
   ]
  },
  {
   "cell_type": "code",
   "execution_count": 6,
   "metadata": {},
   "outputs": [],
   "source": [
    "def my_ode(t,r,):\n",
    "    \"\"\" Help documentation for \"my_ode\"\n",
    "     input is time, t (s) and r=[position p (m), angle (rad), velocity p (m/s), angle velocity (rad/s)] and time\n",
    "     output is dr=[velocity p (m/s), angle velocity (rad/s), accel p (m/s/s), angle accel (rad/s/s)] at time, t\n",
    "     the ODE is defined by:\n",
    "    \n",
    "     dr = f(t,r)\"\"\"\n",
    "    l=1\n",
    "    m=0.1 \n",
    "    k=20 \n",
    "    g=9.81\n",
    "    dr=np.zeros(np.size(r))\n",
    "    dr[0]=r[2]\n",
    "    dr[1]=r[3]\n",
    "    # your work here\n",
    "    # dr[2] =...\n",
    "    # dr[3] =... \n",
    "    return dr"
   ]
  },
  {
   "cell_type": "code",
   "execution_count": 7,
   "metadata": {},
   "outputs": [
    {
     "data": {
      "text/plain": [
       "Text(0, 0.5, 'angle (deg)')"
      ]
     },
     "execution_count": 7,
     "metadata": {},
     "output_type": "execute_result"
    },
    {
     "data": {
      "image/png": "[encoded data removed]",
      "text/plain": [
       "<Figure size 432x288 with 1 Axes>"
      ]
     },
     "metadata": {
      "filenames": {
       "image/png": "/home/ryan/Documents/UConn/ME5180/advanced-dynamics/_build/jupyter_execute/homeworks/HW_04_9_1.png"
      },
      "needs_background": "light"
     },
     "output_type": "display_data"
    }
   ],
   "source": [
    "P=2*pi/np.sqrt(2*k*g/(2*k*l+m*g))\n",
    "r=solve_ivp(my_ode,[0,2*P],[0, pi/6,0,0]); # default = 'RK45'\n",
    "plt.plot(r.t,r.y[1]*180/pi,'o',label='nonlinear') # <-------------- your new plot, convert rad to deg with 180/pi\n",
    "plt.legend(loc='center left', bbox_to_anchor=(1, 0.5))\n",
    "plt.xlabel('time (s)')\n",
    "plt.ylabel('angle (deg)')"
   ]
  }
 ],
 "metadata": {
  "kernelspec": {
   "display_name": "Python 3",
   "language": "python",
   "name": "python3"
  },
  "language_info": {
   "codemirror_mode": {
    "name": "ipython",
    "version": 3
   },
   "file_extension": ".py",
   "mimetype": "text/x-python",
   "name": "python",
   "nbconvert_exporter": "python",
   "pygments_lexer": "ipython3",
   "version": "3.9.0"
  }
 },
 "nbformat": 4,
 "nbformat_minor": 4
}