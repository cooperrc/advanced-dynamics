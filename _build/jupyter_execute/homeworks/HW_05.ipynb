{
 "cells": [
  {
   "cell_type": "code",
   "execution_count": 1,
   "metadata": {},
   "outputs": [],
   "source": [
    "import numpy as np\n",
    "from numpy import sin,cos,pi\n",
    "import matplotlib.pyplot as plt\n",
    "from scipy.integrate import solve_ivp # import the ordinary differential equation integrator in Python\n",
    "plt.style.use('fivethirtyeight')"
   ]
  },
  {
   "cell_type": "markdown",
   "metadata": {},
   "source": [
    "# Homework #5\n",
    "\n",
    "![Whirling Roller-coaster](../images/roller_coaster.svg)\n",
    "\n",
    "A roller coaster is being designed on a parabolic track that rotates at a constant\n",
    "speed as seen in the figure above. Assume the cart rolls on the track as a frictionless\n",
    "point-mass of 100-kg. Determine the equations of motion in terms of the distance from the\n",
    "lowest point, $q_1=x_2$. \n",
    "\n",
    "  a. What is the kinetic energy of the cart?\n",
    "\n",
    "  b. What is the potential energy of the cart?\n",
    "\n",
    "  c. What is the equation of motion for the cart?\n",
    "\n",
    "## 1. Create a function, `cart_ode`, that represents the equation of motion for the car in terms of $x_2$"
   ]
  },
  {
   "cell_type": "code",
   "execution_count": 2,
   "metadata": {},
   "outputs": [],
   "source": [
    "def cart_ode(t,r,w):\n",
    "    '''\n",
    "    cart_ode(t,r,w)\n",
    "    \n",
    "    Set of 2 ODEs that return dx2/dt and d^2x2/dt^2 with input\n",
    "    x2 and dx2/dt, dr/dt = f(t,r)\n",
    "    Parameters\n",
    "    ----------\n",
    "    t: current time\n",
    "    r: current state [x, dx]\n",
    "    w: system rotation rate [rad/s]\n",
    "    Returns\n",
    "    -------\n",
    "    dy: derivative of current state [dx, ddx]\n",
    "    '''\n",
    "    dr=np.zeros(np.shape(r))\n",
    "    dr[0] = r[1]\n",
    "    dr[1] #= ... your equation here\n",
    "    return dr"
   ]
  },
  {
   "cell_type": "markdown",
   "metadata": {},
   "source": [
    "## 2. Solve the `cart_ode` initial value problem for x(0)=10 m, dx/dt(0)=0 m/s and $\\omega$=0 rad/s"
   ]
  },
  {
   "cell_type": "code",
   "execution_count": 3,
   "metadata": {},
   "outputs": [],
   "source": [
    "x0=10\n",
    "v0=0\n",
    "w=0 # rad/s\n",
    "end_time=10 # choose an end time that displays one full period\n",
    "\n",
    "r0 = solve_ivp(lambda t,r: cart_ode(t,r,w),[0, end_time],[x0,v0])"
   ]
  },
  {
   "cell_type": "markdown",
   "metadata": {},
   "source": [
    "## 3. Solve the `cart_ode` initial value problem for x(0)=3 m, dx/dt(0)=0 m/s and $\\omega$=1 rad/s"
   ]
  },
  {
   "cell_type": "code",
   "execution_count": 4,
   "metadata": {},
   "outputs": [],
   "source": [
    "x0=10\n",
    "v0=0\n",
    "w=3\n",
    "end_time=10 # choose an end time that displays one full period\n",
    "\n",
    "r1 = solve_ivp(lambda t,r: cart_ode(t,r,w),[0, end_time],[x0,v0])"
   ]
  },
  {
   "cell_type": "markdown",
   "metadata": {},
   "source": [
    "## 4. Solve the `cart_ode` initial value problem for x(0)=3 m, dx/dt(0)=0 m/s and $\\omega$=2 rad/s"
   ]
  },
  {
   "cell_type": "code",
   "execution_count": 5,
   "metadata": {},
   "outputs": [],
   "source": [
    "x0=10\n",
    "v0=0\n",
    "w=6\n",
    "end_time=10 # choose an end time that displays one full period\n",
    "\n",
    "r2 = solve_ivp(lambda t,r: cart_ode(t,r,w),[0, end_time],[x0,v0])"
   ]
  },
  {
   "cell_type": "markdown",
   "metadata": {},
   "source": [
    "## 5. Plot the three solutions together"
   ]
  },
  {
   "cell_type": "code",
   "execution_count": null,
   "metadata": {},
   "outputs": [],
   "source": []
  }
 ],
 "metadata": {
  "kernelspec": {
   "display_name": "Python 3",
   "language": "python",
   "name": "python3"
  },
  "language_info": {
   "codemirror_mode": {
    "name": "ipython",
    "version": 3
   },
   "file_extension": ".py",
   "mimetype": "text/x-python",
   "name": "python",
   "nbconvert_exporter": "python",
   "pygments_lexer": "ipython3",
   "version": "3.9.12"
  }
 },
 "nbformat": 4,
 "nbformat_minor": 4
}